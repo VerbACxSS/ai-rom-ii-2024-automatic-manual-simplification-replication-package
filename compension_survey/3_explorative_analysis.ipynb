{
 "cells": [
  {
   "cell_type": "markdown",
   "metadata": {
    "id": "8jZdcPoQ7D6j"
   },
   "source": [
    "# Config"
   ]
  },
  {
   "cell_type": "code",
   "execution_count": 1,
   "metadata": {
    "executionInfo": {
     "elapsed": 7,
     "status": "ok",
     "timestamp": 1725041881257,
     "user": {
      "displayName": "Marco Russodivito",
      "userId": "05013084347772678948"
     },
     "user_tz": -120
    },
    "id": "ufTGFU_J4BVs"
   },
   "outputs": [],
   "source": [
    "import pandas as pd\n",
    "\n",
    "from matplotlib import pyplot as plt"
   ]
  },
  {
   "cell_type": "markdown",
   "metadata": {
    "id": "gcuC0ev4lv6s"
   },
   "source": [
    "# Utils"
   ]
  },
  {
   "cell_type": "code",
   "execution_count": 2,
   "metadata": {
    "executionInfo": {
     "elapsed": 405,
     "status": "ok",
     "timestamp": 1725042004680,
     "user": {
      "displayName": "Marco Russodivito",
      "userId": "05013084347772678948"
     },
     "user_tz": -120
    },
    "id": "M4kMLa_px1yn"
   },
   "outputs": [],
   "source": [
    "def barplot(kind, all, regular, foreigner, administrative):\n",
    "  fig, axs = plt.subplots(1, 3, sharey=True, figsize=(12, 4))\n",
    "\n",
    "  if kind == 'survey_time':\n",
    "    number_ranges = [0, 20, 30, 40, 60, 9999999]\n",
    "    number_labels = ['10-20 min', '20-30 min', '30-40 min', '40-60 min', '> 60 min']\n",
    "  elif kind == 'sessions':\n",
    "    number_ranges = [0, 1, 2, 3, 9999999]\n",
    "    number_labels = ['1', '2', '3', '> 3']\n",
    "\n",
    "  # pd.cut(all, bins=number_ranges).value_counts().sort_index().plot(kind='bar', ax=axs[0])\n",
    "  pd.cut(regular, bins=number_ranges).value_counts().sort_index().plot(kind='bar', ax=axs[0])\n",
    "  pd.cut(foreigner, bins=number_ranges).value_counts().sort_index().plot(kind='bar', ax=axs[1])\n",
    "  pd.cut(administrative, bins=number_ranges).value_counts().sort_index().plot(kind='bar', ax=axs[2])\n",
    "\n",
    "  # axs[0].set_title('ALL')\n",
    "  axs[0].set_title('Cittadini')\n",
    "  axs[1].set_title('Non madrelingua')\n",
    "  axs[2].set_title('Amministrativi')\n",
    "\n",
    "  for ax in axs.flatten():\n",
    "    ax.set_xlabel('')\n",
    "    ax.set_ylabel('')\n",
    "    ax.set_xticklabels(number_labels)\n",
    "    for container in ax.containers:\n",
    "      ax.bar_label(container)\n",
    "\n",
    "  plt.show()\n",
    "\n",
    "\n",
    "def dual_barplot(kind, all, regular, foreigner, administrative):\n",
    "  fig, axs = plt.subplots(2, 4, sharey=True, figsize=(12, 6))\n",
    "\n",
    "  if kind == 'reading_time':\n",
    "    number_ranges = [0, 2, 3, 4, 5, 10, 15, 30, 9999999]\n",
    "    number_labels = ['<2 min', '2-3 min', '3-4 min', '4-5 min', '5-10 min', '10-15 min', '15-30 min', '> 30 min']\n",
    "  elif kind == 'rate':\n",
    "    number_ranges = [0, 1, 2, 3, 4, 9999999]\n",
    "    number_labels = ['1', '2', '3', '4', '5']\n",
    "  elif kind == 'correctness':\n",
    "    number_ranges = [-9999999, 0, 1, 2, 3, 4, 5, 6]\n",
    "    number_labels = ['0', '1', '2', '3', '4', '5', '6']\n",
    "  elif kind == 'insecurity':\n",
    "    number_ranges = [-9999999, 0, 1, 2, 3, 9999999]\n",
    "    number_labels = ['0', '1', '2', '3', '4']\n",
    "\n",
    "  pd.concat([\n",
    "      pd.cut(all['d1o'], bins=number_ranges).value_counts().sort_index().rename('original'),\n",
    "      pd.cut(all['d1s'], bins=number_ranges).value_counts().sort_index().rename('simplified')\n",
    "  ], axis=1).plot(kind='bar', ax=axs[0, 0])\n",
    "  pd.concat([\n",
    "      pd.cut(all['d2o'], bins=number_ranges).value_counts().sort_index().rename('original'),\n",
    "      pd.cut(all['d2s'], bins=number_ranges).value_counts().sort_index().rename('simplified')\n",
    "  ], axis=1).plot(kind='bar', ax=axs[1, 0])\n",
    "\n",
    "  pd.concat([\n",
    "      pd.cut(regular['d1o'], bins=number_ranges).value_counts().sort_index().rename('original'),\n",
    "      pd.cut(regular['d1s'], bins=number_ranges).value_counts().sort_index().rename('simplified')\n",
    "  ], axis=1).plot(kind='bar', ax=axs[0, 1])\n",
    "  pd.concat([\n",
    "      pd.cut(regular['d2o'], bins=number_ranges).value_counts().sort_index().rename('original'),\n",
    "      pd.cut(regular['d2s'], bins=number_ranges).value_counts().sort_index().rename('simplified')\n",
    "  ], axis=1).plot(kind='bar', ax=axs[1, 1])\n",
    "\n",
    "  pd.concat([\n",
    "      pd.cut(foreigner['d1o'], bins=number_ranges).value_counts().sort_index().rename('original'),\n",
    "      pd.cut(foreigner['d1s'], bins=number_ranges).value_counts().sort_index().rename('simplified')\n",
    "  ], axis=1).plot(kind='bar', ax=axs[0, 2])\n",
    "  pd.concat([\n",
    "      pd.cut(foreigner['d2o'], bins=number_ranges).value_counts().sort_index().rename('original'),\n",
    "      pd.cut(foreigner['d2s'], bins=number_ranges).value_counts().sort_index().rename('simplified')\n",
    "  ], axis=1).plot(kind='bar', ax=axs[1, 2])\n",
    "\n",
    "  pd.concat([\n",
    "      pd.cut(administrative['d1o'], bins=number_ranges).value_counts().sort_index().rename('original'),\n",
    "      pd.cut(administrative['d1s'], bins=number_ranges).value_counts().sort_index().rename('simplified')\n",
    "  ], axis=1).plot(kind='bar', ax=axs[0, 3])\n",
    "  pd.concat([\n",
    "      pd.cut(administrative['d2o'], bins=number_ranges).value_counts().sort_index().rename('original'),\n",
    "      pd.cut(administrative['d2s'], bins=number_ranges).value_counts().sort_index().rename('simplified')\n",
    "  ], axis=1).plot(kind='bar', ax=axs[1, 3])\n",
    "\n",
    "  for ax in axs.flatten():\n",
    "    ax.set_xlabel('')\n",
    "    ax.set_ylabel('')\n",
    "    ax.set_xticklabels(number_labels)\n",
    "    for container in ax.containers:\n",
    "      ax.bar_label(container)\n",
    "\n",
    "  axs[0, 0].set_ylabel('D1')\n",
    "  axs[1, 0].set_ylabel('D2')\n",
    "\n",
    "  axs[0, 0].set_title('ALL')\n",
    "  axs[0, 1].set_title('REGULAR')\n",
    "  axs[0, 2].set_title('FOREIGNER')\n",
    "  axs[0, 3].set_title('ADMINISTRATIVE')\n",
    "\n",
    "  plt.show()\n",
    "\n",
    "\n",
    "def questions_barplot(all, regular, foreigner, administrative):\n",
    "  fig = plt.figure(constrained_layout=True, figsize=(12, 8))\n",
    "  subfigs = fig.subfigures(nrows=4, ncols=1)\n",
    "\n",
    "  subfigs[0].suptitle('ALL')\n",
    "  subfigs[1].suptitle('REGULAR')\n",
    "  subfigs[2].suptitle('FOREIGNER')\n",
    "  subfigs[3].suptitle('ADMINISTRATIVE')\n",
    "\n",
    "  # ALL\n",
    "  axs = subfigs[0].subplots(1, 6, sharey=True)\n",
    "  pd.concat([\n",
    "      all['q1_o'].value_counts().sort_index().rename('original'),\n",
    "      all['q1_s'].value_counts().sort_index().rename('simplified')\n",
    "  ], axis=1).plot(kind='bar', ax=axs[0], title='q1')\n",
    "  pd.concat([\n",
    "      all['q2_o'].value_counts().sort_index().rename('original'),\n",
    "      all['q2_s'].value_counts().sort_index().rename('simplified')\n",
    "  ], axis=1).plot(kind='bar', ax=axs[1], title='q2')\n",
    "  pd.concat([\n",
    "      all['q3_o'].value_counts().sort_index().rename('original'),\n",
    "      all['q3_s'].value_counts().sort_index().rename('simplified')\n",
    "  ], axis=1).plot(kind='bar', ax=axs[2], title='q3')\n",
    "  pd.concat([\n",
    "      all['q4_o'].value_counts().sort_index().rename('original'),\n",
    "      all['q4_s'].value_counts().sort_index().rename('simplified')\n",
    "  ], axis=1).plot(kind='bar', ax=axs[3], title='q4')\n",
    "  pd.concat([\n",
    "      all['q5_o'].value_counts().sort_index().rename('original'),\n",
    "      all['q5_s'].value_counts().sort_index().rename('simplified')\n",
    "  ], axis=1).plot(kind='bar', ax=axs[4], title='q5')\n",
    "  pd.concat([\n",
    "      all['q6_o'].value_counts().sort_index().rename('original'),\n",
    "      all['q6_s'].value_counts().sort_index().rename('simplified')\n",
    "  ], axis=1).plot(kind='bar', ax=axs[5], title='q6')\n",
    "  for ax in axs.flatten():\n",
    "    ax.set_xlabel('')\n",
    "    ax.set_ylabel('')\n",
    "    for container in ax.containers:\n",
    "      ax.bar_label(container)\n",
    "\n",
    "  # REGULAR\n",
    "  axs = subfigs[1].subplots(1, 6, sharey=True)\n",
    "  pd.concat([\n",
    "      regular['q1_o'].value_counts().sort_index().rename('original'),\n",
    "      regular['q1_s'].value_counts().sort_index().rename('simplified')\n",
    "  ], axis=1).plot(kind='bar', ax=axs[0], title='q1')\n",
    "  pd.concat([\n",
    "      regular['q2_o'].value_counts().sort_index().rename('original'),\n",
    "      regular['q2_s'].value_counts().sort_index().rename('simplified')\n",
    "  ], axis=1).plot(kind='bar', ax=axs[1], title='q2')\n",
    "  pd.concat([\n",
    "      regular['q3_o'].value_counts().sort_index().rename('original'),\n",
    "      regular['q3_s'].value_counts().sort_index().rename('simplified')\n",
    "  ], axis=1).plot(kind='bar', ax=axs[2], title='q3')\n",
    "  pd.concat([\n",
    "      regular['q4_o'].value_counts().sort_index().rename('original'),\n",
    "      regular['q4_s'].value_counts().sort_index().rename('simplified')\n",
    "  ], axis=1).plot(kind='bar', ax=axs[3], title='q4')\n",
    "  pd.concat([\n",
    "      regular['q5_o'].value_counts().sort_index().rename('original'),\n",
    "      regular['q5_s'].value_counts().sort_index().rename('simplified')\n",
    "  ], axis=1).plot(kind='bar', ax=axs[4], title='q5')\n",
    "  pd.concat([\n",
    "      regular['q6_o'].value_counts().sort_index().rename('original'),\n",
    "      regular['q6_s'].value_counts().sort_index().rename('simplified')\n",
    "  ], axis=1).plot(kind='bar', ax=axs[5], title='q6')\n",
    "  for ax in axs.flatten():\n",
    "    ax.set_xlabel('')\n",
    "    ax.set_ylabel('')\n",
    "    for container in ax.containers:\n",
    "      ax.bar_label(container)\n",
    "\n",
    "  # FOREIGNER\n",
    "  axs = subfigs[2].subplots(1, 6, sharey=True)\n",
    "  pd.concat([\n",
    "      foreigner['q1_o'].value_counts().sort_index().rename('original'),\n",
    "      foreigner['q1_s'].value_counts().sort_index().rename('simplified')\n",
    "  ], axis=1).plot(kind='bar', ax=axs[0], title='q1')\n",
    "  pd.concat([\n",
    "      foreigner['q2_o'].value_counts().sort_index().rename('original'),\n",
    "      foreigner['q2_s'].value_counts().sort_index().rename('simplified')\n",
    "  ], axis=1).plot(kind='bar', ax=axs[1], title='q2')\n",
    "  pd.concat([\n",
    "      foreigner['q3_o'].value_counts().sort_index().rename('original'),\n",
    "      foreigner['q3_s'].value_counts().sort_index().rename('simplified')\n",
    "  ], axis=1).plot(kind='bar', ax=axs[2], title='q3')\n",
    "  pd.concat([\n",
    "      foreigner['q4_o'].value_counts().sort_index().rename('original'),\n",
    "      foreigner['q4_s'].value_counts().sort_index().rename('simplified')\n",
    "  ], axis=1).plot(kind='bar', ax=axs[3], title='q4')\n",
    "  pd.concat([\n",
    "      foreigner['q5_o'].value_counts().sort_index().rename('original'),\n",
    "      foreigner['q5_s'].value_counts().sort_index().rename('simplified')\n",
    "  ], axis=1).plot(kind='bar', ax=axs[4], title='q5')\n",
    "  pd.concat([\n",
    "      foreigner['q6_o'].value_counts().sort_index().rename('original'),\n",
    "      foreigner['q6_s'].value_counts().sort_index().rename('simplified')\n",
    "  ], axis=1).plot(kind='bar', ax=axs[5], title='q6')\n",
    "  for ax in axs.flatten():\n",
    "    ax.set_xlabel('')\n",
    "    ax.set_ylabel('')\n",
    "    for container in ax.containers:\n",
    "      ax.bar_label(container)\n",
    "\n",
    "  # ADMINISTRATIVE\n",
    "  axs = subfigs[3].subplots(1, 6, sharey=True)\n",
    "  pd.concat([\n",
    "      administrative['q1_o'].value_counts().sort_index().rename('original'),\n",
    "      administrative['q1_s'].value_counts().sort_index().rename('simplified')\n",
    "  ], axis=1).plot(kind='bar', ax=axs[0], title='q1')\n",
    "  pd.concat([\n",
    "      administrative['q2_o'].value_counts().sort_index().rename('original'),\n",
    "      administrative['q2_s'].value_counts().sort_index().rename('simplified')\n",
    "  ], axis=1).plot(kind='bar', ax=axs[1], title='q2')\n",
    "  pd.concat([\n",
    "      administrative['q3_o'].value_counts().sort_index().rename('original'),\n",
    "      administrative['q3_s'].value_counts().sort_index().rename('simplified')\n",
    "  ], axis=1).plot(kind='bar', ax=axs[2], title='q3')\n",
    "  pd.concat([\n",
    "      administrative['q4_o'].value_counts().sort_index().rename('original'),\n",
    "      administrative['q4_s'].value_counts().sort_index().rename('simplified')\n",
    "  ], axis=1).plot(kind='bar', ax=axs[3], title='q4')\n",
    "  pd.concat([\n",
    "      administrative['q5_o'].value_counts().sort_index().rename('original'),\n",
    "      administrative['q5_s'].value_counts().sort_index().rename('simplified')\n",
    "  ], axis=1).plot(kind='bar', ax=axs[4], title='q5')\n",
    "  pd.concat([\n",
    "      administrative['q6_o'].value_counts().sort_index().rename('original'),\n",
    "      administrative['q6_s'].value_counts().sort_index().rename('simplified')\n",
    "  ], axis=1).plot(kind='bar', ax=axs[5], title='q6')\n",
    "  for ax in axs.flatten():\n",
    "    ax.set_xlabel('')\n",
    "    ax.set_ylabel('')\n",
    "    for container in ax.containers:\n",
    "      ax.bar_label(container)\n",
    "\n",
    "  plt.show()"
   ]
  },
  {
   "cell_type": "code",
   "execution_count": 3,
   "metadata": {
    "executionInfo": {
     "elapsed": 2,
     "status": "ok",
     "timestamp": 1725042505133,
     "user": {
      "displayName": "Marco Russodivito",
      "userId": "05013084347772678948"
     },
     "user_tz": -120
    },
    "id": "6qgnzNaMmFd1"
   },
   "outputs": [],
   "source": [
    "def boxplot(all, regular, foreigner, administrative):\n",
    "  fig, axs = plt.subplots(1, 3, sharey=True, figsize=(12, 4), tight_layout=True)\n",
    "\n",
    "  # all.plot(kind='box', ax=axs[0])\n",
    "  regular.plot(kind='box', ax=axs[0])\n",
    "  foreigner.plot(kind='box', ax=axs[1])\n",
    "  administrative.plot(kind='box', ax=axs[2])\n",
    "\n",
    "  for ax in axs.flatten():\n",
    "    ax.set_xlabel('')\n",
    "    ax.set_ylabel('')\n",
    "\n",
    "  # axs[0].set_title('ALL')\n",
    "  axs[0].set_title('Cittadini')\n",
    "  axs[1].set_title('Non madrelingua')\n",
    "  axs[2].set_title('Amministrativi')\n",
    "\n",
    "  plt.show()\n",
    "\n",
    "\n",
    "def dual_boxplot(all, regular, foreigner, administrative):\n",
    "  fig, axs = plt.subplots(1, 3, sharey=True, figsize=(12, 4))\n",
    "\n",
    "  # pd.concat([all['d1o'].rename('original'), all['d1s'].rename('simplified')], axis=1).plot(kind='box', ax=axs[0, 0])\n",
    "  pd.concat([regular['d1o'].rename('original'), regular['d1s'].rename('simplified')], axis=1).plot(kind='box', ax=axs[0])\n",
    "  pd.concat([foreigner['d1o'].rename('original'), foreigner['d1s'].rename('simplified')], axis=1).plot(kind='box', ax=axs[1])\n",
    "  pd.concat([administrative['d1o'].rename('original'), administrative['d1s'].rename('simplified')], axis=1).plot(kind='box', ax=axs[2])\n",
    "\n",
    "\n",
    "  for ax in axs.flatten():\n",
    "    ax.set_xlabel('')\n",
    "    ax.set_ylabel('')\n",
    "\n",
    "  # axs[0, 0].set_ylabel('D1')\n",
    "  # axs[1, 0].set_ylabel('D2')\n",
    "\n",
    "  # axs[0, 0].set_title('ALL')\n",
    "  axs[0].set_title('Cittadini')\n",
    "  axs[1].set_title('Non madrelingua')\n",
    "  axs[2].set_title('Amministrativi')\n",
    "\n",
    "  plt.show()\n",
    "\n",
    "  fig, axs = plt.subplots(1, 3, sharey=True, figsize=(12, 4))\n",
    "\n",
    "  # pd.concat([all['d2o'].rename('original'), all['d2s'].rename('simplified')], axis=1).plot(kind='box', ax=axs[0])\n",
    "  pd.concat([regular['d2o'].rename('original'), regular['d2s'].rename('simplified')], axis=1).plot(kind='box', ax=axs[0])\n",
    "  pd.concat([foreigner['d2o'].rename('original'), foreigner['d2s'].rename('simplified')], axis=1).plot(kind='box', ax=axs[1])\n",
    "  pd.concat([administrative['d2o'].rename('original'), administrative['d2s'].rename('simplified')], axis=1).plot(kind='box', ax=axs[2])\n",
    "\n",
    "  for ax in axs.flatten():\n",
    "    ax.set_xlabel('')\n",
    "    ax.set_ylabel('')\n",
    "\n",
    "  # axs[0, 0].set_ylabel('D1')\n",
    "  # axs[1, 0].set_ylabel('D2')\n",
    "\n",
    "  # axs[0, 0].set_title('ALL')\n",
    "  axs[0].set_title('Cittadini')\n",
    "  axs[1].set_title('Non madrelingua')\n",
    "  axs[2].set_title('Amministrativi')\n",
    "\n",
    "  plt.show()"
   ]
  },
  {
   "cell_type": "markdown",
   "metadata": {
    "id": "1Jx2S_SP_rzg"
   },
   "source": [
    "# Load data"
   ]
  },
  {
   "cell_type": "code",
   "execution_count": 4,
   "metadata": {
    "colab": {
     "base_uri": "https://localhost:8080/",
     "height": 255
    },
    "executionInfo": {
     "elapsed": 6,
     "status": "ok",
     "timestamp": 1725041881257,
     "user": {
      "displayName": "Marco Russodivito",
      "userId": "05013084347772678948"
     },
     "user_tz": -120
    },
    "id": "dHWGXHYIA0FU",
    "outputId": "d07706b8-a767-45a4-fbf8-8849ba8efd43"
   },
   "outputs": [
    {
     "data": {
      "text/html": [
       "<div>\n",
       "<style scoped>\n",
       "    .dataframe tbody tr th:only-of-type {\n",
       "        vertical-align: middle;\n",
       "    }\n",
       "\n",
       "    .dataframe tbody tr th {\n",
       "        vertical-align: top;\n",
       "    }\n",
       "\n",
       "    .dataframe thead th {\n",
       "        text-align: right;\n",
       "    }\n",
       "</style>\n",
       "<table border=\"1\" class=\"dataframe\">\n",
       "  <thead>\n",
       "    <tr style=\"text-align: right;\">\n",
       "      <th></th>\n",
       "      <th>id</th>\n",
       "      <th>participant_type</th>\n",
       "      <th>participant_group</th>\n",
       "      <th>duration</th>\n",
       "      <th>sessions</th>\n",
       "      <th>d1_reading_time</th>\n",
       "      <th>d1_q1</th>\n",
       "      <th>d1_q2</th>\n",
       "      <th>d1_q3</th>\n",
       "      <th>d1_q4</th>\n",
       "      <th>...</th>\n",
       "      <th>d2_rate</th>\n",
       "      <th>d2_correctness</th>\n",
       "      <th>d2_insecurity</th>\n",
       "      <th>d2_insecurity_count</th>\n",
       "      <th>age_range</th>\n",
       "      <th>education_fields</th>\n",
       "      <th>education_level</th>\n",
       "      <th>employment</th>\n",
       "      <th>employment_fields</th>\n",
       "      <th>italian_knowledge</th>\n",
       "    </tr>\n",
       "  </thead>\n",
       "  <tbody>\n",
       "    <tr>\n",
       "      <th>0</th>\n",
       "      <td>1</td>\n",
       "      <td>ADMINISTRATIVE</td>\n",
       "      <td>A</td>\n",
       "      <td>1020</td>\n",
       "      <td>1</td>\n",
       "      <td>499.972</td>\n",
       "      <td>1.0</td>\n",
       "      <td>3.0</td>\n",
       "      <td>1.0</td>\n",
       "      <td>1.0</td>\n",
       "      <td>...</td>\n",
       "      <td>2.0</td>\n",
       "      <td>5</td>\n",
       "      <td>False</td>\n",
       "      <td>0</td>\n",
       "      <td>25-34</td>\n",
       "      <td>JURIDICAL</td>\n",
       "      <td>BACHELOR</td>\n",
       "      <td>EMPLOYEE</td>\n",
       "      <td>ADMINISTRATIVE</td>\n",
       "      <td>M</td>\n",
       "    </tr>\n",
       "    <tr>\n",
       "      <th>1</th>\n",
       "      <td>10</td>\n",
       "      <td>ADMINISTRATIVE</td>\n",
       "      <td>B</td>\n",
       "      <td>985</td>\n",
       "      <td>1</td>\n",
       "      <td>383.870</td>\n",
       "      <td>1.0</td>\n",
       "      <td>3.0</td>\n",
       "      <td>3.0</td>\n",
       "      <td>1.0</td>\n",
       "      <td>...</td>\n",
       "      <td>3.0</td>\n",
       "      <td>3</td>\n",
       "      <td>False</td>\n",
       "      <td>0</td>\n",
       "      <td>35-44</td>\n",
       "      <td>OTHER</td>\n",
       "      <td>HIGH</td>\n",
       "      <td>EMPLOYEE</td>\n",
       "      <td>IT | OTHER</td>\n",
       "      <td>M</td>\n",
       "    </tr>\n",
       "    <tr>\n",
       "      <th>2</th>\n",
       "      <td>11</td>\n",
       "      <td>ADMINISTRATIVE</td>\n",
       "      <td>A</td>\n",
       "      <td>878</td>\n",
       "      <td>1</td>\n",
       "      <td>309.125</td>\n",
       "      <td>1.0</td>\n",
       "      <td>3.0</td>\n",
       "      <td>3.0</td>\n",
       "      <td>1.0</td>\n",
       "      <td>...</td>\n",
       "      <td>3.0</td>\n",
       "      <td>5</td>\n",
       "      <td>False</td>\n",
       "      <td>0</td>\n",
       "      <td>45-54</td>\n",
       "      <td>JURIDICAL</td>\n",
       "      <td>MASTER</td>\n",
       "      <td>EMPLOYEE</td>\n",
       "      <td>ADMINISTRATIVE</td>\n",
       "      <td>M</td>\n",
       "    </tr>\n",
       "    <tr>\n",
       "      <th>3</th>\n",
       "      <td>13</td>\n",
       "      <td>ADMINISTRATIVE</td>\n",
       "      <td>C</td>\n",
       "      <td>1016</td>\n",
       "      <td>1</td>\n",
       "      <td>416.598</td>\n",
       "      <td>1.0</td>\n",
       "      <td>3.0</td>\n",
       "      <td>1.0</td>\n",
       "      <td>1.0</td>\n",
       "      <td>...</td>\n",
       "      <td>3.0</td>\n",
       "      <td>5</td>\n",
       "      <td>False</td>\n",
       "      <td>0</td>\n",
       "      <td>45-54</td>\n",
       "      <td>OTHER</td>\n",
       "      <td>HIGH</td>\n",
       "      <td>EMPLOYEE</td>\n",
       "      <td>ADMINISTRATIVE</td>\n",
       "      <td>M</td>\n",
       "    </tr>\n",
       "    <tr>\n",
       "      <th>4</th>\n",
       "      <td>14</td>\n",
       "      <td>ADMINISTRATIVE</td>\n",
       "      <td>B</td>\n",
       "      <td>1138</td>\n",
       "      <td>1</td>\n",
       "      <td>323.449</td>\n",
       "      <td>1.0</td>\n",
       "      <td>3.0</td>\n",
       "      <td>2.0</td>\n",
       "      <td>1.0</td>\n",
       "      <td>...</td>\n",
       "      <td>3.0</td>\n",
       "      <td>3</td>\n",
       "      <td>False</td>\n",
       "      <td>0</td>\n",
       "      <td>55-64</td>\n",
       "      <td>JURIDICAL</td>\n",
       "      <td>MASTER</td>\n",
       "      <td>EMPLOYEE</td>\n",
       "      <td>ADMINISTRATIVE</td>\n",
       "      <td>M</td>\n",
       "    </tr>\n",
       "  </tbody>\n",
       "</table>\n",
       "<p>5 rows × 33 columns</p>\n",
       "</div>"
      ],
      "text/plain": [
       "   id participant_type participant_group  duration  sessions  d1_reading_time  \\\n",
       "0   1   ADMINISTRATIVE                 A      1020         1          499.972   \n",
       "1  10   ADMINISTRATIVE                 B       985         1          383.870   \n",
       "2  11   ADMINISTRATIVE                 A       878         1          309.125   \n",
       "3  13   ADMINISTRATIVE                 C      1016         1          416.598   \n",
       "4  14   ADMINISTRATIVE                 B      1138         1          323.449   \n",
       "\n",
       "   d1_q1  d1_q2  d1_q3  d1_q4  ...  d2_rate  d2_correctness  d2_insecurity  \\\n",
       "0    1.0    3.0    1.0    1.0  ...      2.0               5          False   \n",
       "1    1.0    3.0    3.0    1.0  ...      3.0               3          False   \n",
       "2    1.0    3.0    3.0    1.0  ...      3.0               5          False   \n",
       "3    1.0    3.0    1.0    1.0  ...      3.0               5          False   \n",
       "4    1.0    3.0    2.0    1.0  ...      3.0               3          False   \n",
       "\n",
       "   d2_insecurity_count  age_range  education_fields  education_level  \\\n",
       "0                    0      25-34         JURIDICAL         BACHELOR   \n",
       "1                    0      35-44             OTHER             HIGH   \n",
       "2                    0      45-54         JURIDICAL           MASTER   \n",
       "3                    0      45-54             OTHER             HIGH   \n",
       "4                    0      55-64         JURIDICAL           MASTER   \n",
       "\n",
       "   employment  employment_fields  italian_knowledge  \n",
       "0    EMPLOYEE     ADMINISTRATIVE                  M  \n",
       "1    EMPLOYEE         IT | OTHER                  M  \n",
       "2    EMPLOYEE     ADMINISTRATIVE                  M  \n",
       "3    EMPLOYEE     ADMINISTRATIVE                  M  \n",
       "4    EMPLOYEE     ADMINISTRATIVE                  M  \n",
       "\n",
       "[5 rows x 33 columns]"
      ]
     },
     "execution_count": 4,
     "metadata": {},
     "output_type": "execute_result"
    }
   ],
   "source": [
    "data_df = pd.read_csv(f'./final_data/filtered_participants.csv')\n",
    "data_df.head()"
   ]
  },
  {
   "cell_type": "code",
   "execution_count": 5,
   "metadata": {
    "colab": {
     "base_uri": "https://localhost:8080/",
     "height": 209
    },
    "executionInfo": {
     "elapsed": 5,
     "status": "ok",
     "timestamp": 1725041881257,
     "user": {
      "displayName": "Marco Russodivito",
      "userId": "05013084347772678948"
     },
     "user_tz": -120
    },
    "id": "rzrfpE2xFRFh",
    "outputId": "82b45122-7985-4ca6-d337-d830c0b4638b"
   },
   "outputs": [
    {
     "data": {
      "text/plain": [
       "participant_type\n",
       "REGULAR           41\n",
       "FOREIGNER         29\n",
       "ADMINISTRATIVE    15\n",
       "Name: count, dtype: int64"
      ]
     },
     "execution_count": 5,
     "metadata": {},
     "output_type": "execute_result"
    }
   ],
   "source": [
    "data_df['participant_type'].value_counts()"
   ]
  },
  {
   "cell_type": "markdown",
   "metadata": {
    "id": "cEuOUcawZVqk"
   },
   "source": [
    "# Survey time"
   ]
  },
  {
   "cell_type": "code",
   "execution_count": 6,
   "metadata": {
    "executionInfo": {
     "elapsed": 5,
     "status": "ok",
     "timestamp": 1725041881257,
     "user": {
      "displayName": "Marco Russodivito",
      "userId": "05013084347772678948"
     },
     "user_tz": -120
    },
    "id": "SPEvsfD8ZXoS"
   },
   "outputs": [],
   "source": [
    "def survey_time(_n, _p):\n",
    "  return {\n",
    "      'name': _n,\n",
    "      'duration_mean': _p['duration'].mean() / 60.0,\n",
    "      'duration_median': _p['duration'].median() / 60.0,\n",
    "  }, {\n",
    "      'name': _n,\n",
    "      'duration': _p['duration'] / 60.0,\n",
    "  }"
   ]
  },
  {
   "cell_type": "code",
   "execution_count": 7,
   "metadata": {
    "colab": {
     "base_uri": "https://localhost:8080/",
     "height": 174
    },
    "executionInfo": {
     "elapsed": 5,
     "status": "ok",
     "timestamp": 1725041881257,
     "user": {
      "displayName": "Marco Russodivito",
      "userId": "05013084347772678948"
     },
     "user_tz": -120
    },
    "id": "gcydwoSuaGnd",
    "outputId": "6241519c-011f-468b-c3be-a4df4a531170"
   },
   "outputs": [
    {
     "data": {
      "text/html": [
       "<div>\n",
       "<style scoped>\n",
       "    .dataframe tbody tr th:only-of-type {\n",
       "        vertical-align: middle;\n",
       "    }\n",
       "\n",
       "    .dataframe tbody tr th {\n",
       "        vertical-align: top;\n",
       "    }\n",
       "\n",
       "    .dataframe thead th {\n",
       "        text-align: right;\n",
       "    }\n",
       "</style>\n",
       "<table border=\"1\" class=\"dataframe\">\n",
       "  <thead>\n",
       "    <tr style=\"text-align: right;\">\n",
       "      <th></th>\n",
       "      <th>name</th>\n",
       "      <th>duration_mean</th>\n",
       "      <th>duration_median</th>\n",
       "    </tr>\n",
       "  </thead>\n",
       "  <tbody>\n",
       "    <tr>\n",
       "      <th>0</th>\n",
       "      <td>ALL</td>\n",
       "      <td>27.880000</td>\n",
       "      <td>22.650000</td>\n",
       "    </tr>\n",
       "    <tr>\n",
       "      <th>1</th>\n",
       "      <td>REGULAR</td>\n",
       "      <td>29.533333</td>\n",
       "      <td>20.100000</td>\n",
       "    </tr>\n",
       "    <tr>\n",
       "      <th>2</th>\n",
       "      <td>FOREIGNER</td>\n",
       "      <td>30.182184</td>\n",
       "      <td>28.483333</td>\n",
       "    </tr>\n",
       "    <tr>\n",
       "      <th>3</th>\n",
       "      <td>ADMINISTRATIVE</td>\n",
       "      <td>18.910000</td>\n",
       "      <td>17.000000</td>\n",
       "    </tr>\n",
       "  </tbody>\n",
       "</table>\n",
       "</div>"
      ],
      "text/plain": [
       "             name  duration_mean  duration_median\n",
       "0             ALL      27.880000        22.650000\n",
       "1         REGULAR      29.533333        20.100000\n",
       "2       FOREIGNER      30.182184        28.483333\n",
       "3  ADMINISTRATIVE      18.910000        17.000000"
      ]
     },
     "execution_count": 7,
     "metadata": {},
     "output_type": "execute_result"
    }
   ],
   "source": [
    "pd.DataFrame([\n",
    "  survey_time('ALL', data_df)[0],\n",
    "  survey_time('REGULAR', data_df[data_df['participant_type'] == 'REGULAR'])[0],\n",
    "  survey_time('FOREIGNER', data_df[data_df['participant_type'] == 'FOREIGNER'])[0],\n",
    "  survey_time('ADMINISTRATIVE', data_df[data_df['participant_type'] == 'ADMINISTRATIVE'])[0],\n",
    "]).head(5)"
   ]
  },
  {
   "cell_type": "code",
   "execution_count": 8,
   "metadata": {
    "colab": {
     "base_uri": "https://localhost:8080/",
     "height": 389
    },
    "executionInfo": {
     "elapsed": 1775,
     "status": "ok",
     "timestamp": 1725041883028,
     "user": {
      "displayName": "Marco Russodivito",
      "userId": "05013084347772678948"
     },
     "user_tz": -120
    },
    "id": "93_jk6l0aqk4",
    "outputId": "4020a20c-b5b3-4d1f-93d0-f61b0d5f8b47"
   },
   "outputs": [
    {
     "data": {
      "image/png": "[encoded data removed]",
      "text/plain": [
       "<Figure size 1200x400 with 3 Axes>"
      ]
     },
     "metadata": {},
     "output_type": "display_data"
    }
   ],
   "source": [
    "barplot(\n",
    "  'survey_time',\n",
    "  survey_time('ALL', data_df)[1]['duration'],\n",
    "  survey_time('REGULAR', data_df[data_df['participant_type'] == 'REGULAR'])[1]['duration'],\n",
    "  survey_time('FOREIGNER', data_df[data_df['participant_type'] == 'FOREIGNER'])[1]['duration'],\n",
    "  survey_time('ADMINISTRATIVE', data_df[data_df['participant_type'] == 'ADMINISTRATIVE'])[1]['duration']\n",
    ")"
   ]
  },
  {
   "cell_type": "code",
   "execution_count": 9,
   "metadata": {
    "colab": {
     "base_uri": "https://localhost:8080/",
     "height": 298
    },
    "executionInfo": {
     "elapsed": 1088,
     "status": "ok",
     "timestamp": 1725041884115,
     "user": {
      "displayName": "Marco Russodivito",
      "userId": "05013084347772678948"
     },
     "user_tz": -120
    },
    "id": "O9mVOalzWKMx",
    "outputId": "c73bd6da-ba9c-4e5c-c8ca-f0419a7bb71e"
   },
   "outputs": [
    {
     "data": {
      "image/png": "[encoded data removed]",
      "text/plain": [
       "<Figure size 1200x400 with 3 Axes>"
      ]
     },
     "metadata": {},
     "output_type": "display_data"
    }
   ],
   "source": [
    "boxplot(\n",
    "  survey_time('ALL', data_df)[1]['duration'],\n",
    "  survey_time('REGULAR', data_df[data_df['participant_type'] == 'REGULAR'])[1]['duration'],\n",
    "  survey_time('FOREIGNER', data_df[data_df['participant_type'] == 'FOREIGNER'])[1]['duration'],\n",
    "  survey_time('ADMINISTRATIVE', data_df[data_df['participant_type'] == 'ADMINISTRATIVE'])[1]['duration']\n",
    ")"
   ]
  },
  {
   "cell_type": "markdown",
   "metadata": {
    "id": "1f1pRrAacztV"
   },
   "source": [
    "# Sessions"
   ]
  },
  {
   "cell_type": "code",
   "execution_count": 10,
   "metadata": {
    "executionInfo": {
     "elapsed": 3,
     "status": "ok",
     "timestamp": 1725041884115,
     "user": {
      "displayName": "Marco Russodivito",
      "userId": "05013084347772678948"
     },
     "user_tz": -120
    },
    "id": "KwCV1wFKcgxS"
   },
   "outputs": [],
   "source": [
    "def sessions(_n, _p):\n",
    "  return {\n",
    "      'name': _n,\n",
    "      'sessions_mean': _p['sessions'].mean(),\n",
    "      'sessions_median': _p['sessions'].median(),\n",
    "  }, {\n",
    "      'name': _n,\n",
    "      'sessions': _p['sessions'],\n",
    "  }"
   ]
  },
  {
   "cell_type": "code",
   "execution_count": 11,
   "metadata": {
    "colab": {
     "base_uri": "https://localhost:8080/",
     "height": 0
    },
    "executionInfo": {
     "elapsed": 3,
     "status": "ok",
     "timestamp": 1725041884115,
     "user": {
      "displayName": "Marco Russodivito",
      "userId": "05013084347772678948"
     },
     "user_tz": -120
    },
    "id": "7jvFXpIudLWd",
    "outputId": "269b4c89-1836-405a-bbd4-ae333c4090e4"
   },
   "outputs": [
    {
     "data": {
      "text/html": [
       "<div>\n",
       "<style scoped>\n",
       "    .dataframe tbody tr th:only-of-type {\n",
       "        vertical-align: middle;\n",
       "    }\n",
       "\n",
       "    .dataframe tbody tr th {\n",
       "        vertical-align: top;\n",
       "    }\n",
       "\n",
       "    .dataframe thead th {\n",
       "        text-align: right;\n",
       "    }\n",
       "</style>\n",
       "<table border=\"1\" class=\"dataframe\">\n",
       "  <thead>\n",
       "    <tr style=\"text-align: right;\">\n",
       "      <th></th>\n",
       "      <th>name</th>\n",
       "      <th>sessions_mean</th>\n",
       "      <th>sessions_median</th>\n",
       "    </tr>\n",
       "  </thead>\n",
       "  <tbody>\n",
       "    <tr>\n",
       "      <th>0</th>\n",
       "      <td>ALL</td>\n",
       "      <td>1.176471</td>\n",
       "      <td>1.0</td>\n",
       "    </tr>\n",
       "    <tr>\n",
       "      <th>1</th>\n",
       "      <td>REGULAR</td>\n",
       "      <td>1.121951</td>\n",
       "      <td>1.0</td>\n",
       "    </tr>\n",
       "    <tr>\n",
       "      <th>2</th>\n",
       "      <td>FOREIGNER</td>\n",
       "      <td>1.344828</td>\n",
       "      <td>1.0</td>\n",
       "    </tr>\n",
       "    <tr>\n",
       "      <th>3</th>\n",
       "      <td>ADMINISTRATIVE</td>\n",
       "      <td>1.000000</td>\n",
       "      <td>1.0</td>\n",
       "    </tr>\n",
       "  </tbody>\n",
       "</table>\n",
       "</div>"
      ],
      "text/plain": [
       "             name  sessions_mean  sessions_median\n",
       "0             ALL       1.176471              1.0\n",
       "1         REGULAR       1.121951              1.0\n",
       "2       FOREIGNER       1.344828              1.0\n",
       "3  ADMINISTRATIVE       1.000000              1.0"
      ]
     },
     "execution_count": 11,
     "metadata": {},
     "output_type": "execute_result"
    }
   ],
   "source": [
    "pd.DataFrame([\n",
    "  sessions('ALL', data_df)[0],\n",
    "  sessions('REGULAR', data_df[data_df['participant_type'] == 'REGULAR'])[0],\n",
    "  sessions('FOREIGNER', data_df[data_df['participant_type'] == 'FOREIGNER'])[0],\n",
    "  sessions('ADMINISTRATIVE', data_df[data_df['participant_type'] == 'ADMINISTRATIVE'])[0],\n",
    "]).head(5)"
   ]
  },
  {
   "cell_type": "code",
   "execution_count": 12,
   "metadata": {
    "colab": {
     "base_uri": "https://localhost:8080/",
     "height": 0
    },
    "executionInfo": {
     "elapsed": 1376,
     "status": "ok",
     "timestamp": 1725041885489,
     "user": {
      "displayName": "Marco Russodivito",
      "userId": "05013084347772678948"
     },
     "user_tz": -120
    },
    "id": "mnlWZvjOc3fs",
    "outputId": "8c2ff8ec-aa79-4d1f-edf4-dca2831b0b9f"
   },
   "outputs": [
    {
     "data": {
      "image/png": "[encoded data removed]",
      "text/plain": [
       "<Figure size 1200x400 with 3 Axes>"
      ]
     },
     "metadata": {},
     "output_type": "display_data"
    }
   ],
   "source": [
    "barplot(\n",
    "  'sessions',\n",
    "  sessions('ALL', data_df)[1]['sessions'],\n",
    "  sessions('REGULAR', data_df[data_df['participant_type'] == 'REGULAR'])[1]['sessions'],\n",
    "  sessions('FOREIGNER', data_df[data_df['participant_type'] == 'FOREIGNER'])[1]['sessions'],\n",
    "  sessions('ADMINISTRATIVE', data_df[data_df['participant_type'] == 'ADMINISTRATIVE'])[1]['sessions']\n",
    ")"
   ]
  },
  {
   "cell_type": "code",
   "execution_count": 13,
   "metadata": {
    "colab": {
     "base_uri": "https://localhost:8080/",
     "height": 0
    },
    "executionInfo": {
     "elapsed": 1989,
     "status": "ok",
     "timestamp": 1725041887477,
     "user": {
      "displayName": "Marco Russodivito",
      "userId": "05013084347772678948"
     },
     "user_tz": -120
    },
    "id": "Og2-5f3Bdnac",
    "outputId": "2a38d3c1-1bd4-477e-d086-c442cf5961c7"
   },
   "outputs": [
    {
     "data": {
      "image/png": "[encoded data removed]",
      "text/plain": [
       "<Figure size 1200x400 with 3 Axes>"
      ]
     },
     "metadata": {},
     "output_type": "display_data"
    }
   ],
   "source": [
    "boxplot(\n",
    "  sessions('ALL', data_df)[1]['sessions'],\n",
    "  sessions('REGULAR', data_df[data_df['participant_type'] == 'REGULAR'])[1]['sessions'],\n",
    "  sessions('FOREIGNER', data_df[data_df['participant_type'] == 'FOREIGNER'])[1]['sessions'],\n",
    "  sessions('ADMINISTRATIVE', data_df[data_df['participant_type'] == 'ADMINISTRATIVE'])[1]['sessions']\n",
    ")"
   ]
  },
  {
   "cell_type": "markdown",
   "metadata": {
    "id": "8t4G42JJcfSe"
   },
   "source": [
    "# Reading time"
   ]
  },
  {
   "cell_type": "code",
   "execution_count": 14,
   "metadata": {
    "executionInfo": {
     "elapsed": 3,
     "status": "ok",
     "timestamp": 1725041887477,
     "user": {
      "displayName": "Marco Russodivito",
      "userId": "05013084347772678948"
     },
     "user_tz": -120
    },
    "id": "d0jbykSWeN55"
   },
   "outputs": [],
   "source": [
    "def reading_time(_n, _p):\n",
    "  return {\n",
    "      'name': _n,\n",
    "      'd1_mean': _p['d1_reading_time'].mean() / 60.0,\n",
    "      'd2_mean': _p['d2_reading_time'].mean() / 60.0,\n",
    "      ' |': ' |',\n",
    "      'd1o_mean': _p[_p['participant_group'].isin(['A', 'D'])]['d1_reading_time'].mean() / 60.0,\n",
    "      'd1s_mean': _p[_p['participant_group'].isin(['B', 'C'])]['d1_reading_time'].mean() / 60.0,\n",
    "      'd2o_mean': _p[_p['participant_group'].isin(['B', 'C'])]['d2_reading_time'].mean() / 60.0,\n",
    "      'd2s_mean': _p[_p['participant_group'].isin(['A', 'D'])]['d2_reading_time'].mean() / 60.0,\n",
    "      '||': '||',\n",
    "      'd1_median': _p['d1_reading_time'].median() / 60.0,\n",
    "      'd2_median': _p['d2_reading_time'].median() / 60.0,\n",
    "      '| ': ' |',\n",
    "      'd1o_median': _p[_p['participant_group'].isin(['A', 'D'])]['d1_reading_time'].median() / 60.0,\n",
    "      'd1s_median': _p[_p['participant_group'].isin(['B', 'C'])]['d1_reading_time'].median() / 60.0,\n",
    "      'd2o_median': _p[_p['participant_group'].isin(['B', 'C'])]['d2_reading_time'].median() / 60.0,\n",
    "      'd2s_median': _p[_p['participant_group'].isin(['A', 'D'])]['d2_reading_time'].median() / 60.0,\n",
    "  }, {\n",
    "      'name': _n,\n",
    "      'd1o': _p[_p['participant_group'].isin(['A', 'D'])]['d1_reading_time'] / 60.0,\n",
    "      'd1s': _p[_p['participant_group'].isin(['B', 'C'])]['d1_reading_time'] / 60.0,\n",
    "      'd2o': _p[_p['participant_group'].isin(['B', 'C'])]['d2_reading_time'] / 60.0,\n",
    "      'd2s': _p[_p['participant_group'].isin(['A', 'D'])]['d2_reading_time'] / 60.0\n",
    "  }"
   ]
  },
  {
   "cell_type": "code",
   "execution_count": 15,
   "metadata": {
    "colab": {
     "base_uri": "https://localhost:8080/",
     "height": 194
    },
    "executionInfo": {
     "elapsed": 3,
     "status": "ok",
     "timestamp": 1725041887477,
     "user": {
      "displayName": "Marco Russodivito",
      "userId": "05013084347772678948"
     },
     "user_tz": -120
    },
    "id": "IlNydV8ZfQ4x",
    "outputId": "7266545f-3737-48db-dfbc-42e2c267d0fa"
   },
   "outputs": [
    {
     "data": {
      "text/html": [
       "<div>\n",
       "<style scoped>\n",
       "    .dataframe tbody tr th:only-of-type {\n",
       "        vertical-align: middle;\n",
       "    }\n",
       "\n",
       "    .dataframe tbody tr th {\n",
       "        vertical-align: top;\n",
       "    }\n",
       "\n",
       "    .dataframe thead th {\n",
       "        text-align: right;\n",
       "    }\n",
       "</style>\n",
       "<table border=\"1\" class=\"dataframe\">\n",
       "  <thead>\n",
       "    <tr style=\"text-align: right;\">\n",
       "      <th></th>\n",
       "      <th>name</th>\n",
       "      <th>d1_mean</th>\n",
       "      <th>d2_mean</th>\n",
       "      <th>|</th>\n",
       "      <th>d1o_mean</th>\n",
       "      <th>d1s_mean</th>\n",
       "      <th>d2o_mean</th>\n",
       "      <th>d2s_mean</th>\n",
       "      <th>||</th>\n",
       "      <th>d1_median</th>\n",
       "      <th>d2_median</th>\n",
       "      <th>|</th>\n",
       "      <th>d1o_median</th>\n",
       "      <th>d1s_median</th>\n",
       "      <th>d2o_median</th>\n",
       "      <th>d2s_median</th>\n",
       "    </tr>\n",
       "  </thead>\n",
       "  <tbody>\n",
       "    <tr>\n",
       "      <th>0</th>\n",
       "      <td>ALL</td>\n",
       "      <td>10.233092</td>\n",
       "      <td>7.635502</td>\n",
       "      <td>|</td>\n",
       "      <td>9.656023</td>\n",
       "      <td>10.770816</td>\n",
       "      <td>7.892756</td>\n",
       "      <td>7.359425</td>\n",
       "      <td>||</td>\n",
       "      <td>6.938817</td>\n",
       "      <td>6.253033</td>\n",
       "      <td>|</td>\n",
       "      <td>7.198583</td>\n",
       "      <td>6.864225</td>\n",
       "      <td>6.474500</td>\n",
       "      <td>6.206300</td>\n",
       "    </tr>\n",
       "    <tr>\n",
       "      <th>1</th>\n",
       "      <td>REGULAR</td>\n",
       "      <td>11.719492</td>\n",
       "      <td>6.673676</td>\n",
       "      <td>|</td>\n",
       "      <td>10.753322</td>\n",
       "      <td>12.639655</td>\n",
       "      <td>7.581483</td>\n",
       "      <td>5.720480</td>\n",
       "      <td>||</td>\n",
       "      <td>6.789633</td>\n",
       "      <td>6.233767</td>\n",
       "      <td>|</td>\n",
       "      <td>7.003800</td>\n",
       "      <td>6.312617</td>\n",
       "      <td>7.366850</td>\n",
       "      <td>5.720592</td>\n",
       "    </tr>\n",
       "    <tr>\n",
       "      <th>2</th>\n",
       "      <td>FOREIGNER</td>\n",
       "      <td>9.459447</td>\n",
       "      <td>10.212892</td>\n",
       "      <td>|</td>\n",
       "      <td>7.857721</td>\n",
       "      <td>10.954391</td>\n",
       "      <td>9.767730</td>\n",
       "      <td>10.689851</td>\n",
       "      <td>||</td>\n",
       "      <td>8.471300</td>\n",
       "      <td>9.101950</td>\n",
       "      <td>|</td>\n",
       "      <td>6.801825</td>\n",
       "      <td>8.968267</td>\n",
       "      <td>9.170183</td>\n",
       "      <td>8.949675</td>\n",
       "    </tr>\n",
       "    <tr>\n",
       "      <th>3</th>\n",
       "      <td>ADMINISTRATIVE</td>\n",
       "      <td>7.665980</td>\n",
       "      <td>5.281540</td>\n",
       "      <td>|</td>\n",
       "      <td>10.117486</td>\n",
       "      <td>5.520912</td>\n",
       "      <td>5.194275</td>\n",
       "      <td>5.381271</td>\n",
       "      <td>||</td>\n",
       "      <td>6.490683</td>\n",
       "      <td>4.927483</td>\n",
       "      <td>|</td>\n",
       "      <td>10.819817</td>\n",
       "      <td>6.293783</td>\n",
       "      <td>5.098208</td>\n",
       "      <td>4.132850</td>\n",
       "    </tr>\n",
       "  </tbody>\n",
       "</table>\n",
       "</div>"
      ],
      "text/plain": [
       "             name    d1_mean    d2_mean   |   d1o_mean   d1s_mean  d2o_mean  \\\n",
       "0             ALL  10.233092   7.635502   |   9.656023  10.770816  7.892756   \n",
       "1         REGULAR  11.719492   6.673676   |  10.753322  12.639655  7.581483   \n",
       "2       FOREIGNER   9.459447  10.212892   |   7.857721  10.954391  9.767730   \n",
       "3  ADMINISTRATIVE   7.665980   5.281540   |  10.117486   5.520912  5.194275   \n",
       "\n",
       "    d2s_mean  ||  d1_median  d2_median  |   d1o_median  d1s_median  \\\n",
       "0   7.359425  ||   6.938817   6.253033   |    7.198583    6.864225   \n",
       "1   5.720480  ||   6.789633   6.233767   |    7.003800    6.312617   \n",
       "2  10.689851  ||   8.471300   9.101950   |    6.801825    8.968267   \n",
       "3   5.381271  ||   6.490683   4.927483   |   10.819817    6.293783   \n",
       "\n",
       "   d2o_median  d2s_median  \n",
       "0    6.474500    6.206300  \n",
       "1    7.366850    5.720592  \n",
       "2    9.170183    8.949675  \n",
       "3    5.098208    4.132850  "
      ]
     },
     "execution_count": 15,
     "metadata": {},
     "output_type": "execute_result"
    }
   ],
   "source": [
    "pd.DataFrame([\n",
    "  reading_time('ALL', data_df)[0],\n",
    "  reading_time('REGULAR', data_df[data_df['participant_type'] == 'REGULAR'])[0],\n",
    "  reading_time('FOREIGNER', data_df[data_df['participant_type'] == 'FOREIGNER'])[0],\n",
    "  reading_time('ADMINISTRATIVE', data_df[data_df['participant_type'] == 'ADMINISTRATIVE'])[0],\n",
    "]).head(5)"
   ]
  },
  {
   "cell_type": "code",
   "execution_count": 16,
   "metadata": {
    "colab": {
     "base_uri": "https://localhost:8080/",
     "height": 519
    },
    "executionInfo": {
     "elapsed": 5286,
     "status": "ok",
     "timestamp": 1725041892761,
     "user": {
      "displayName": "Marco Russodivito",
      "userId": "05013084347772678948"
     },
     "user_tz": -120
    },
    "id": "YEVuMnfPfbYT",
    "outputId": "aab4ba69-335e-448e-beff-809fac4e6606"
   },
   "outputs": [
    {
     "data": {
      "image/png": "[encoded data removed]",
      "text/plain": [
       "<Figure size 1200x600 with 8 Axes>"
      ]
     },
     "metadata": {},
     "output_type": "display_data"
    }
   ],
   "source": [
    "dual_barplot(\n",
    "  'reading_time',\n",
    "  reading_time('ALL', data_df)[1],\n",
    "  reading_time('REGULAR', data_df[data_df['participant_type'] == 'REGULAR'])[1],\n",
    "  reading_time('FOREIGNER', data_df[data_df['participant_type'] == 'FOREIGNER'])[1],\n",
    "  reading_time('ADMINISTRATIVE', data_df[data_df['participant_type'] == 'ADMINISTRATIVE'])[1]\n",
    ")"
   ]
  },
  {
   "cell_type": "code",
   "execution_count": 17,
   "metadata": {
    "colab": {
     "base_uri": "https://localhost:8080/",
     "height": 672
    },
    "executionInfo": {
     "elapsed": 2012,
     "status": "ok",
     "timestamp": 1725042673010,
     "user": {
      "displayName": "Marco Russodivito",
      "userId": "05013084347772678948"
     },
     "user_tz": -120
    },
    "id": "pocJkQacaphV",
    "outputId": "8e0400e8-0696-43cc-8d32-6ca639118040"
   },
   "outputs": [
    {
     "data": {
      "image/png": "[encoded data removed]",
      "text/plain": [
       "<Figure size 1200x400 with 3 Axes>"
      ]
     },
     "metadata": {},
     "output_type": "display_data"
    },
    {
     "data": {
      "image/png": "[encoded data removed]",
      "text/plain": [
       "<Figure size 1200x400 with 3 Axes>"
      ]
     },
     "metadata": {},
     "output_type": "display_data"
    }
   ],
   "source": [
    "dual_boxplot(\n",
    "  reading_time('ALL', data_df)[1],\n",
    "  reading_time('REGULAR', data_df[data_df['participant_type'] == 'REGULAR'])[1],\n",
    "  reading_time('FOREIGNER', data_df[data_df['participant_type'] == 'FOREIGNER'])[1],\n",
    "  reading_time('ADMINISTRATIVE', data_df[data_df['participant_type'] == 'ADMINISTRATIVE'])[1]\n",
    ")"
   ]
  },
  {
   "cell_type": "markdown",
   "metadata": {
    "id": "6PKAZyajiw6D"
   },
   "source": [
    "# Rate (higher is harder)"
   ]
  },
  {
   "cell_type": "code",
   "execution_count": 18,
   "metadata": {
    "executionInfo": {
     "elapsed": 3,
     "status": "ok",
     "timestamp": 1725041898134,
     "user": {
      "displayName": "Marco Russodivito",
      "userId": "05013084347772678948"
     },
     "user_tz": -120
    },
    "id": "gQ4_Ai9EyJna"
   },
   "outputs": [],
   "source": [
    "def rate(_n, _p):\n",
    "  return {\n",
    "      'name': _n,\n",
    "      'd1_mean': _p['d1_rate'].mean(),\n",
    "      'd2_mean': _p['d2_rate'].mean(),\n",
    "      ' |': ' |',\n",
    "      'd1o_mean': _p[_p['participant_group'].isin(['A', 'D'])]['d1_rate'].mean(),\n",
    "      'd1s_mean': _p[_p['participant_group'].isin(['B', 'C'])]['d1_rate'].mean(),\n",
    "      'd2o_mean': _p[_p['participant_group'].isin(['B', 'C'])]['d2_rate'].mean(),\n",
    "      'd2s_mean': _p[_p['participant_group'].isin(['A', 'D'])]['d2_rate'].mean(),\n",
    "      '||': '||',\n",
    "      'd1_median': _p['d1_rate'].median(),\n",
    "      'd2_median': _p['d2_rate'].median(),\n",
    "      '| ': '| ',\n",
    "      'd1o_median': _p[_p['participant_group'].isin(['A', 'D'])]['d1_rate'].median(),\n",
    "      'd1s_median': _p[_p['participant_group'].isin(['B', 'C'])]['d1_rate'].median(),\n",
    "      'd2o_median': _p[_p['participant_group'].isin(['B', 'C'])]['d2_rate'].median(),\n",
    "      'd2s_median': _p[_p['participant_group'].isin(['A', 'D'])]['d2_rate'].median(),\n",
    "  }, {\n",
    "      'name': _n,\n",
    "      'd1o': _p[_p['participant_group'].isin(['A', 'D'])]['d1_rate'],\n",
    "      'd1s': _p[_p['participant_group'].isin(['B', 'C'])]['d1_rate'],\n",
    "      'd2o': _p[_p['participant_group'].isin(['B', 'C'])]['d2_rate'],\n",
    "      'd2s': _p[_p['participant_group'].isin(['A', 'D'])]['d2_rate']\n",
    "  }"
   ]
  },
  {
   "cell_type": "code",
   "execution_count": 19,
   "metadata": {
    "colab": {
     "base_uri": "https://localhost:8080/",
     "height": 194
    },
    "executionInfo": {
     "elapsed": 3,
     "status": "ok",
     "timestamp": 1725041898135,
     "user": {
      "displayName": "Marco Russodivito",
      "userId": "05013084347772678948"
     },
     "user_tz": -120
    },
    "id": "25MJ6BfRvxcS",
    "outputId": "24d7227c-b225-492e-ac00-f11a396f5522"
   },
   "outputs": [
    {
     "data": {
      "text/html": [
       "<div>\n",
       "<style scoped>\n",
       "    .dataframe tbody tr th:only-of-type {\n",
       "        vertical-align: middle;\n",
       "    }\n",
       "\n",
       "    .dataframe tbody tr th {\n",
       "        vertical-align: top;\n",
       "    }\n",
       "\n",
       "    .dataframe thead th {\n",
       "        text-align: right;\n",
       "    }\n",
       "</style>\n",
       "<table border=\"1\" class=\"dataframe\">\n",
       "  <thead>\n",
       "    <tr style=\"text-align: right;\">\n",
       "      <th></th>\n",
       "      <th>name</th>\n",
       "      <th>d1_mean</th>\n",
       "      <th>d2_mean</th>\n",
       "      <th>|</th>\n",
       "      <th>d1o_mean</th>\n",
       "      <th>d1s_mean</th>\n",
       "      <th>d2o_mean</th>\n",
       "      <th>d2s_mean</th>\n",
       "      <th>||</th>\n",
       "      <th>d1_median</th>\n",
       "      <th>d2_median</th>\n",
       "      <th>|</th>\n",
       "      <th>d1o_median</th>\n",
       "      <th>d1s_median</th>\n",
       "      <th>d2o_median</th>\n",
       "      <th>d2s_median</th>\n",
       "    </tr>\n",
       "  </thead>\n",
       "  <tbody>\n",
       "    <tr>\n",
       "      <th>0</th>\n",
       "      <td>ALL</td>\n",
       "      <td>3.376471</td>\n",
       "      <td>3.352941</td>\n",
       "      <td>|</td>\n",
       "      <td>3.439024</td>\n",
       "      <td>3.318182</td>\n",
       "      <td>3.568182</td>\n",
       "      <td>3.121951</td>\n",
       "      <td>||</td>\n",
       "      <td>3.0</td>\n",
       "      <td>3.0</td>\n",
       "      <td>|</td>\n",
       "      <td>3.0</td>\n",
       "      <td>3.0</td>\n",
       "      <td>3.0</td>\n",
       "      <td>3.0</td>\n",
       "    </tr>\n",
       "    <tr>\n",
       "      <th>1</th>\n",
       "      <td>REGULAR</td>\n",
       "      <td>3.170732</td>\n",
       "      <td>2.853659</td>\n",
       "      <td>|</td>\n",
       "      <td>3.300000</td>\n",
       "      <td>3.047619</td>\n",
       "      <td>3.000000</td>\n",
       "      <td>2.700000</td>\n",
       "      <td>||</td>\n",
       "      <td>3.0</td>\n",
       "      <td>3.0</td>\n",
       "      <td>|</td>\n",
       "      <td>3.5</td>\n",
       "      <td>3.0</td>\n",
       "      <td>3.0</td>\n",
       "      <td>3.0</td>\n",
       "    </tr>\n",
       "    <tr>\n",
       "      <th>2</th>\n",
       "      <td>FOREIGNER</td>\n",
       "      <td>3.827586</td>\n",
       "      <td>4.103448</td>\n",
       "      <td>|</td>\n",
       "      <td>3.714286</td>\n",
       "      <td>3.933333</td>\n",
       "      <td>4.466667</td>\n",
       "      <td>3.714286</td>\n",
       "      <td>||</td>\n",
       "      <td>4.0</td>\n",
       "      <td>4.0</td>\n",
       "      <td>|</td>\n",
       "      <td>4.0</td>\n",
       "      <td>4.0</td>\n",
       "      <td>5.0</td>\n",
       "      <td>4.0</td>\n",
       "    </tr>\n",
       "    <tr>\n",
       "      <th>3</th>\n",
       "      <td>ADMINISTRATIVE</td>\n",
       "      <td>3.066667</td>\n",
       "      <td>3.266667</td>\n",
       "      <td>|</td>\n",
       "      <td>3.285714</td>\n",
       "      <td>2.875000</td>\n",
       "      <td>3.375000</td>\n",
       "      <td>3.142857</td>\n",
       "      <td>||</td>\n",
       "      <td>3.0</td>\n",
       "      <td>3.0</td>\n",
       "      <td>|</td>\n",
       "      <td>3.0</td>\n",
       "      <td>3.0</td>\n",
       "      <td>3.0</td>\n",
       "      <td>3.0</td>\n",
       "    </tr>\n",
       "  </tbody>\n",
       "</table>\n",
       "</div>"
      ],
      "text/plain": [
       "             name   d1_mean   d2_mean   |  d1o_mean  d1s_mean  d2o_mean  \\\n",
       "0             ALL  3.376471  3.352941   |  3.439024  3.318182  3.568182   \n",
       "1         REGULAR  3.170732  2.853659   |  3.300000  3.047619  3.000000   \n",
       "2       FOREIGNER  3.827586  4.103448   |  3.714286  3.933333  4.466667   \n",
       "3  ADMINISTRATIVE  3.066667  3.266667   |  3.285714  2.875000  3.375000   \n",
       "\n",
       "   d2s_mean  ||  d1_median  d2_median  |   d1o_median  d1s_median  d2o_median  \\\n",
       "0  3.121951  ||        3.0        3.0  |          3.0         3.0         3.0   \n",
       "1  2.700000  ||        3.0        3.0  |          3.5         3.0         3.0   \n",
       "2  3.714286  ||        4.0        4.0  |          4.0         4.0         5.0   \n",
       "3  3.142857  ||        3.0        3.0  |          3.0         3.0         3.0   \n",
       "\n",
       "   d2s_median  \n",
       "0         3.0  \n",
       "1         3.0  \n",
       "2         4.0  \n",
       "3         3.0  "
      ]
     },
     "execution_count": 19,
     "metadata": {},
     "output_type": "execute_result"
    }
   ],
   "source": [
    "pd.DataFrame([\n",
    "  rate('ALL', data_df)[0],\n",
    "  rate('REGULAR', data_df[data_df['participant_type'] == 'REGULAR'])[0],\n",
    "  rate('FOREIGNER', data_df[data_df['participant_type'] == 'FOREIGNER'])[0],\n",
    "  rate('ADMINISTRATIVE', data_df[data_df['participant_type'] == 'ADMINISTRATIVE'])[0],\n",
    "]).head(5)"
   ]
  },
  {
   "cell_type": "code",
   "execution_count": 20,
   "metadata": {
    "colab": {
     "base_uri": "https://localhost:8080/",
     "height": 465
    },
    "executionInfo": {
     "elapsed": 5305,
     "status": "ok",
     "timestamp": 1725041903437,
     "user": {
      "displayName": "Marco Russodivito",
      "userId": "05013084347772678948"
     },
     "user_tz": -120
    },
    "id": "APkAdpXhFxpx",
    "outputId": "d2c5ab0c-4c71-499b-e42a-489800f78416"
   },
   "outputs": [
    {
     "data": {
      "image/png": "[encoded data removed]",
      "text/plain": [
       "<Figure size 1200x600 with 8 Axes>"
      ]
     },
     "metadata": {},
     "output_type": "display_data"
    }
   ],
   "source": [
    "dual_barplot(\n",
    "  'rate',\n",
    "  rate('ALL', data_df)[1],\n",
    "  rate('REGULAR', data_df[data_df['participant_type'] == 'REGULAR'])[1],\n",
    "  rate('FOREIGNER', data_df[data_df['participant_type'] == 'FOREIGNER'])[1],\n",
    "  rate('ADMINISTRATIVE', data_df[data_df['participant_type'] == 'ADMINISTRATIVE'])[1]\n",
    ")"
   ]
  },
  {
   "cell_type": "code",
   "execution_count": 21,
   "metadata": {
    "colab": {
     "base_uri": "https://localhost:8080/",
     "height": 669
    },
    "executionInfo": {
     "elapsed": 1313,
     "status": "ok",
     "timestamp": 1725044737427,
     "user": {
      "displayName": "Marco Russodivito",
      "userId": "05013084347772678948"
     },
     "user_tz": -120
    },
    "id": "Ag0ghu_DjTV8",
    "outputId": "7d6d21c1-0b4f-4824-ab0b-be6531116601"
   },
   "outputs": [
    {
     "data": {
      "image/png": "[encoded data removed]",
      "text/plain": [
       "<Figure size 1200x400 with 3 Axes>"
      ]
     },
     "metadata": {},
     "output_type": "display_data"
    },
    {
     "data": {
      "image/png": "[encoded data removed]",
      "text/plain": [
       "<Figure size 1200x400 with 3 Axes>"
      ]
     },
     "metadata": {},
     "output_type": "display_data"
    }
   ],
   "source": [
    "dual_boxplot(\n",
    "  rate('ALL', data_df)[1],\n",
    "  rate('REGULAR', data_df[data_df['participant_type'] == 'REGULAR'])[1],\n",
    "  rate('FOREIGNER', data_df[data_df['participant_type'] == 'FOREIGNER'])[1],\n",
    "  rate('ADMINISTRATIVE', data_df[data_df['participant_type'] == 'ADMINISTRATIVE'])[1]\n",
    ")"
   ]
  },
  {
   "cell_type": "markdown",
   "metadata": {
    "id": "W1AqPQRxTJkP"
   },
   "source": [
    "# Correctness"
   ]
  },
  {
   "cell_type": "code",
   "execution_count": 22,
   "metadata": {
    "executionInfo": {
     "elapsed": 408,
     "status": "ok",
     "timestamp": 1725042009717,
     "user": {
      "displayName": "Marco Russodivito",
      "userId": "05013084347772678948"
     },
     "user_tz": -120
    },
    "id": "cMRRaei4TKdh"
   },
   "outputs": [],
   "source": [
    "def correctness(_n, _p):\n",
    "  return {\n",
    "      'name': _n,\n",
    "      'd1_mean': _p['d1_correctness'].mean(),\n",
    "      'd2_mean': _p['d2_correctness'].mean(),\n",
    "      ' |': ' |',\n",
    "      'd1o_mean': _p[_p['participant_group'].isin(['A', 'D'])]['d1_correctness'].mean(),\n",
    "      'd1s_mean': _p[_p['participant_group'].isin(['B', 'C'])]['d1_correctness'].mean(),\n",
    "      'd2o_mean': _p[_p['participant_group'].isin(['B', 'C'])]['d2_correctness'].mean(),\n",
    "      'd2s_mean': _p[_p['participant_group'].isin(['A', 'D'])]['d2_correctness'].mean(),\n",
    "      '||': '||',\n",
    "      'd1_median': _p['d1_correctness'].median(),\n",
    "      'd2_median': _p['d2_correctness'].median(),\n",
    "      '| ': '| ',\n",
    "      'd1o_median': _p[_p['participant_group'].isin(['A', 'D'])]['d1_correctness'].median(),\n",
    "      'd1s_median': _p[_p['participant_group'].isin(['B', 'C'])]['d1_correctness'].median(),\n",
    "      'd2o_median': _p[_p['participant_group'].isin(['B', 'C'])]['d2_correctness'].median(),\n",
    "      'd2s_median': _p[_p['participant_group'].isin(['A', 'D'])]['d2_correctness'].median(),\n",
    "  }, {\n",
    "      'name': _n,\n",
    "      'd1o': _p[_p['participant_group'].isin(['A', 'D'])]['d1_correctness'],\n",
    "      'd1s': _p[_p['participant_group'].isin(['B', 'C'])]['d1_correctness'],\n",
    "      'd2o': _p[_p['participant_group'].isin(['B', 'C'])]['d2_correctness'],\n",
    "      'd2s': _p[_p['participant_group'].isin(['A', 'D'])]['d2_correctness']\n",
    "  }"
   ]
  },
  {
   "cell_type": "code",
   "execution_count": 23,
   "metadata": {
    "colab": {
     "base_uri": "https://localhost:8080/",
     "height": 194
    },
    "executionInfo": {
     "elapsed": 2,
     "status": "ok",
     "timestamp": 1725042010270,
     "user": {
      "displayName": "Marco Russodivito",
      "userId": "05013084347772678948"
     },
     "user_tz": -120
    },
    "id": "tNemoYP-pmIL",
    "outputId": "8c78b6eb-b057-42d6-8232-aa3665ea1c9d"
   },
   "outputs": [
    {
     "data": {
      "text/html": [
       "<div>\n",
       "<style scoped>\n",
       "    .dataframe tbody tr th:only-of-type {\n",
       "        vertical-align: middle;\n",
       "    }\n",
       "\n",
       "    .dataframe tbody tr th {\n",
       "        vertical-align: top;\n",
       "    }\n",
       "\n",
       "    .dataframe thead th {\n",
       "        text-align: right;\n",
       "    }\n",
       "</style>\n",
       "<table border=\"1\" class=\"dataframe\">\n",
       "  <thead>\n",
       "    <tr style=\"text-align: right;\">\n",
       "      <th></th>\n",
       "      <th>name</th>\n",
       "      <th>d1_mean</th>\n",
       "      <th>d2_mean</th>\n",
       "      <th>|</th>\n",
       "      <th>d1o_mean</th>\n",
       "      <th>d1s_mean</th>\n",
       "      <th>d2o_mean</th>\n",
       "      <th>d2s_mean</th>\n",
       "      <th>||</th>\n",
       "      <th>d1_median</th>\n",
       "      <th>d2_median</th>\n",
       "      <th>|</th>\n",
       "      <th>d1o_median</th>\n",
       "      <th>d1s_median</th>\n",
       "      <th>d2o_median</th>\n",
       "      <th>d2s_median</th>\n",
       "    </tr>\n",
       "  </thead>\n",
       "  <tbody>\n",
       "    <tr>\n",
       "      <th>0</th>\n",
       "      <td>ALL</td>\n",
       "      <td>3.729412</td>\n",
       "      <td>3.988235</td>\n",
       "      <td>|</td>\n",
       "      <td>3.780488</td>\n",
       "      <td>3.681818</td>\n",
       "      <td>3.977273</td>\n",
       "      <td>4.000000</td>\n",
       "      <td>||</td>\n",
       "      <td>4.0</td>\n",
       "      <td>4.0</td>\n",
       "      <td>|</td>\n",
       "      <td>4.0</td>\n",
       "      <td>4.0</td>\n",
       "      <td>4.0</td>\n",
       "      <td>4.0</td>\n",
       "    </tr>\n",
       "    <tr>\n",
       "      <th>1</th>\n",
       "      <td>REGULAR</td>\n",
       "      <td>3.975610</td>\n",
       "      <td>4.195122</td>\n",
       "      <td>|</td>\n",
       "      <td>3.850000</td>\n",
       "      <td>4.095238</td>\n",
       "      <td>4.333333</td>\n",
       "      <td>4.050000</td>\n",
       "      <td>||</td>\n",
       "      <td>4.0</td>\n",
       "      <td>4.0</td>\n",
       "      <td>|</td>\n",
       "      <td>4.0</td>\n",
       "      <td>4.0</td>\n",
       "      <td>5.0</td>\n",
       "      <td>4.0</td>\n",
       "    </tr>\n",
       "    <tr>\n",
       "      <th>2</th>\n",
       "      <td>FOREIGNER</td>\n",
       "      <td>3.103448</td>\n",
       "      <td>3.517241</td>\n",
       "      <td>|</td>\n",
       "      <td>3.357143</td>\n",
       "      <td>2.866667</td>\n",
       "      <td>3.400000</td>\n",
       "      <td>3.642857</td>\n",
       "      <td>||</td>\n",
       "      <td>3.0</td>\n",
       "      <td>4.0</td>\n",
       "      <td>|</td>\n",
       "      <td>4.0</td>\n",
       "      <td>3.0</td>\n",
       "      <td>3.0</td>\n",
       "      <td>4.0</td>\n",
       "    </tr>\n",
       "    <tr>\n",
       "      <th>3</th>\n",
       "      <td>ADMINISTRATIVE</td>\n",
       "      <td>4.266667</td>\n",
       "      <td>4.333333</td>\n",
       "      <td>|</td>\n",
       "      <td>4.428571</td>\n",
       "      <td>4.125000</td>\n",
       "      <td>4.125000</td>\n",
       "      <td>4.571429</td>\n",
       "      <td>||</td>\n",
       "      <td>4.0</td>\n",
       "      <td>4.0</td>\n",
       "      <td>|</td>\n",
       "      <td>5.0</td>\n",
       "      <td>4.0</td>\n",
       "      <td>4.0</td>\n",
       "      <td>5.0</td>\n",
       "    </tr>\n",
       "  </tbody>\n",
       "</table>\n",
       "</div>"
      ],
      "text/plain": [
       "             name   d1_mean   d2_mean   |  d1o_mean  d1s_mean  d2o_mean  \\\n",
       "0             ALL  3.729412  3.988235   |  3.780488  3.681818  3.977273   \n",
       "1         REGULAR  3.975610  4.195122   |  3.850000  4.095238  4.333333   \n",
       "2       FOREIGNER  3.103448  3.517241   |  3.357143  2.866667  3.400000   \n",
       "3  ADMINISTRATIVE  4.266667  4.333333   |  4.428571  4.125000  4.125000   \n",
       "\n",
       "   d2s_mean  ||  d1_median  d2_median  |   d1o_median  d1s_median  d2o_median  \\\n",
       "0  4.000000  ||        4.0        4.0  |          4.0         4.0         4.0   \n",
       "1  4.050000  ||        4.0        4.0  |          4.0         4.0         5.0   \n",
       "2  3.642857  ||        3.0        4.0  |          4.0         3.0         3.0   \n",
       "3  4.571429  ||        4.0        4.0  |          5.0         4.0         4.0   \n",
       "\n",
       "   d2s_median  \n",
       "0         4.0  \n",
       "1         4.0  \n",
       "2         4.0  \n",
       "3         5.0  "
      ]
     },
     "execution_count": 23,
     "metadata": {},
     "output_type": "execute_result"
    }
   ],
   "source": [
    "pd.DataFrame([\n",
    "  correctness('ALL', data_df)[0],\n",
    "  correctness('REGULAR', data_df[data_df['participant_type'] == 'REGULAR'])[0],\n",
    "  correctness('FOREIGNER', data_df[data_df['participant_type'] == 'FOREIGNER'])[0],\n",
    "  correctness('ADMINISTRATIVE', data_df[data_df['participant_type'] == 'ADMINISTRATIVE'])[0],\n",
    "]).head(5)"
   ]
  },
  {
   "cell_type": "code",
   "execution_count": 24,
   "metadata": {
    "colab": {
     "base_uri": "https://localhost:8080/",
     "height": 459
    },
    "executionInfo": {
     "elapsed": 3348,
     "status": "ok",
     "timestamp": 1725042013617,
     "user": {
      "displayName": "Marco Russodivito",
      "userId": "05013084347772678948"
     },
     "user_tz": -120
    },
    "id": "39wnLb3UoS2w",
    "outputId": "56e65b4e-e3df-49ba-9d2f-67db1cee01fd"
   },
   "outputs": [
    {
     "data": {
      "image/png": "[encoded data removed]",
      "text/plain": [
       "<Figure size 1200x600 with 8 Axes>"
      ]
     },
     "metadata": {},
     "output_type": "display_data"
    }
   ],
   "source": [
    "dual_barplot(\n",
    "  'correctness',\n",
    "  correctness('ALL', data_df)[1],\n",
    "  correctness('REGULAR', data_df[data_df['participant_type'] == 'REGULAR'])[1],\n",
    "  correctness('FOREIGNER', data_df[data_df['participant_type'] == 'FOREIGNER'])[1],\n",
    "  correctness('ADMINISTRATIVE', data_df[data_df['participant_type'] == 'ADMINISTRATIVE'])[1]\n",
    ")"
   ]
  },
  {
   "cell_type": "code",
   "execution_count": 25,
   "metadata": {
    "colab": {
     "base_uri": "https://localhost:8080/",
     "height": 678
    },
    "executionInfo": {
     "elapsed": 1739,
     "status": "ok",
     "timestamp": 1725042511381,
     "user": {
      "displayName": "Marco Russodivito",
      "userId": "05013084347772678948"
     },
     "user_tz": -120
    },
    "id": "C-kIJWktTXVk",
    "outputId": "9ed0be85-5998-4ed6-b51e-ec9916ea9364"
   },
   "outputs": [
    {
     "data": {
      "image/png": "[encoded data removed]",
      "text/plain": [
       "<Figure size 1200x400 with 3 Axes>"
      ]
     },
     "metadata": {},
     "output_type": "display_data"
    },
    {
     "data": {
      "image/png": "[encoded data removed]",
      "text/plain": [
       "<Figure size 1200x400 with 3 Axes>"
      ]
     },
     "metadata": {},
     "output_type": "display_data"
    }
   ],
   "source": [
    "dual_boxplot(\n",
    "  correctness('ALL', data_df)[1],\n",
    "  correctness('REGULAR', data_df[data_df['participant_type'] == 'REGULAR'])[1],\n",
    "  correctness('FOREIGNER', data_df[data_df['participant_type'] == 'FOREIGNER'])[1],\n",
    "  correctness('ADMINISTRATIVE', data_df[data_df['participant_type'] == 'ADMINISTRATIVE'])[1]\n",
    ")"
   ]
  },
  {
   "cell_type": "markdown",
   "metadata": {
    "id": "GXq0c0Yciahy"
   },
   "source": [
    "# Insecurity"
   ]
  },
  {
   "cell_type": "code",
   "execution_count": 26,
   "metadata": {
    "executionInfo": {
     "elapsed": 440,
     "status": "ok",
     "timestamp": 1725044323624,
     "user": {
      "displayName": "Marco Russodivito",
      "userId": "05013084347772678948"
     },
     "user_tz": -120
    },
    "id": "NftP58Qkif4v"
   },
   "outputs": [],
   "source": [
    "def insecurity(_n, _p):\n",
    "  return {\n",
    "      'name': _n,\n",
    "      'd1_mean': (_p['d1_insecurity_count'] / 6).mean() * 100,\n",
    "      'd2_mean': (_p['d2_insecurity_count'] / 6).mean() * 100,\n",
    "      ' |': ' |',\n",
    "      'd1o_mean': (_p[_p['participant_group'].isin(['A', 'D'])]['d1_insecurity_count'].mean() / 6).mean() * 100,\n",
    "      'd1s_mean': (_p[_p['participant_group'].isin(['B', 'C'])]['d1_insecurity_count'].mean() / 6).mean() * 100,\n",
    "      'd2o_mean': (_p[_p['participant_group'].isin(['B', 'C'])]['d2_insecurity_count'].mean() / 6).mean() * 100,\n",
    "      'd2s_mean': (_p[_p['participant_group'].isin(['A', 'D'])]['d2_insecurity_count'].mean() / 6).mean() * 100,\n",
    "      '||': '||',\n",
    "      'd1_median': (_p['d1_insecurity_count'] / 6).median() * 100,\n",
    "      'd2_median': (_p['d2_insecurity_count'] / 6).median() * 100,\n",
    "      '| ': '| ',\n",
    "      'd1o_median': (_p[_p['participant_group'].isin(['A', 'D'])]['d1_insecurity_count'] / 6).median() * 100,\n",
    "      'd1s_median': (_p[_p['participant_group'].isin(['B', 'C'])]['d1_insecurity_count'] / 6).median() * 100,\n",
    "      'd2o_median': (_p[_p['participant_group'].isin(['B', 'C'])]['d2_insecurity_count'] / 6).median() * 100,\n",
    "      'd2s_median': (_p[_p['participant_group'].isin(['A', 'D'])]['d2_insecurity_count'] / 6).median() * 100,\n",
    "  }, {\n",
    "      'name': _n,\n",
    "      'd1o': _p[_p['participant_group'].isin(['A', 'D'])]['d1_insecurity_count'],\n",
    "      'd1s': _p[_p['participant_group'].isin(['B', 'C'])]['d1_insecurity_count'],\n",
    "      'd2o': _p[_p['participant_group'].isin(['B', 'C'])]['d2_insecurity_count'],\n",
    "      'd2s': _p[_p['participant_group'].isin(['A', 'D'])]['d2_insecurity_count']\n",
    "  }"
   ]
  },
  {
   "cell_type": "code",
   "execution_count": 27,
   "metadata": {
    "colab": {
     "base_uri": "https://localhost:8080/",
     "height": 194
    },
    "executionInfo": {
     "elapsed": 400,
     "status": "ok",
     "timestamp": 1725044325258,
     "user": {
      "displayName": "Marco Russodivito",
      "userId": "05013084347772678948"
     },
     "user_tz": -120
    },
    "id": "NGMcyZJsi3N0",
    "outputId": "bc3dcab0-5e18-4b9f-f3ae-f0001483ba7b"
   },
   "outputs": [
    {
     "data": {
      "text/html": [
       "<div>\n",
       "<style scoped>\n",
       "    .dataframe tbody tr th:only-of-type {\n",
       "        vertical-align: middle;\n",
       "    }\n",
       "\n",
       "    .dataframe tbody tr th {\n",
       "        vertical-align: top;\n",
       "    }\n",
       "\n",
       "    .dataframe thead th {\n",
       "        text-align: right;\n",
       "    }\n",
       "</style>\n",
       "<table border=\"1\" class=\"dataframe\">\n",
       "  <thead>\n",
       "    <tr style=\"text-align: right;\">\n",
       "      <th></th>\n",
       "      <th>name</th>\n",
       "      <th>d1_mean</th>\n",
       "      <th>d2_mean</th>\n",
       "      <th>|</th>\n",
       "      <th>d1o_mean</th>\n",
       "      <th>d1s_mean</th>\n",
       "      <th>d2o_mean</th>\n",
       "      <th>d2s_mean</th>\n",
       "      <th>||</th>\n",
       "      <th>d1_median</th>\n",
       "      <th>d2_median</th>\n",
       "      <th>|</th>\n",
       "      <th>d1o_median</th>\n",
       "      <th>d1s_median</th>\n",
       "      <th>d2o_median</th>\n",
       "      <th>d2s_median</th>\n",
       "    </tr>\n",
       "  </thead>\n",
       "  <tbody>\n",
       "    <tr>\n",
       "      <th>0</th>\n",
       "      <td>ALL</td>\n",
       "      <td>4.509804</td>\n",
       "      <td>2.549020</td>\n",
       "      <td>|</td>\n",
       "      <td>4.471545</td>\n",
       "      <td>4.545455</td>\n",
       "      <td>1.136364</td>\n",
       "      <td>4.065041</td>\n",
       "      <td>||</td>\n",
       "      <td>0.0</td>\n",
       "      <td>0.0</td>\n",
       "      <td>|</td>\n",
       "      <td>0.0</td>\n",
       "      <td>0.0</td>\n",
       "      <td>0.0</td>\n",
       "      <td>0.0</td>\n",
       "    </tr>\n",
       "    <tr>\n",
       "      <th>1</th>\n",
       "      <td>REGULAR</td>\n",
       "      <td>3.658537</td>\n",
       "      <td>2.845528</td>\n",
       "      <td>|</td>\n",
       "      <td>4.166667</td>\n",
       "      <td>3.174603</td>\n",
       "      <td>1.587302</td>\n",
       "      <td>4.166667</td>\n",
       "      <td>||</td>\n",
       "      <td>0.0</td>\n",
       "      <td>0.0</td>\n",
       "      <td>|</td>\n",
       "      <td>0.0</td>\n",
       "      <td>0.0</td>\n",
       "      <td>0.0</td>\n",
       "      <td>0.0</td>\n",
       "    </tr>\n",
       "    <tr>\n",
       "      <th>2</th>\n",
       "      <td>FOREIGNER</td>\n",
       "      <td>7.471264</td>\n",
       "      <td>2.873563</td>\n",
       "      <td>|</td>\n",
       "      <td>7.142857</td>\n",
       "      <td>7.777778</td>\n",
       "      <td>1.111111</td>\n",
       "      <td>4.761905</td>\n",
       "      <td>||</td>\n",
       "      <td>0.0</td>\n",
       "      <td>0.0</td>\n",
       "      <td>|</td>\n",
       "      <td>0.0</td>\n",
       "      <td>0.0</td>\n",
       "      <td>0.0</td>\n",
       "      <td>0.0</td>\n",
       "    </tr>\n",
       "    <tr>\n",
       "      <th>3</th>\n",
       "      <td>ADMINISTRATIVE</td>\n",
       "      <td>1.111111</td>\n",
       "      <td>1.111111</td>\n",
       "      <td>|</td>\n",
       "      <td>0.000000</td>\n",
       "      <td>2.083333</td>\n",
       "      <td>0.000000</td>\n",
       "      <td>2.380952</td>\n",
       "      <td>||</td>\n",
       "      <td>0.0</td>\n",
       "      <td>0.0</td>\n",
       "      <td>|</td>\n",
       "      <td>0.0</td>\n",
       "      <td>0.0</td>\n",
       "      <td>0.0</td>\n",
       "      <td>0.0</td>\n",
       "    </tr>\n",
       "  </tbody>\n",
       "</table>\n",
       "</div>"
      ],
      "text/plain": [
       "             name   d1_mean   d2_mean   |  d1o_mean  d1s_mean  d2o_mean  \\\n",
       "0             ALL  4.509804  2.549020   |  4.471545  4.545455  1.136364   \n",
       "1         REGULAR  3.658537  2.845528   |  4.166667  3.174603  1.587302   \n",
       "2       FOREIGNER  7.471264  2.873563   |  7.142857  7.777778  1.111111   \n",
       "3  ADMINISTRATIVE  1.111111  1.111111   |  0.000000  2.083333  0.000000   \n",
       "\n",
       "   d2s_mean  ||  d1_median  d2_median  |   d1o_median  d1s_median  d2o_median  \\\n",
       "0  4.065041  ||        0.0        0.0  |          0.0         0.0         0.0   \n",
       "1  4.166667  ||        0.0        0.0  |          0.0         0.0         0.0   \n",
       "2  4.761905  ||        0.0        0.0  |          0.0         0.0         0.0   \n",
       "3  2.380952  ||        0.0        0.0  |          0.0         0.0         0.0   \n",
       "\n",
       "   d2s_median  \n",
       "0         0.0  \n",
       "1         0.0  \n",
       "2         0.0  \n",
       "3         0.0  "
      ]
     },
     "execution_count": 27,
     "metadata": {},
     "output_type": "execute_result"
    }
   ],
   "source": [
    "pd.DataFrame([\n",
    "  insecurity('ALL', data_df)[0],\n",
    "  insecurity('REGULAR', data_df[data_df['participant_type'] == 'REGULAR'])[0],\n",
    "  insecurity('FOREIGNER', data_df[data_df['participant_type'] == 'FOREIGNER'])[0],\n",
    "  insecurity('ADMINISTRATIVE', data_df[data_df['participant_type'] == 'ADMINISTRATIVE'])[0],\n",
    "]).head(5)"
   ]
  },
  {
   "cell_type": "code",
   "execution_count": 28,
   "metadata": {
    "colab": {
     "base_uri": "https://localhost:8080/",
     "height": 465
    },
    "executionInfo": {
     "elapsed": 2042,
     "status": "ok",
     "timestamp": 1725042016967,
     "user": {
      "displayName": "Marco Russodivito",
      "userId": "05013084347772678948"
     },
     "user_tz": -120
    },
    "id": "7h0vZP2kiqD1",
    "outputId": "e0ef83a2-b08c-4d7d-eadd-6120f3d4625e"
   },
   "outputs": [
    {
     "data": {
      "image/png": "[encoded data removed]",
      "text/plain": [
       "<Figure size 1200x600 with 8 Axes>"
      ]
     },
     "metadata": {},
     "output_type": "display_data"
    }
   ],
   "source": [
    "dual_barplot(\n",
    "  'insecurity',\n",
    "  insecurity('ALL', data_df)[1],\n",
    "  insecurity('REGULAR', data_df[data_df['participant_type'] == 'REGULAR'])[1],\n",
    "  insecurity('FOREIGNER', data_df[data_df['participant_type'] == 'FOREIGNER'])[1],\n",
    "  insecurity('ADMINISTRATIVE', data_df[data_df['participant_type'] == 'ADMINISTRATIVE'])[1]\n",
    ")"
   ]
  },
  {
   "cell_type": "code",
   "execution_count": 29,
   "metadata": {
    "colab": {
     "base_uri": "https://localhost:8080/",
     "height": 468
    },
    "executionInfo": {
     "elapsed": 1413,
     "status": "ok",
     "timestamp": 1725042018378,
     "user": {
      "displayName": "Marco Russodivito",
      "userId": "05013084347772678948"
     },
     "user_tz": -120
    },
    "id": "qD002_FkjQmc",
    "outputId": "cc00f705-f01b-4e3e-abe9-62e3669a40ca"
   },
   "outputs": [
    {
     "data": {
      "image/png": "[encoded data removed]",
      "text/plain": [
       "<Figure size 1200x400 with 3 Axes>"
      ]
     },
     "metadata": {},
     "output_type": "display_data"
    },
    {
     "data": {
      "image/png": "[encoded data removed]",
      "text/plain": [
       "<Figure size 1200x400 with 3 Axes>"
      ]
     },
     "metadata": {},
     "output_type": "display_data"
    }
   ],
   "source": [
    "dual_boxplot(\n",
    "  insecurity('ALL', data_df)[1],\n",
    "  insecurity('REGULAR', data_df[data_df['participant_type'] == 'REGULAR'])[1],\n",
    "  insecurity('FOREIGNER', data_df[data_df['participant_type'] == 'FOREIGNER'])[1],\n",
    "  insecurity('ADMINISTRATIVE', data_df[data_df['participant_type'] == 'ADMINISTRATIVE'])[1]\n",
    ")"
   ]
  },
  {
   "cell_type": "markdown",
   "metadata": {
    "id": "uM-hfUADjxqX"
   },
   "source": [
    "# Questions"
   ]
  },
  {
   "cell_type": "code",
   "execution_count": 30,
   "metadata": {
    "executionInfo": {
     "elapsed": 4,
     "status": "aborted",
     "timestamp": 1725041907839,
     "user": {
      "displayName": "Marco Russodivito",
      "userId": "05013084347772678948"
     },
     "user_tz": -120
    },
    "id": "iAc0f5liwHcW"
   },
   "outputs": [],
   "source": [
    "def question_d1(_q, _n, _p):\n",
    "  original_total = _p[_p['participant_group'].isin(['A', 'D'])].shape[0]\n",
    "  simplified_total = _p[_p['participant_group'].isin(['B', 'C'])].shape[0]\n",
    "  return {\n",
    "      'name': _n,\n",
    "      'o_correct': (_p[_p['participant_group'].isin(['A', 'D'])]['d1_' + _q] == 1).sum(),\n",
    "      'o_correct (%)': (_p[_p['participant_group'].isin(['A', 'D'])]['d1_' + _q] == 1).sum() / original_total * 100,\n",
    "      's_correct': (_p[_p['participant_group'].isin(['B', 'C'])]['d1_' + _q] == 1).sum(),\n",
    "      's_correct (%)': (_p[_p['participant_group'].isin(['B', 'C'])]['d1_' + _q] == 1).sum() / simplified_total * 100,\n",
    "      '||': '||',\n",
    "      'o_insecurity': (_p[_p['participant_group'].isin(['A', 'D'])]['d1_' + _q] == 5).sum(),\n",
    "      'o_insecurity (%)': (_p[_p['participant_group'].isin(['A', 'D'])]['d1_' + _q] == 5).sum() / original_total * 100,\n",
    "      's_insecurity': (_p[_p['participant_group'].isin(['B', 'C'])]['d1_' + _q] == 5).sum(),\n",
    "      's_insecurity (%)': (_p[_p['participant_group'].isin(['B', 'C'])]['d1_' + _q] == 5).sum() / simplified_total * 100,\n",
    "  }\n",
    "\n",
    "\n",
    "def question_d1_for_plot(_n, _p):\n",
    "  return {\n",
    "    'q1_o': _p[_p['participant_group'].isin(['A', 'D'])]['d1_q1'],\n",
    "    'q1_s': _p[_p['participant_group'].isin(['B', 'C'])]['d1_q1'],\n",
    "    'q2_o': _p[_p['participant_group'].isin(['A', 'D'])]['d1_q2'],\n",
    "    'q2_s': _p[_p['participant_group'].isin(['B', 'C'])]['d1_q2'],\n",
    "    'q3_o': _p[_p['participant_group'].isin(['A', 'D'])]['d1_q3'],\n",
    "    'q3_s': _p[_p['participant_group'].isin(['B', 'C'])]['d1_q3'],\n",
    "    'q4_o': _p[_p['participant_group'].isin(['A', 'D'])]['d1_q4'],\n",
    "    'q4_s': _p[_p['participant_group'].isin(['B', 'C'])]['d1_q4'],\n",
    "    'q5_o': _p[_p['participant_group'].isin(['A', 'D'])]['d1_q5'],\n",
    "    'q5_s': _p[_p['participant_group'].isin(['B', 'C'])]['d1_q5'],\n",
    "    'q6_o': _p[_p['participant_group'].isin(['A', 'D'])]['d1_q6'],\n",
    "    'q6_s': _p[_p['participant_group'].isin(['B', 'C'])]['d1_q6'],\n",
    "  }\n",
    "\n",
    "\n",
    "def question_d2(_q, _n, _p):\n",
    "  original_total = _p[_p['participant_group'].isin(['B', 'C'])].shape[0]\n",
    "  simplified_total = _p[_p['participant_group'].isin(['A', 'D'])].shape[0]\n",
    "  return {\n",
    "      'name': _n,\n",
    "      'o_correct':          (_p[_p['participant_group'].isin(['B', 'C'])]['d2_' + _q] == 1).sum(),\n",
    "      'o_correct (%)':      (_p[_p['participant_group'].isin(['B', 'C'])]['d2_' + _q] == 1).sum() / original_total * 100,\n",
    "      's_correct':          (_p[_p['participant_group'].isin(['A', 'D'])]['d2_' + _q] == 1).sum(),\n",
    "      's_correct (%)':      (_p[_p['participant_group'].isin(['A', 'D'])]['d2_' + _q] == 1).sum() / simplified_total * 100,\n",
    "      '||': '||',\n",
    "      'o_insecurity':       (_p[_p['participant_group'].isin(['B', 'C'])]['d2_' + _q] == 5).sum(),\n",
    "      'o_insecurity (%)':   (_p[_p['participant_group'].isin(['B', 'C'])]['d2_' + _q] == 5).sum() / original_total * 100,\n",
    "      's_insecurity':       (_p[_p['participant_group'].isin(['A', 'D'])]['d2_' + _q] == 5).sum(),\n",
    "      's_insecurity (%)':   (_p[_p['participant_group'].isin(['A', 'D'])]['d2_' + _q] == 5).sum() / simplified_total * 100,\n",
    "  }\n",
    "\n",
    "def question_d2_for_plot(_n, _p):\n",
    "  return {\n",
    "    'q1_o': _p[_p['participant_group'].isin(['B', 'C'])]['d2_q1'],\n",
    "    'q1_s': _p[_p['participant_group'].isin(['A', 'D'])]['d2_q1'],\n",
    "    'q2_o': _p[_p['participant_group'].isin(['B', 'C'])]['d2_q2'],\n",
    "    'q2_s': _p[_p['participant_group'].isin(['A', 'D'])]['d2_q2'],\n",
    "    'q3_o': _p[_p['participant_group'].isin(['B', 'C'])]['d2_q3'],\n",
    "    'q3_s': _p[_p['participant_group'].isin(['A', 'D'])]['d2_q3'],\n",
    "    'q4_o': _p[_p['participant_group'].isin(['B', 'C'])]['d2_q4'],\n",
    "    'q4_s': _p[_p['participant_group'].isin(['A', 'D'])]['d2_q4'],\n",
    "    'q5_o': _p[_p['participant_group'].isin(['B', 'C'])]['d2_q5'],\n",
    "    'q5_s': _p[_p['participant_group'].isin(['A', 'D'])]['d2_q5'],\n",
    "    'q6_o': _p[_p['participant_group'].isin(['B', 'C'])]['d2_q6'],\n",
    "    'q6_s': _p[_p['participant_group'].isin(['A', 'D'])]['d2_q6'],\n",
    "  }"
   ]
  },
  {
   "cell_type": "markdown",
   "metadata": {
    "id": "Kt7NPvZoxqur"
   },
   "source": [
    "## D1"
   ]
  },
  {
   "cell_type": "code",
   "execution_count": 31,
   "metadata": {
    "executionInfo": {
     "elapsed": 4,
     "status": "aborted",
     "timestamp": 1725041907839,
     "user": {
      "displayName": "Marco Russodivito",
      "userId": "05013084347772678948"
     },
     "user_tz": -120
    },
    "id": "8-09HAOOxO8n"
   },
   "outputs": [
    {
     "name": "stdout",
     "output_type": "stream",
     "text": [
      "q1\n"
     ]
    },
    {
     "data": {
      "text/html": [
       "<div>\n",
       "<style scoped>\n",
       "    .dataframe tbody tr th:only-of-type {\n",
       "        vertical-align: middle;\n",
       "    }\n",
       "\n",
       "    .dataframe tbody tr th {\n",
       "        vertical-align: top;\n",
       "    }\n",
       "\n",
       "    .dataframe thead th {\n",
       "        text-align: right;\n",
       "    }\n",
       "</style>\n",
       "<table border=\"1\" class=\"dataframe\">\n",
       "  <thead>\n",
       "    <tr style=\"text-align: right;\">\n",
       "      <th></th>\n",
       "      <th>name</th>\n",
       "      <th>o_correct</th>\n",
       "      <th>o_correct (%)</th>\n",
       "      <th>s_correct</th>\n",
       "      <th>s_correct (%)</th>\n",
       "      <th>||</th>\n",
       "      <th>o_insecurity</th>\n",
       "      <th>o_insecurity (%)</th>\n",
       "      <th>s_insecurity</th>\n",
       "      <th>s_insecurity (%)</th>\n",
       "    </tr>\n",
       "  </thead>\n",
       "  <tbody>\n",
       "    <tr>\n",
       "      <th>0</th>\n",
       "      <td>ALL</td>\n",
       "      <td>36</td>\n",
       "      <td>87.804878</td>\n",
       "      <td>39</td>\n",
       "      <td>88.636364</td>\n",
       "      <td>||</td>\n",
       "      <td>0</td>\n",
       "      <td>0.0</td>\n",
       "      <td>1</td>\n",
       "      <td>2.272727</td>\n",
       "    </tr>\n",
       "    <tr>\n",
       "      <th>1</th>\n",
       "      <td>REGULAR</td>\n",
       "      <td>17</td>\n",
       "      <td>85.000000</td>\n",
       "      <td>21</td>\n",
       "      <td>100.000000</td>\n",
       "      <td>||</td>\n",
       "      <td>0</td>\n",
       "      <td>0.0</td>\n",
       "      <td>0</td>\n",
       "      <td>0.000000</td>\n",
       "    </tr>\n",
       "    <tr>\n",
       "      <th>2</th>\n",
       "      <td>FOREIGNER</td>\n",
       "      <td>12</td>\n",
       "      <td>85.714286</td>\n",
       "      <td>10</td>\n",
       "      <td>66.666667</td>\n",
       "      <td>||</td>\n",
       "      <td>0</td>\n",
       "      <td>0.0</td>\n",
       "      <td>1</td>\n",
       "      <td>6.666667</td>\n",
       "    </tr>\n",
       "    <tr>\n",
       "      <th>3</th>\n",
       "      <td>ADMINISTRATIVE</td>\n",
       "      <td>7</td>\n",
       "      <td>100.000000</td>\n",
       "      <td>8</td>\n",
       "      <td>100.000000</td>\n",
       "      <td>||</td>\n",
       "      <td>0</td>\n",
       "      <td>0.0</td>\n",
       "      <td>0</td>\n",
       "      <td>0.000000</td>\n",
       "    </tr>\n",
       "  </tbody>\n",
       "</table>\n",
       "</div>"
      ],
      "text/plain": [
       "             name  o_correct  o_correct (%)  s_correct  s_correct (%)  ||  \\\n",
       "0             ALL         36      87.804878         39      88.636364  ||   \n",
       "1         REGULAR         17      85.000000         21     100.000000  ||   \n",
       "2       FOREIGNER         12      85.714286         10      66.666667  ||   \n",
       "3  ADMINISTRATIVE          7     100.000000          8     100.000000  ||   \n",
       "\n",
       "   o_insecurity  o_insecurity (%)  s_insecurity  s_insecurity (%)  \n",
       "0             0               0.0             1          2.272727  \n",
       "1             0               0.0             0          0.000000  \n",
       "2             0               0.0             1          6.666667  \n",
       "3             0               0.0             0          0.000000  "
      ]
     },
     "metadata": {},
     "output_type": "display_data"
    },
    {
     "name": "stdout",
     "output_type": "stream",
     "text": [
      "q2\n"
     ]
    },
    {
     "data": {
      "text/html": [
       "<div>\n",
       "<style scoped>\n",
       "    .dataframe tbody tr th:only-of-type {\n",
       "        vertical-align: middle;\n",
       "    }\n",
       "\n",
       "    .dataframe tbody tr th {\n",
       "        vertical-align: top;\n",
       "    }\n",
       "\n",
       "    .dataframe thead th {\n",
       "        text-align: right;\n",
       "    }\n",
       "</style>\n",
       "<table border=\"1\" class=\"dataframe\">\n",
       "  <thead>\n",
       "    <tr style=\"text-align: right;\">\n",
       "      <th></th>\n",
       "      <th>name</th>\n",
       "      <th>o_correct</th>\n",
       "      <th>o_correct (%)</th>\n",
       "      <th>s_correct</th>\n",
       "      <th>s_correct (%)</th>\n",
       "      <th>||</th>\n",
       "      <th>o_insecurity</th>\n",
       "      <th>o_insecurity (%)</th>\n",
       "      <th>s_insecurity</th>\n",
       "      <th>s_insecurity (%)</th>\n",
       "    </tr>\n",
       "  </thead>\n",
       "  <tbody>\n",
       "    <tr>\n",
       "      <th>0</th>\n",
       "      <td>ALL</td>\n",
       "      <td>7</td>\n",
       "      <td>17.073171</td>\n",
       "      <td>8</td>\n",
       "      <td>18.181818</td>\n",
       "      <td>||</td>\n",
       "      <td>2</td>\n",
       "      <td>4.878049</td>\n",
       "      <td>2</td>\n",
       "      <td>4.545455</td>\n",
       "    </tr>\n",
       "    <tr>\n",
       "      <th>1</th>\n",
       "      <td>REGULAR</td>\n",
       "      <td>3</td>\n",
       "      <td>15.000000</td>\n",
       "      <td>4</td>\n",
       "      <td>19.047619</td>\n",
       "      <td>||</td>\n",
       "      <td>2</td>\n",
       "      <td>10.000000</td>\n",
       "      <td>1</td>\n",
       "      <td>4.761905</td>\n",
       "    </tr>\n",
       "    <tr>\n",
       "      <th>2</th>\n",
       "      <td>FOREIGNER</td>\n",
       "      <td>2</td>\n",
       "      <td>14.285714</td>\n",
       "      <td>1</td>\n",
       "      <td>6.666667</td>\n",
       "      <td>||</td>\n",
       "      <td>0</td>\n",
       "      <td>0.000000</td>\n",
       "      <td>1</td>\n",
       "      <td>6.666667</td>\n",
       "    </tr>\n",
       "    <tr>\n",
       "      <th>3</th>\n",
       "      <td>ADMINISTRATIVE</td>\n",
       "      <td>2</td>\n",
       "      <td>28.571429</td>\n",
       "      <td>3</td>\n",
       "      <td>37.500000</td>\n",
       "      <td>||</td>\n",
       "      <td>0</td>\n",
       "      <td>0.000000</td>\n",
       "      <td>0</td>\n",
       "      <td>0.000000</td>\n",
       "    </tr>\n",
       "  </tbody>\n",
       "</table>\n",
       "</div>"
      ],
      "text/plain": [
       "             name  o_correct  o_correct (%)  s_correct  s_correct (%)  ||  \\\n",
       "0             ALL          7      17.073171          8      18.181818  ||   \n",
       "1         REGULAR          3      15.000000          4      19.047619  ||   \n",
       "2       FOREIGNER          2      14.285714          1       6.666667  ||   \n",
       "3  ADMINISTRATIVE          2      28.571429          3      37.500000  ||   \n",
       "\n",
       "   o_insecurity  o_insecurity (%)  s_insecurity  s_insecurity (%)  \n",
       "0             2          4.878049             2          4.545455  \n",
       "1             2         10.000000             1          4.761905  \n",
       "2             0          0.000000             1          6.666667  \n",
       "3             0          0.000000             0          0.000000  "
      ]
     },
     "metadata": {},
     "output_type": "display_data"
    },
    {
     "name": "stdout",
     "output_type": "stream",
     "text": [
      "q3\n"
     ]
    },
    {
     "data": {
      "text/html": [
       "<div>\n",
       "<style scoped>\n",
       "    .dataframe tbody tr th:only-of-type {\n",
       "        vertical-align: middle;\n",
       "    }\n",
       "\n",
       "    .dataframe tbody tr th {\n",
       "        vertical-align: top;\n",
       "    }\n",
       "\n",
       "    .dataframe thead th {\n",
       "        text-align: right;\n",
       "    }\n",
       "</style>\n",
       "<table border=\"1\" class=\"dataframe\">\n",
       "  <thead>\n",
       "    <tr style=\"text-align: right;\">\n",
       "      <th></th>\n",
       "      <th>name</th>\n",
       "      <th>o_correct</th>\n",
       "      <th>o_correct (%)</th>\n",
       "      <th>s_correct</th>\n",
       "      <th>s_correct (%)</th>\n",
       "      <th>||</th>\n",
       "      <th>o_insecurity</th>\n",
       "      <th>o_insecurity (%)</th>\n",
       "      <th>s_insecurity</th>\n",
       "      <th>s_insecurity (%)</th>\n",
       "    </tr>\n",
       "  </thead>\n",
       "  <tbody>\n",
       "    <tr>\n",
       "      <th>0</th>\n",
       "      <td>ALL</td>\n",
       "      <td>22</td>\n",
       "      <td>53.658537</td>\n",
       "      <td>22</td>\n",
       "      <td>50.000000</td>\n",
       "      <td>||</td>\n",
       "      <td>2</td>\n",
       "      <td>4.878049</td>\n",
       "      <td>0</td>\n",
       "      <td>0.0</td>\n",
       "    </tr>\n",
       "    <tr>\n",
       "      <th>1</th>\n",
       "      <td>REGULAR</td>\n",
       "      <td>10</td>\n",
       "      <td>50.000000</td>\n",
       "      <td>13</td>\n",
       "      <td>61.904762</td>\n",
       "      <td>||</td>\n",
       "      <td>0</td>\n",
       "      <td>0.000000</td>\n",
       "      <td>0</td>\n",
       "      <td>0.0</td>\n",
       "    </tr>\n",
       "    <tr>\n",
       "      <th>2</th>\n",
       "      <td>FOREIGNER</td>\n",
       "      <td>8</td>\n",
       "      <td>57.142857</td>\n",
       "      <td>6</td>\n",
       "      <td>40.000000</td>\n",
       "      <td>||</td>\n",
       "      <td>2</td>\n",
       "      <td>14.285714</td>\n",
       "      <td>0</td>\n",
       "      <td>0.0</td>\n",
       "    </tr>\n",
       "    <tr>\n",
       "      <th>3</th>\n",
       "      <td>ADMINISTRATIVE</td>\n",
       "      <td>4</td>\n",
       "      <td>57.142857</td>\n",
       "      <td>3</td>\n",
       "      <td>37.500000</td>\n",
       "      <td>||</td>\n",
       "      <td>0</td>\n",
       "      <td>0.000000</td>\n",
       "      <td>0</td>\n",
       "      <td>0.0</td>\n",
       "    </tr>\n",
       "  </tbody>\n",
       "</table>\n",
       "</div>"
      ],
      "text/plain": [
       "             name  o_correct  o_correct (%)  s_correct  s_correct (%)  ||  \\\n",
       "0             ALL         22      53.658537         22      50.000000  ||   \n",
       "1         REGULAR         10      50.000000         13      61.904762  ||   \n",
       "2       FOREIGNER          8      57.142857          6      40.000000  ||   \n",
       "3  ADMINISTRATIVE          4      57.142857          3      37.500000  ||   \n",
       "\n",
       "   o_insecurity  o_insecurity (%)  s_insecurity  s_insecurity (%)  \n",
       "0             2          4.878049             0               0.0  \n",
       "1             0          0.000000             0               0.0  \n",
       "2             2         14.285714             0               0.0  \n",
       "3             0          0.000000             0               0.0  "
      ]
     },
     "metadata": {},
     "output_type": "display_data"
    },
    {
     "name": "stdout",
     "output_type": "stream",
     "text": [
      "q4\n"
     ]
    },
    {
     "data": {
      "text/html": [
       "<div>\n",
       "<style scoped>\n",
       "    .dataframe tbody tr th:only-of-type {\n",
       "        vertical-align: middle;\n",
       "    }\n",
       "\n",
       "    .dataframe tbody tr th {\n",
       "        vertical-align: top;\n",
       "    }\n",
       "\n",
       "    .dataframe thead th {\n",
       "        text-align: right;\n",
       "    }\n",
       "</style>\n",
       "<table border=\"1\" class=\"dataframe\">\n",
       "  <thead>\n",
       "    <tr style=\"text-align: right;\">\n",
       "      <th></th>\n",
       "      <th>name</th>\n",
       "      <th>o_correct</th>\n",
       "      <th>o_correct (%)</th>\n",
       "      <th>s_correct</th>\n",
       "      <th>s_correct (%)</th>\n",
       "      <th>||</th>\n",
       "      <th>o_insecurity</th>\n",
       "      <th>o_insecurity (%)</th>\n",
       "      <th>s_insecurity</th>\n",
       "      <th>s_insecurity (%)</th>\n",
       "    </tr>\n",
       "  </thead>\n",
       "  <tbody>\n",
       "    <tr>\n",
       "      <th>0</th>\n",
       "      <td>ALL</td>\n",
       "      <td>31</td>\n",
       "      <td>75.609756</td>\n",
       "      <td>23</td>\n",
       "      <td>52.272727</td>\n",
       "      <td>||</td>\n",
       "      <td>1</td>\n",
       "      <td>2.439024</td>\n",
       "      <td>5</td>\n",
       "      <td>11.363636</td>\n",
       "    </tr>\n",
       "    <tr>\n",
       "      <th>1</th>\n",
       "      <td>REGULAR</td>\n",
       "      <td>16</td>\n",
       "      <td>80.000000</td>\n",
       "      <td>11</td>\n",
       "      <td>52.380952</td>\n",
       "      <td>||</td>\n",
       "      <td>0</td>\n",
       "      <td>0.000000</td>\n",
       "      <td>2</td>\n",
       "      <td>9.523810</td>\n",
       "    </tr>\n",
       "    <tr>\n",
       "      <th>2</th>\n",
       "      <td>FOREIGNER</td>\n",
       "      <td>9</td>\n",
       "      <td>64.285714</td>\n",
       "      <td>6</td>\n",
       "      <td>40.000000</td>\n",
       "      <td>||</td>\n",
       "      <td>1</td>\n",
       "      <td>7.142857</td>\n",
       "      <td>3</td>\n",
       "      <td>20.000000</td>\n",
       "    </tr>\n",
       "    <tr>\n",
       "      <th>3</th>\n",
       "      <td>ADMINISTRATIVE</td>\n",
       "      <td>6</td>\n",
       "      <td>85.714286</td>\n",
       "      <td>6</td>\n",
       "      <td>75.000000</td>\n",
       "      <td>||</td>\n",
       "      <td>0</td>\n",
       "      <td>0.000000</td>\n",
       "      <td>0</td>\n",
       "      <td>0.000000</td>\n",
       "    </tr>\n",
       "  </tbody>\n",
       "</table>\n",
       "</div>"
      ],
      "text/plain": [
       "             name  o_correct  o_correct (%)  s_correct  s_correct (%)  ||  \\\n",
       "0             ALL         31      75.609756         23      52.272727  ||   \n",
       "1         REGULAR         16      80.000000         11      52.380952  ||   \n",
       "2       FOREIGNER          9      64.285714          6      40.000000  ||   \n",
       "3  ADMINISTRATIVE          6      85.714286          6      75.000000  ||   \n",
       "\n",
       "   o_insecurity  o_insecurity (%)  s_insecurity  s_insecurity (%)  \n",
       "0             1          2.439024             5         11.363636  \n",
       "1             0          0.000000             2          9.523810  \n",
       "2             1          7.142857             3         20.000000  \n",
       "3             0          0.000000             0          0.000000  "
      ]
     },
     "metadata": {},
     "output_type": "display_data"
    },
    {
     "name": "stdout",
     "output_type": "stream",
     "text": [
      "q5\n"
     ]
    },
    {
     "data": {
      "text/html": [
       "<div>\n",
       "<style scoped>\n",
       "    .dataframe tbody tr th:only-of-type {\n",
       "        vertical-align: middle;\n",
       "    }\n",
       "\n",
       "    .dataframe tbody tr th {\n",
       "        vertical-align: top;\n",
       "    }\n",
       "\n",
       "    .dataframe thead th {\n",
       "        text-align: right;\n",
       "    }\n",
       "</style>\n",
       "<table border=\"1\" class=\"dataframe\">\n",
       "  <thead>\n",
       "    <tr style=\"text-align: right;\">\n",
       "      <th></th>\n",
       "      <th>name</th>\n",
       "      <th>o_correct</th>\n",
       "      <th>o_correct (%)</th>\n",
       "      <th>s_correct</th>\n",
       "      <th>s_correct (%)</th>\n",
       "      <th>||</th>\n",
       "      <th>o_insecurity</th>\n",
       "      <th>o_insecurity (%)</th>\n",
       "      <th>s_insecurity</th>\n",
       "      <th>s_insecurity (%)</th>\n",
       "    </tr>\n",
       "  </thead>\n",
       "  <tbody>\n",
       "    <tr>\n",
       "      <th>0</th>\n",
       "      <td>ALL</td>\n",
       "      <td>24</td>\n",
       "      <td>58.536585</td>\n",
       "      <td>33</td>\n",
       "      <td>75.000000</td>\n",
       "      <td>||</td>\n",
       "      <td>5</td>\n",
       "      <td>12.195122</td>\n",
       "      <td>0</td>\n",
       "      <td>0.0</td>\n",
       "    </tr>\n",
       "    <tr>\n",
       "      <th>1</th>\n",
       "      <td>REGULAR</td>\n",
       "      <td>13</td>\n",
       "      <td>65.000000</td>\n",
       "      <td>18</td>\n",
       "      <td>85.714286</td>\n",
       "      <td>||</td>\n",
       "      <td>2</td>\n",
       "      <td>10.000000</td>\n",
       "      <td>0</td>\n",
       "      <td>0.0</td>\n",
       "    </tr>\n",
       "    <tr>\n",
       "      <th>2</th>\n",
       "      <td>FOREIGNER</td>\n",
       "      <td>5</td>\n",
       "      <td>35.714286</td>\n",
       "      <td>9</td>\n",
       "      <td>60.000000</td>\n",
       "      <td>||</td>\n",
       "      <td>3</td>\n",
       "      <td>21.428571</td>\n",
       "      <td>0</td>\n",
       "      <td>0.0</td>\n",
       "    </tr>\n",
       "    <tr>\n",
       "      <th>3</th>\n",
       "      <td>ADMINISTRATIVE</td>\n",
       "      <td>6</td>\n",
       "      <td>85.714286</td>\n",
       "      <td>6</td>\n",
       "      <td>75.000000</td>\n",
       "      <td>||</td>\n",
       "      <td>0</td>\n",
       "      <td>0.000000</td>\n",
       "      <td>0</td>\n",
       "      <td>0.0</td>\n",
       "    </tr>\n",
       "  </tbody>\n",
       "</table>\n",
       "</div>"
      ],
      "text/plain": [
       "             name  o_correct  o_correct (%)  s_correct  s_correct (%)  ||  \\\n",
       "0             ALL         24      58.536585         33      75.000000  ||   \n",
       "1         REGULAR         13      65.000000         18      85.714286  ||   \n",
       "2       FOREIGNER          5      35.714286          9      60.000000  ||   \n",
       "3  ADMINISTRATIVE          6      85.714286          6      75.000000  ||   \n",
       "\n",
       "   o_insecurity  o_insecurity (%)  s_insecurity  s_insecurity (%)  \n",
       "0             5         12.195122             0               0.0  \n",
       "1             2         10.000000             0               0.0  \n",
       "2             3         21.428571             0               0.0  \n",
       "3             0          0.000000             0               0.0  "
      ]
     },
     "metadata": {},
     "output_type": "display_data"
    },
    {
     "name": "stdout",
     "output_type": "stream",
     "text": [
      "q6\n"
     ]
    },
    {
     "data": {
      "text/html": [
       "<div>\n",
       "<style scoped>\n",
       "    .dataframe tbody tr th:only-of-type {\n",
       "        vertical-align: middle;\n",
       "    }\n",
       "\n",
       "    .dataframe tbody tr th {\n",
       "        vertical-align: top;\n",
       "    }\n",
       "\n",
       "    .dataframe thead th {\n",
       "        text-align: right;\n",
       "    }\n",
       "</style>\n",
       "<table border=\"1\" class=\"dataframe\">\n",
       "  <thead>\n",
       "    <tr style=\"text-align: right;\">\n",
       "      <th></th>\n",
       "      <th>name</th>\n",
       "      <th>o_correct</th>\n",
       "      <th>o_correct (%)</th>\n",
       "      <th>s_correct</th>\n",
       "      <th>s_correct (%)</th>\n",
       "      <th>||</th>\n",
       "      <th>o_insecurity</th>\n",
       "      <th>o_insecurity (%)</th>\n",
       "      <th>s_insecurity</th>\n",
       "      <th>s_insecurity (%)</th>\n",
       "    </tr>\n",
       "  </thead>\n",
       "  <tbody>\n",
       "    <tr>\n",
       "      <th>0</th>\n",
       "      <td>ALL</td>\n",
       "      <td>35</td>\n",
       "      <td>85.365854</td>\n",
       "      <td>37</td>\n",
       "      <td>84.090909</td>\n",
       "      <td>||</td>\n",
       "      <td>1</td>\n",
       "      <td>2.439024</td>\n",
       "      <td>4</td>\n",
       "      <td>9.090909</td>\n",
       "    </tr>\n",
       "    <tr>\n",
       "      <th>1</th>\n",
       "      <td>REGULAR</td>\n",
       "      <td>18</td>\n",
       "      <td>90.000000</td>\n",
       "      <td>19</td>\n",
       "      <td>90.476190</td>\n",
       "      <td>||</td>\n",
       "      <td>1</td>\n",
       "      <td>5.000000</td>\n",
       "      <td>1</td>\n",
       "      <td>4.761905</td>\n",
       "    </tr>\n",
       "    <tr>\n",
       "      <th>2</th>\n",
       "      <td>FOREIGNER</td>\n",
       "      <td>11</td>\n",
       "      <td>78.571429</td>\n",
       "      <td>11</td>\n",
       "      <td>73.333333</td>\n",
       "      <td>||</td>\n",
       "      <td>0</td>\n",
       "      <td>0.000000</td>\n",
       "      <td>2</td>\n",
       "      <td>13.333333</td>\n",
       "    </tr>\n",
       "    <tr>\n",
       "      <th>3</th>\n",
       "      <td>ADMINISTRATIVE</td>\n",
       "      <td>6</td>\n",
       "      <td>85.714286</td>\n",
       "      <td>7</td>\n",
       "      <td>87.500000</td>\n",
       "      <td>||</td>\n",
       "      <td>0</td>\n",
       "      <td>0.000000</td>\n",
       "      <td>1</td>\n",
       "      <td>12.500000</td>\n",
       "    </tr>\n",
       "  </tbody>\n",
       "</table>\n",
       "</div>"
      ],
      "text/plain": [
       "             name  o_correct  o_correct (%)  s_correct  s_correct (%)  ||  \\\n",
       "0             ALL         35      85.365854         37      84.090909  ||   \n",
       "1         REGULAR         18      90.000000         19      90.476190  ||   \n",
       "2       FOREIGNER         11      78.571429         11      73.333333  ||   \n",
       "3  ADMINISTRATIVE          6      85.714286          7      87.500000  ||   \n",
       "\n",
       "   o_insecurity  o_insecurity (%)  s_insecurity  s_insecurity (%)  \n",
       "0             1          2.439024             4          9.090909  \n",
       "1             1          5.000000             1          4.761905  \n",
       "2             0          0.000000             2         13.333333  \n",
       "3             0          0.000000             1         12.500000  "
      ]
     },
     "metadata": {},
     "output_type": "display_data"
    }
   ],
   "source": [
    "for q in ['q1', 'q2', 'q3', 'q4', 'q5', 'q6']:\n",
    "  print(q)\n",
    "  display(pd.DataFrame([\n",
    "      question_d1(q, 'ALL', data_df),\n",
    "      question_d1(q, 'REGULAR', data_df[data_df['participant_type'] == 'REGULAR']),\n",
    "      question_d1(q, 'FOREIGNER', data_df[data_df['participant_type'] == 'FOREIGNER']),\n",
    "      question_d1(q, 'ADMINISTRATIVE', data_df[data_df['participant_type'] == 'ADMINISTRATIVE']),\n",
    "  ]).head(5))"
   ]
  },
  {
   "cell_type": "code",
   "execution_count": 32,
   "metadata": {
    "executionInfo": {
     "elapsed": 4,
     "status": "aborted",
     "timestamp": 1725041907839,
     "user": {
      "displayName": "Marco Russodivito",
      "userId": "05013084347772678948"
     },
     "user_tz": -120
    },
    "id": "vodNNSPKyHQh"
   },
   "outputs": [
    {
     "data": {
      "image/png": "[encoded data removed]",
      "text/plain": [
       "<Figure size 1200x800 with 24 Axes>"
      ]
     },
     "metadata": {},
     "output_type": "display_data"
    }
   ],
   "source": [
    "questions_barplot(\n",
    "  question_d1_for_plot('ALL', data_df),\n",
    "  question_d1_for_plot('REGULAR', data_df[data_df['participant_type'] == 'REGULAR']),\n",
    "  question_d1_for_plot('FOREIGNER', data_df[data_df['participant_type'] == 'FOREIGNER']),\n",
    "  question_d1_for_plot('ADMINISTRATIVE', data_df[data_df['participant_type'] == 'ADMINISTRATIVE']),\n",
    ")"
   ]
  },
  {
   "cell_type": "markdown",
   "metadata": {
    "id": "QM2sfZMIyFYC"
   },
   "source": [
    "## D2"
   ]
  },
  {
   "cell_type": "code",
   "execution_count": 33,
   "metadata": {
    "executionInfo": {
     "elapsed": 4,
     "status": "aborted",
     "timestamp": 1725041907839,
     "user": {
      "displayName": "Marco Russodivito",
      "userId": "05013084347772678948"
     },
     "user_tz": -120
    },
    "id": "zUZ9lsoc8uHt"
   },
   "outputs": [
    {
     "name": "stdout",
     "output_type": "stream",
     "text": [
      "q1\n"
     ]
    },
    {
     "data": {
      "text/html": [
       "<div>\n",
       "<style scoped>\n",
       "    .dataframe tbody tr th:only-of-type {\n",
       "        vertical-align: middle;\n",
       "    }\n",
       "\n",
       "    .dataframe tbody tr th {\n",
       "        vertical-align: top;\n",
       "    }\n",
       "\n",
       "    .dataframe thead th {\n",
       "        text-align: right;\n",
       "    }\n",
       "</style>\n",
       "<table border=\"1\" class=\"dataframe\">\n",
       "  <thead>\n",
       "    <tr style=\"text-align: right;\">\n",
       "      <th></th>\n",
       "      <th>name</th>\n",
       "      <th>o_correct</th>\n",
       "      <th>o_correct (%)</th>\n",
       "      <th>s_correct</th>\n",
       "      <th>s_correct (%)</th>\n",
       "      <th>||</th>\n",
       "      <th>o_insecurity</th>\n",
       "      <th>o_insecurity (%)</th>\n",
       "      <th>s_insecurity</th>\n",
       "      <th>s_insecurity (%)</th>\n",
       "    </tr>\n",
       "  </thead>\n",
       "  <tbody>\n",
       "    <tr>\n",
       "      <th>0</th>\n",
       "      <td>ALL</td>\n",
       "      <td>40</td>\n",
       "      <td>90.909091</td>\n",
       "      <td>38</td>\n",
       "      <td>92.682927</td>\n",
       "      <td>||</td>\n",
       "      <td>0</td>\n",
       "      <td>0.0</td>\n",
       "      <td>1</td>\n",
       "      <td>2.439024</td>\n",
       "    </tr>\n",
       "    <tr>\n",
       "      <th>1</th>\n",
       "      <td>REGULAR</td>\n",
       "      <td>21</td>\n",
       "      <td>100.000000</td>\n",
       "      <td>18</td>\n",
       "      <td>90.000000</td>\n",
       "      <td>||</td>\n",
       "      <td>0</td>\n",
       "      <td>0.0</td>\n",
       "      <td>1</td>\n",
       "      <td>5.000000</td>\n",
       "    </tr>\n",
       "    <tr>\n",
       "      <th>2</th>\n",
       "      <td>FOREIGNER</td>\n",
       "      <td>12</td>\n",
       "      <td>80.000000</td>\n",
       "      <td>13</td>\n",
       "      <td>92.857143</td>\n",
       "      <td>||</td>\n",
       "      <td>0</td>\n",
       "      <td>0.0</td>\n",
       "      <td>0</td>\n",
       "      <td>0.000000</td>\n",
       "    </tr>\n",
       "    <tr>\n",
       "      <th>3</th>\n",
       "      <td>ADMINISTRATIVE</td>\n",
       "      <td>7</td>\n",
       "      <td>87.500000</td>\n",
       "      <td>7</td>\n",
       "      <td>100.000000</td>\n",
       "      <td>||</td>\n",
       "      <td>0</td>\n",
       "      <td>0.0</td>\n",
       "      <td>0</td>\n",
       "      <td>0.000000</td>\n",
       "    </tr>\n",
       "  </tbody>\n",
       "</table>\n",
       "</div>"
      ],
      "text/plain": [
       "             name  o_correct  o_correct (%)  s_correct  s_correct (%)  ||  \\\n",
       "0             ALL         40      90.909091         38      92.682927  ||   \n",
       "1         REGULAR         21     100.000000         18      90.000000  ||   \n",
       "2       FOREIGNER         12      80.000000         13      92.857143  ||   \n",
       "3  ADMINISTRATIVE          7      87.500000          7     100.000000  ||   \n",
       "\n",
       "   o_insecurity  o_insecurity (%)  s_insecurity  s_insecurity (%)  \n",
       "0             0               0.0             1          2.439024  \n",
       "1             0               0.0             1          5.000000  \n",
       "2             0               0.0             0          0.000000  \n",
       "3             0               0.0             0          0.000000  "
      ]
     },
     "metadata": {},
     "output_type": "display_data"
    },
    {
     "name": "stdout",
     "output_type": "stream",
     "text": [
      "q2\n"
     ]
    },
    {
     "data": {
      "text/html": [
       "<div>\n",
       "<style scoped>\n",
       "    .dataframe tbody tr th:only-of-type {\n",
       "        vertical-align: middle;\n",
       "    }\n",
       "\n",
       "    .dataframe tbody tr th {\n",
       "        vertical-align: top;\n",
       "    }\n",
       "\n",
       "    .dataframe thead th {\n",
       "        text-align: right;\n",
       "    }\n",
       "</style>\n",
       "<table border=\"1\" class=\"dataframe\">\n",
       "  <thead>\n",
       "    <tr style=\"text-align: right;\">\n",
       "      <th></th>\n",
       "      <th>name</th>\n",
       "      <th>o_correct</th>\n",
       "      <th>o_correct (%)</th>\n",
       "      <th>s_correct</th>\n",
       "      <th>s_correct (%)</th>\n",
       "      <th>||</th>\n",
       "      <th>o_insecurity</th>\n",
       "      <th>o_insecurity (%)</th>\n",
       "      <th>s_insecurity</th>\n",
       "      <th>s_insecurity (%)</th>\n",
       "    </tr>\n",
       "  </thead>\n",
       "  <tbody>\n",
       "    <tr>\n",
       "      <th>0</th>\n",
       "      <td>ALL</td>\n",
       "      <td>22</td>\n",
       "      <td>50.000000</td>\n",
       "      <td>25</td>\n",
       "      <td>60.975610</td>\n",
       "      <td>||</td>\n",
       "      <td>0</td>\n",
       "      <td>0.0</td>\n",
       "      <td>3</td>\n",
       "      <td>7.317073</td>\n",
       "    </tr>\n",
       "    <tr>\n",
       "      <th>1</th>\n",
       "      <td>REGULAR</td>\n",
       "      <td>12</td>\n",
       "      <td>57.142857</td>\n",
       "      <td>12</td>\n",
       "      <td>60.000000</td>\n",
       "      <td>||</td>\n",
       "      <td>0</td>\n",
       "      <td>0.0</td>\n",
       "      <td>2</td>\n",
       "      <td>10.000000</td>\n",
       "    </tr>\n",
       "    <tr>\n",
       "      <th>2</th>\n",
       "      <td>FOREIGNER</td>\n",
       "      <td>5</td>\n",
       "      <td>33.333333</td>\n",
       "      <td>6</td>\n",
       "      <td>42.857143</td>\n",
       "      <td>||</td>\n",
       "      <td>0</td>\n",
       "      <td>0.0</td>\n",
       "      <td>1</td>\n",
       "      <td>7.142857</td>\n",
       "    </tr>\n",
       "    <tr>\n",
       "      <th>3</th>\n",
       "      <td>ADMINISTRATIVE</td>\n",
       "      <td>5</td>\n",
       "      <td>62.500000</td>\n",
       "      <td>7</td>\n",
       "      <td>100.000000</td>\n",
       "      <td>||</td>\n",
       "      <td>0</td>\n",
       "      <td>0.0</td>\n",
       "      <td>0</td>\n",
       "      <td>0.000000</td>\n",
       "    </tr>\n",
       "  </tbody>\n",
       "</table>\n",
       "</div>"
      ],
      "text/plain": [
       "             name  o_correct  o_correct (%)  s_correct  s_correct (%)  ||  \\\n",
       "0             ALL         22      50.000000         25      60.975610  ||   \n",
       "1         REGULAR         12      57.142857         12      60.000000  ||   \n",
       "2       FOREIGNER          5      33.333333          6      42.857143  ||   \n",
       "3  ADMINISTRATIVE          5      62.500000          7     100.000000  ||   \n",
       "\n",
       "   o_insecurity  o_insecurity (%)  s_insecurity  s_insecurity (%)  \n",
       "0             0               0.0             3          7.317073  \n",
       "1             0               0.0             2         10.000000  \n",
       "2             0               0.0             1          7.142857  \n",
       "3             0               0.0             0          0.000000  "
      ]
     },
     "metadata": {},
     "output_type": "display_data"
    },
    {
     "name": "stdout",
     "output_type": "stream",
     "text": [
      "q3\n"
     ]
    },
    {
     "data": {
      "text/html": [
       "<div>\n",
       "<style scoped>\n",
       "    .dataframe tbody tr th:only-of-type {\n",
       "        vertical-align: middle;\n",
       "    }\n",
       "\n",
       "    .dataframe tbody tr th {\n",
       "        vertical-align: top;\n",
       "    }\n",
       "\n",
       "    .dataframe thead th {\n",
       "        text-align: right;\n",
       "    }\n",
       "</style>\n",
       "<table border=\"1\" class=\"dataframe\">\n",
       "  <thead>\n",
       "    <tr style=\"text-align: right;\">\n",
       "      <th></th>\n",
       "      <th>name</th>\n",
       "      <th>o_correct</th>\n",
       "      <th>o_correct (%)</th>\n",
       "      <th>s_correct</th>\n",
       "      <th>s_correct (%)</th>\n",
       "      <th>||</th>\n",
       "      <th>o_insecurity</th>\n",
       "      <th>o_insecurity (%)</th>\n",
       "      <th>s_insecurity</th>\n",
       "      <th>s_insecurity (%)</th>\n",
       "    </tr>\n",
       "  </thead>\n",
       "  <tbody>\n",
       "    <tr>\n",
       "      <th>0</th>\n",
       "      <td>ALL</td>\n",
       "      <td>27</td>\n",
       "      <td>61.363636</td>\n",
       "      <td>28</td>\n",
       "      <td>68.292683</td>\n",
       "      <td>||</td>\n",
       "      <td>0</td>\n",
       "      <td>0.0</td>\n",
       "      <td>1</td>\n",
       "      <td>2.439024</td>\n",
       "    </tr>\n",
       "    <tr>\n",
       "      <th>1</th>\n",
       "      <td>REGULAR</td>\n",
       "      <td>16</td>\n",
       "      <td>76.190476</td>\n",
       "      <td>16</td>\n",
       "      <td>80.000000</td>\n",
       "      <td>||</td>\n",
       "      <td>0</td>\n",
       "      <td>0.0</td>\n",
       "      <td>0</td>\n",
       "      <td>0.000000</td>\n",
       "    </tr>\n",
       "    <tr>\n",
       "      <th>2</th>\n",
       "      <td>FOREIGNER</td>\n",
       "      <td>7</td>\n",
       "      <td>46.666667</td>\n",
       "      <td>7</td>\n",
       "      <td>50.000000</td>\n",
       "      <td>||</td>\n",
       "      <td>0</td>\n",
       "      <td>0.0</td>\n",
       "      <td>1</td>\n",
       "      <td>7.142857</td>\n",
       "    </tr>\n",
       "    <tr>\n",
       "      <th>3</th>\n",
       "      <td>ADMINISTRATIVE</td>\n",
       "      <td>4</td>\n",
       "      <td>50.000000</td>\n",
       "      <td>5</td>\n",
       "      <td>71.428571</td>\n",
       "      <td>||</td>\n",
       "      <td>0</td>\n",
       "      <td>0.0</td>\n",
       "      <td>0</td>\n",
       "      <td>0.000000</td>\n",
       "    </tr>\n",
       "  </tbody>\n",
       "</table>\n",
       "</div>"
      ],
      "text/plain": [
       "             name  o_correct  o_correct (%)  s_correct  s_correct (%)  ||  \\\n",
       "0             ALL         27      61.363636         28      68.292683  ||   \n",
       "1         REGULAR         16      76.190476         16      80.000000  ||   \n",
       "2       FOREIGNER          7      46.666667          7      50.000000  ||   \n",
       "3  ADMINISTRATIVE          4      50.000000          5      71.428571  ||   \n",
       "\n",
       "   o_insecurity  o_insecurity (%)  s_insecurity  s_insecurity (%)  \n",
       "0             0               0.0             1          2.439024  \n",
       "1             0               0.0             0          0.000000  \n",
       "2             0               0.0             1          7.142857  \n",
       "3             0               0.0             0          0.000000  "
      ]
     },
     "metadata": {},
     "output_type": "display_data"
    },
    {
     "name": "stdout",
     "output_type": "stream",
     "text": [
      "q4\n"
     ]
    },
    {
     "data": {
      "text/html": [
       "<div>\n",
       "<style scoped>\n",
       "    .dataframe tbody tr th:only-of-type {\n",
       "        vertical-align: middle;\n",
       "    }\n",
       "\n",
       "    .dataframe tbody tr th {\n",
       "        vertical-align: top;\n",
       "    }\n",
       "\n",
       "    .dataframe thead th {\n",
       "        text-align: right;\n",
       "    }\n",
       "</style>\n",
       "<table border=\"1\" class=\"dataframe\">\n",
       "  <thead>\n",
       "    <tr style=\"text-align: right;\">\n",
       "      <th></th>\n",
       "      <th>name</th>\n",
       "      <th>o_correct</th>\n",
       "      <th>o_correct (%)</th>\n",
       "      <th>s_correct</th>\n",
       "      <th>s_correct (%)</th>\n",
       "      <th>||</th>\n",
       "      <th>o_insecurity</th>\n",
       "      <th>o_insecurity (%)</th>\n",
       "      <th>s_insecurity</th>\n",
       "      <th>s_insecurity (%)</th>\n",
       "    </tr>\n",
       "  </thead>\n",
       "  <tbody>\n",
       "    <tr>\n",
       "      <th>0</th>\n",
       "      <td>ALL</td>\n",
       "      <td>11</td>\n",
       "      <td>25.000000</td>\n",
       "      <td>11</td>\n",
       "      <td>26.829268</td>\n",
       "      <td>||</td>\n",
       "      <td>2</td>\n",
       "      <td>4.545455</td>\n",
       "      <td>2</td>\n",
       "      <td>4.878049</td>\n",
       "    </tr>\n",
       "    <tr>\n",
       "      <th>1</th>\n",
       "      <td>REGULAR</td>\n",
       "      <td>6</td>\n",
       "      <td>28.571429</td>\n",
       "      <td>4</td>\n",
       "      <td>20.000000</td>\n",
       "      <td>||</td>\n",
       "      <td>1</td>\n",
       "      <td>4.761905</td>\n",
       "      <td>1</td>\n",
       "      <td>5.000000</td>\n",
       "    </tr>\n",
       "    <tr>\n",
       "      <th>2</th>\n",
       "      <td>FOREIGNER</td>\n",
       "      <td>3</td>\n",
       "      <td>20.000000</td>\n",
       "      <td>5</td>\n",
       "      <td>35.714286</td>\n",
       "      <td>||</td>\n",
       "      <td>1</td>\n",
       "      <td>6.666667</td>\n",
       "      <td>1</td>\n",
       "      <td>7.142857</td>\n",
       "    </tr>\n",
       "    <tr>\n",
       "      <th>3</th>\n",
       "      <td>ADMINISTRATIVE</td>\n",
       "      <td>2</td>\n",
       "      <td>25.000000</td>\n",
       "      <td>2</td>\n",
       "      <td>28.571429</td>\n",
       "      <td>||</td>\n",
       "      <td>0</td>\n",
       "      <td>0.000000</td>\n",
       "      <td>0</td>\n",
       "      <td>0.000000</td>\n",
       "    </tr>\n",
       "  </tbody>\n",
       "</table>\n",
       "</div>"
      ],
      "text/plain": [
       "             name  o_correct  o_correct (%)  s_correct  s_correct (%)  ||  \\\n",
       "0             ALL         11      25.000000         11      26.829268  ||   \n",
       "1         REGULAR          6      28.571429          4      20.000000  ||   \n",
       "2       FOREIGNER          3      20.000000          5      35.714286  ||   \n",
       "3  ADMINISTRATIVE          2      25.000000          2      28.571429  ||   \n",
       "\n",
       "   o_insecurity  o_insecurity (%)  s_insecurity  s_insecurity (%)  \n",
       "0             2          4.545455             2          4.878049  \n",
       "1             1          4.761905             1          5.000000  \n",
       "2             1          6.666667             1          7.142857  \n",
       "3             0          0.000000             0          0.000000  "
      ]
     },
     "metadata": {},
     "output_type": "display_data"
    },
    {
     "name": "stdout",
     "output_type": "stream",
     "text": [
      "q5\n"
     ]
    },
    {
     "data": {
      "text/html": [
       "<div>\n",
       "<style scoped>\n",
       "    .dataframe tbody tr th:only-of-type {\n",
       "        vertical-align: middle;\n",
       "    }\n",
       "\n",
       "    .dataframe tbody tr th {\n",
       "        vertical-align: top;\n",
       "    }\n",
       "\n",
       "    .dataframe thead th {\n",
       "        text-align: right;\n",
       "    }\n",
       "</style>\n",
       "<table border=\"1\" class=\"dataframe\">\n",
       "  <thead>\n",
       "    <tr style=\"text-align: right;\">\n",
       "      <th></th>\n",
       "      <th>name</th>\n",
       "      <th>o_correct</th>\n",
       "      <th>o_correct (%)</th>\n",
       "      <th>s_correct</th>\n",
       "      <th>s_correct (%)</th>\n",
       "      <th>||</th>\n",
       "      <th>o_insecurity</th>\n",
       "      <th>o_insecurity (%)</th>\n",
       "      <th>s_insecurity</th>\n",
       "      <th>s_insecurity (%)</th>\n",
       "    </tr>\n",
       "  </thead>\n",
       "  <tbody>\n",
       "    <tr>\n",
       "      <th>0</th>\n",
       "      <td>ALL</td>\n",
       "      <td>39</td>\n",
       "      <td>88.636364</td>\n",
       "      <td>35</td>\n",
       "      <td>85.365854</td>\n",
       "      <td>||</td>\n",
       "      <td>1</td>\n",
       "      <td>2.272727</td>\n",
       "      <td>1</td>\n",
       "      <td>2.439024</td>\n",
       "    </tr>\n",
       "    <tr>\n",
       "      <th>1</th>\n",
       "      <td>REGULAR</td>\n",
       "      <td>18</td>\n",
       "      <td>85.714286</td>\n",
       "      <td>16</td>\n",
       "      <td>80.000000</td>\n",
       "      <td>||</td>\n",
       "      <td>1</td>\n",
       "      <td>4.761905</td>\n",
       "      <td>1</td>\n",
       "      <td>5.000000</td>\n",
       "    </tr>\n",
       "    <tr>\n",
       "      <th>2</th>\n",
       "      <td>FOREIGNER</td>\n",
       "      <td>13</td>\n",
       "      <td>86.666667</td>\n",
       "      <td>12</td>\n",
       "      <td>85.714286</td>\n",
       "      <td>||</td>\n",
       "      <td>0</td>\n",
       "      <td>0.000000</td>\n",
       "      <td>0</td>\n",
       "      <td>0.000000</td>\n",
       "    </tr>\n",
       "    <tr>\n",
       "      <th>3</th>\n",
       "      <td>ADMINISTRATIVE</td>\n",
       "      <td>8</td>\n",
       "      <td>100.000000</td>\n",
       "      <td>7</td>\n",
       "      <td>100.000000</td>\n",
       "      <td>||</td>\n",
       "      <td>0</td>\n",
       "      <td>0.000000</td>\n",
       "      <td>0</td>\n",
       "      <td>0.000000</td>\n",
       "    </tr>\n",
       "  </tbody>\n",
       "</table>\n",
       "</div>"
      ],
      "text/plain": [
       "             name  o_correct  o_correct (%)  s_correct  s_correct (%)  ||  \\\n",
       "0             ALL         39      88.636364         35      85.365854  ||   \n",
       "1         REGULAR         18      85.714286         16      80.000000  ||   \n",
       "2       FOREIGNER         13      86.666667         12      85.714286  ||   \n",
       "3  ADMINISTRATIVE          8     100.000000          7     100.000000  ||   \n",
       "\n",
       "   o_insecurity  o_insecurity (%)  s_insecurity  s_insecurity (%)  \n",
       "0             1          2.272727             1          2.439024  \n",
       "1             1          4.761905             1          5.000000  \n",
       "2             0          0.000000             0          0.000000  \n",
       "3             0          0.000000             0          0.000000  "
      ]
     },
     "metadata": {},
     "output_type": "display_data"
    },
    {
     "name": "stdout",
     "output_type": "stream",
     "text": [
      "q6\n"
     ]
    },
    {
     "data": {
      "text/html": [
       "<div>\n",
       "<style scoped>\n",
       "    .dataframe tbody tr th:only-of-type {\n",
       "        vertical-align: middle;\n",
       "    }\n",
       "\n",
       "    .dataframe tbody tr th {\n",
       "        vertical-align: top;\n",
       "    }\n",
       "\n",
       "    .dataframe thead th {\n",
       "        text-align: right;\n",
       "    }\n",
       "</style>\n",
       "<table border=\"1\" class=\"dataframe\">\n",
       "  <thead>\n",
       "    <tr style=\"text-align: right;\">\n",
       "      <th></th>\n",
       "      <th>name</th>\n",
       "      <th>o_correct</th>\n",
       "      <th>o_correct (%)</th>\n",
       "      <th>s_correct</th>\n",
       "      <th>s_correct (%)</th>\n",
       "      <th>||</th>\n",
       "      <th>o_insecurity</th>\n",
       "      <th>o_insecurity (%)</th>\n",
       "      <th>s_insecurity</th>\n",
       "      <th>s_insecurity (%)</th>\n",
       "    </tr>\n",
       "  </thead>\n",
       "  <tbody>\n",
       "    <tr>\n",
       "      <th>0</th>\n",
       "      <td>ALL</td>\n",
       "      <td>36</td>\n",
       "      <td>81.818182</td>\n",
       "      <td>27</td>\n",
       "      <td>65.853659</td>\n",
       "      <td>||</td>\n",
       "      <td>0</td>\n",
       "      <td>0.0</td>\n",
       "      <td>2</td>\n",
       "      <td>4.878049</td>\n",
       "    </tr>\n",
       "    <tr>\n",
       "      <th>1</th>\n",
       "      <td>REGULAR</td>\n",
       "      <td>18</td>\n",
       "      <td>85.714286</td>\n",
       "      <td>15</td>\n",
       "      <td>75.000000</td>\n",
       "      <td>||</td>\n",
       "      <td>0</td>\n",
       "      <td>0.0</td>\n",
       "      <td>0</td>\n",
       "      <td>0.000000</td>\n",
       "    </tr>\n",
       "    <tr>\n",
       "      <th>2</th>\n",
       "      <td>FOREIGNER</td>\n",
       "      <td>11</td>\n",
       "      <td>73.333333</td>\n",
       "      <td>8</td>\n",
       "      <td>57.142857</td>\n",
       "      <td>||</td>\n",
       "      <td>0</td>\n",
       "      <td>0.0</td>\n",
       "      <td>1</td>\n",
       "      <td>7.142857</td>\n",
       "    </tr>\n",
       "    <tr>\n",
       "      <th>3</th>\n",
       "      <td>ADMINISTRATIVE</td>\n",
       "      <td>7</td>\n",
       "      <td>87.500000</td>\n",
       "      <td>4</td>\n",
       "      <td>57.142857</td>\n",
       "      <td>||</td>\n",
       "      <td>0</td>\n",
       "      <td>0.0</td>\n",
       "      <td>1</td>\n",
       "      <td>14.285714</td>\n",
       "    </tr>\n",
       "  </tbody>\n",
       "</table>\n",
       "</div>"
      ],
      "text/plain": [
       "             name  o_correct  o_correct (%)  s_correct  s_correct (%)  ||  \\\n",
       "0             ALL         36      81.818182         27      65.853659  ||   \n",
       "1         REGULAR         18      85.714286         15      75.000000  ||   \n",
       "2       FOREIGNER         11      73.333333          8      57.142857  ||   \n",
       "3  ADMINISTRATIVE          7      87.500000          4      57.142857  ||   \n",
       "\n",
       "   o_insecurity  o_insecurity (%)  s_insecurity  s_insecurity (%)  \n",
       "0             0               0.0             2          4.878049  \n",
       "1             0               0.0             0          0.000000  \n",
       "2             0               0.0             1          7.142857  \n",
       "3             0               0.0             1         14.285714  "
      ]
     },
     "metadata": {},
     "output_type": "display_data"
    }
   ],
   "source": [
    "for q in ['q1', 'q2', 'q3', 'q4', 'q5', 'q6']:\n",
    "  print(q)\n",
    "  display(pd.DataFrame([\n",
    "      question_d2(q, 'ALL', data_df),\n",
    "      question_d2(q, 'REGULAR', data_df[data_df['participant_type'] == 'REGULAR']),\n",
    "      question_d2(q, 'FOREIGNER', data_df[data_df['participant_type'] == 'FOREIGNER']),\n",
    "      question_d2(q, 'ADMINISTRATIVE', data_df[data_df['participant_type'] == 'ADMINISTRATIVE']),\n",
    "  ]).head(5))"
   ]
  },
  {
   "cell_type": "code",
   "execution_count": 34,
   "metadata": {
    "executionInfo": {
     "elapsed": 4,
     "status": "aborted",
     "timestamp": 1725041907839,
     "user": {
      "displayName": "Marco Russodivito",
      "userId": "05013084347772678948"
     },
     "user_tz": -120
    },
    "id": "1qXB2-9n8wi9"
   },
   "outputs": [
    {
     "data": {
      "image/png": "[encoded data removed]",
      "text/plain": [
       "<Figure size 1200x800 with 24 Axes>"
      ]
     },
     "metadata": {},
     "output_type": "display_data"
    }
   ],
   "source": [
    "questions_barplot(\n",
    "  question_d2_for_plot('ALL', data_df),\n",
    "  question_d2_for_plot('REGULAR', data_df[data_df['participant_type'] == 'REGULAR']),\n",
    "  question_d2_for_plot('FOREIGNER', data_df[data_df['participant_type'] == 'FOREIGNER']),\n",
    "  question_d2_for_plot('ADMINISTRATIVE', data_df[data_df['participant_type'] == 'ADMINISTRATIVE']),\n",
    ")"
   ]
  },
  {
   "cell_type": "markdown",
   "metadata": {
    "id": "-oY1uvDE_wO1"
   },
   "source": [
    "# Questions (text)\n",
    "\n",
    "\n",
    "\n"
   ]
  },
  {
   "cell_type": "markdown",
   "metadata": {
    "id": "ow3oHbpc_kh4"
   },
   "source": [
    "## D1"
   ]
  },
  {
   "cell_type": "markdown",
   "metadata": {
    "id": "EKdte2xeNjuB"
   },
   "source": [
    "Q1: Il provvedimento vuole garantire la qualità dell'assistenza sanitaria. La qualità dell'assistenza deve essere *centrata, equa, efficace*.\n",
    "*Centrata* significa che:\n",
    "1. la cura è volta alla persona e mira a soddisfare i bisogni, i valori e le preferenze dell'individuo\n",
    "2. la cura è al centro delle attività dell'amministrazione sanitaria che le amministra ai cittadini\n",
    "3. la cura è centrata nel senso che rispecchia misure standard, adottate su scala socio-economica\n",
    "4. la cura costituisce il centro delle esigenze di bilancio dell'amministrazione sanitaria che non deve andare in deficit\n",
    "5. Non so rispondere\n",
    "\n",
    "\n",
    "Q2: Qual è il senso generale del documento?\n",
    "1. Indicare ai cittadini quali sono gli obiettivi preferiti dalla Regione Basilicata in materia di sanità\n",
    "2. Indicare ai cittadini il nuovo Decreto Ministeriale del 23 maggio 2022, n. 77 per farlo conoscere\n",
    "3. Indicare alla Regione Basilicata linee guida per programmare i suoi interventi sanitari in modo efficace\n",
    "4. Elencare tutti i servizi sanitari offerti dalla Regione Basilicata con i fondi PNRR\n",
    "5. Non so rispondere\n",
    "\n",
    "Q3: Sei un cittadino che ha bisogno di servizi sanitari, per te ricevere una cura *efficace* vuol dire che:\n",
    "1. la cura fornisce servizi basati sull'evidenza a chi ne ha bisogno\n",
    "2. la cura ha effetti di grande efficacia su chi ne ha bisogno\n",
    "3. la cura raggiunge il risultato voluto dall'amministrazione sanitaria\n",
    "4. la cura ha l'effetto di determinare economie di scala e risparmi di spesa nell'esecuzione della prestazione sanitaria\n",
    "5. Non so rispondere\n",
    "\n",
    "Q4: Il provvedimento vuole realizzare l'integrazione sociosanitaria. L'integrazione della componente sanitaria con la componente sociale significa che:\n",
    "1. la programmazione regionale garantisce un'integrazione delle prestazioni tale che il cittadino riceve le prestazioni opportune senza che esso venga rinviato a competenze di altri enti e livelli istituzionali\n",
    "2. la prestazione è integrata a mezzo di sinergie tra pubblico e privato, ciascuno contribuisce secondo una proporzione definita per legge\n",
    "3. la programmazione è integrata da prestazioni erogate da soggetti sanitari che, pur se dislocati in punti diversi del territorio, sono reperibili nell'ambito della Regione Basilicata\n",
    "4. la programmazione regionale garantisce prestazioni non differenziate in modo che nessun cittadino si senta escluso\n",
    "5. Non so rispondere\n",
    "\n",
    "Q5: Per realizzare la coerenza tra Piano delle Attività Territoriali (PAT) e Piano di Zona (PdZ)\n",
    "1. occorre che l'ASL e l'ambito sociale utilizzino l'accordo di programma\n",
    "2. occorre varare insieme i due piani in modo armonico\n",
    "3. occorre far approvare tutto dalla Regione Basilicata nei suoi diversi organi\n",
    "4. occorre far approvare tutto dal Ministero preposto cioè quello della Salute\n",
    "5. Non so rispondere\n",
    "\n",
    "Q6: Il Piano Sociale di riferimento per l'integrazione è:\n",
    "1. 2021-2023\n",
    "2. 2020\n",
    "3. 2022-2025\n",
    "4. Quello dell'anno in corso\n",
    "5. Non so rispondere"
   ]
  },
  {
   "cell_type": "markdown",
   "metadata": {
    "id": "UYGwT17bNqos"
   },
   "source": [
    "## D2"
   ]
  },
  {
   "cell_type": "markdown",
   "metadata": {
    "id": "K0HHcucSOxTm"
   },
   "source": [
    "Q1: Tra i servizi forniti dalla ditta interessata a partecipare alla gara c'è:\n",
    "1. la raccolta specifica di alcune categorie di rifiuti urbani come apparecchiature elettriche ed elettroniche usate, oggetti ingombranti, ecc.; tali rifiuti saranno trasportati a impianti autorizzati\n",
    "2. la raccolta specifica di alcune categorie di rifiuti urbani come apparecchiature elettriche ed elettroniche usate, oggetti ingombranti, ecc.; tali rifiuti saranno trasportati in altra regione\n",
    "3. la raccolta dei rifiuti porta a porta\n",
    "4. la raccolta differenziata solo per i cittadini\n",
    "5. Non so rispondere\n",
    "\n",
    "Q2:Immagina di essere la società che partecipa alla gara a nome anche di altre società, rispetto alle garanzie di assicurazione o di fideiussione come devi regolarti?\n",
    "1. tu devi presentare garanzie di fideiussione e assicurative anche a copertura degli altri partecipanti\n",
    "2. solo tu, limitatamente alla tua responsabilità, devi presentare garanzie di fideiussione e assicurative\n",
    "3. ogni società può scegliere come regolarsi per le garanzie di fideiussione e assicurative\n",
    "4. sia tu sia ciascuna società del tuo gruppo dovete presentare garanzie di fideiussione e assicurative\n",
    "5. Non so rispondere\n",
    "\n",
    "Q3: Sei l'amministrazione che deve selezionare il vincitore con l'atto di aggiudicazione. In caso di parità di punteggio tra due offerte quale criterio applicherai?\n",
    "1. Sceglierò la migliore offerta tecnica e in subordine la domanda presentata prima\n",
    "2. Sceglierò la domanda arrivata prima e in subordine che propone la migliore offerta tecnica,\n",
    "3. Sceglierò la migliore offerta economica, per il prezzo più basso, così da far risparmiare la pubblica amministrazione\n",
    "4. Sceglierò la migliore offerta tecnica così da avere un lavoro ben fatto per la pubblica amministrazione\n",
    "5. Non so rispondere\n",
    "\n",
    "Q4: Se ti aggiudichi la gara, rispetto agli strumenti forniti dal Comune (camion, cassonetti, etc.) cosa dovrai fare?\n",
    "1. Devo stipulare sia un contratto di comodato d'uso sia un contratto di usufrutto\n",
    "2. Devo stipulare un contratto di comodato d'uso,\n",
    "3. Devo stipulare un contratto di usufrutto,\n",
    "4. Non occorre stipulare contratti, basta che io paghi tutte le spese, straordinarie e ordinarie e la manutenzione\n",
    "5. Non so rispondere\n",
    "\n",
    "Q5: L'art. di legge che regola la presentazione da parte dell'aggiudicatario di una garanzia definitiva è il n.:\n",
    "1. 103 del D.Lgsl. 50/2016,\n",
    "2. 103 del D.Lgsl. 50/2006,\n",
    "3. 113 del D.Lgsl. 50/2016,\n",
    "4. Nessun articolo di legge\n",
    "5. Non so rispondere\n",
    "\n",
    "Q6: Nel caso in cui qualcuno voglia partecipare alla gara con un'offerta deve essere pronto a offrire quali generi di servizi?\n",
    "1. Raccolta di rifiuti; lavaggio dei contenitori di strada; distribuzione di sacchetti, bidoni e volantini; trasporto dei rifiuti alle aree di smaltimento\n",
    "2. Raccolta di rifiuti; distribuzione di sacchetti, bidoni e volantini; trasporto dei rifiuti alle aree di smaltimento\n",
    "3. Raccolta di rifiuti,\n",
    "4. Si può scegliere quali servizi offrire tra quelli proposti\n",
    "5. Non so rispondere"
   ]
  }
 ],
 "metadata": {
  "colab": {
   "authorship_tag": "ABX9TyP+g4vxjM1X7g3PV+d66hvP",
   "provenance": [],
   "toc_visible": true
  },
  "kernelspec": {
   "display_name": ".venv",
   "language": "python",
   "name": "python3"
  },
  "language_info": {
   "codemirror_mode": {
    "name": "ipython",
    "version": 3
   },
   "file_extension": ".py",
   "mimetype": "text/x-python",
   "name": "python",
   "nbconvert_exporter": "python",
   "pygments_lexer": "ipython3",
   "version": "3.12.2"
  }
 },
 "nbformat": 4,
 "nbformat_minor": 0
}
