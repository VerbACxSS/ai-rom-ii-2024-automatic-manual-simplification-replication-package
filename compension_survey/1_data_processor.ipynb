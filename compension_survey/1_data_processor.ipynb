{
 "cells": [
  {
   "cell_type": "markdown",
   "metadata": {
    "id": "6ZfDKfWc0TuK"
   },
   "source": [
    "# Config"
   ]
  },
  {
   "cell_type": "code",
   "execution_count": 1,
   "metadata": {
    "executionInfo": {
     "elapsed": 675,
     "status": "ok",
     "timestamp": 1725021701718,
     "user": {
      "displayName": "Marco Russodivito",
      "userId": "05013084347772678948"
     },
     "user_tz": -120
    },
    "id": "r3jnrfmX0YAN"
   },
   "outputs": [],
   "source": [
    "import pandas as pd"
   ]
  },
  {
   "cell_type": "code",
   "execution_count": 2,
   "metadata": {
    "executionInfo": {
     "elapsed": 3,
     "status": "ok",
     "timestamp": 1725021701719,
     "user": {
      "displayName": "Marco Russodivito",
      "userId": "05013084347772678948"
     },
     "user_tz": -120
    },
    "id": "jXvOEO1D0alB"
   },
   "outputs": [],
   "source": [
    "def evaluate_sessions(_events_df, _participant_id):\n",
    "  sub_df = _events_df[_events_df['participant'] == _participant_id]\n",
    "  return sub_df[sub_df['event'] == 'survey | load'].shape[0]"
   ]
  },
  {
   "cell_type": "code",
   "execution_count": 3,
   "metadata": {
    "executionInfo": {
     "elapsed": 2,
     "status": "ok",
     "timestamp": 1725021701719,
     "user": {
      "displayName": "Marco Russodivito",
      "userId": "05013084347772678948"
     },
     "user_tz": -120
    },
    "id": "inwo08Pt0byP"
   },
   "outputs": [],
   "source": [
    "def evaluate_reading_time(_events_df, _participant_id, _d):\n",
    "  sub_df = _events_df[_events_df['participant'] == _participant_id]\n",
    "  sub_df = sub_df.sort_values('t')\n",
    "\n",
    "  events_list = sub_df.to_dict(orient='records')\n",
    "\n",
    "  visibles = [e['t'] for e in events_list if e['event'] == f'{_d} | visible | text']\n",
    "  if len(visibles) == 0:\n",
    "    return 0\n",
    "\n",
    "  invisibles = [e['t'] for e in events_list if e['event'] == f'{_d} | invisible | text' and e['t'] > visibles[0]]\n",
    "  visibility_spans = [(visibles[i], invisibles[i]) for i in range(min(len(visibles), len(invisibles)))]\n",
    "  return sum([e[1] - e[0] for e in visibility_spans]) / 1e3\n",
    "\n",
    "\n",
    "def evaluate_reading_time_d1(_events_df, _participant_id):\n",
    "  return evaluate_reading_time(_events_df, _participant_id, 'd1')\n",
    "\n",
    "\n",
    "def evaluate_reading_time_d2(_events_df, _participant_id):\n",
    "  return evaluate_reading_time(_events_df, _participant_id, 'd2')"
   ]
  },
  {
   "cell_type": "markdown",
   "metadata": {
    "id": "Cy8DwBo-2B6U"
   },
   "source": [
    "# Load data"
   ]
  },
  {
   "cell_type": "code",
   "execution_count": 4,
   "metadata": {
    "colab": {
     "base_uri": "https://localhost:8080/",
     "height": 237
    },
    "executionInfo": {
     "elapsed": 1156,
     "status": "ok",
     "timestamp": 1725021702873,
     "user": {
      "displayName": "Marco Russodivito",
      "userId": "05013084347772678948"
     },
     "user_tz": -120
    },
    "id": "hRW4frM_3R0Q",
    "outputId": "14fd130e-c4d0-4646-93fa-2fe096a02d3d"
   },
   "outputs": [
    {
     "data": {
      "text/html": [
       "<div>\n",
       "<style scoped>\n",
       "    .dataframe tbody tr th:only-of-type {\n",
       "        vertical-align: middle;\n",
       "    }\n",
       "\n",
       "    .dataframe tbody tr th {\n",
       "        vertical-align: top;\n",
       "    }\n",
       "\n",
       "    .dataframe thead th {\n",
       "        text-align: right;\n",
       "    }\n",
       "</style>\n",
       "<table border=\"1\" class=\"dataframe\">\n",
       "  <thead>\n",
       "    <tr style=\"text-align: right;\">\n",
       "      <th></th>\n",
       "      <th>event</th>\n",
       "      <th>t</th>\n",
       "      <th>participant</th>\n",
       "    </tr>\n",
       "    <tr>\n",
       "      <th>id</th>\n",
       "      <th></th>\n",
       "      <th></th>\n",
       "      <th></th>\n",
       "    </tr>\n",
       "  </thead>\n",
       "  <tbody>\n",
       "    <tr>\n",
       "      <th>1</th>\n",
       "      <td>d1 | visible | text</td>\n",
       "      <td>1719827039609</td>\n",
       "      <td>UEFSVEVDSVBBTlRFXzgy</td>\n",
       "    </tr>\n",
       "    <tr>\n",
       "      <th>2</th>\n",
       "      <td>d1 | invisible | q6</td>\n",
       "      <td>1719827039597</td>\n",
       "      <td>UEFSVEVDSVBBTlRFXzgy</td>\n",
       "    </tr>\n",
       "    <tr>\n",
       "      <th>3</th>\n",
       "      <td>d1 | invisible | q5</td>\n",
       "      <td>1719827039607</td>\n",
       "      <td>UEFSVEVDSVBBTlRFXzgy</td>\n",
       "    </tr>\n",
       "    <tr>\n",
       "      <th>4</th>\n",
       "      <td>survey | load</td>\n",
       "      <td>1719827039268</td>\n",
       "      <td>UEFSVEVDSVBBTlRFXzgy</td>\n",
       "    </tr>\n",
       "    <tr>\n",
       "      <th>5</th>\n",
       "      <td>d1 | invisible | q2</td>\n",
       "      <td>1719827039605</td>\n",
       "      <td>UEFSVEVDSVBBTlRFXzgy</td>\n",
       "    </tr>\n",
       "  </tbody>\n",
       "</table>\n",
       "</div>"
      ],
      "text/plain": [
       "                  event              t           participant\n",
       "id                                                          \n",
       "1   d1 | visible | text  1719827039609  UEFSVEVDSVBBTlRFXzgy\n",
       "2   d1 | invisible | q6  1719827039597  UEFSVEVDSVBBTlRFXzgy\n",
       "3   d1 | invisible | q5  1719827039607  UEFSVEVDSVBBTlRFXzgy\n",
       "4         survey | load  1719827039268  UEFSVEVDSVBBTlRFXzgy\n",
       "5   d1 | invisible | q2  1719827039605  UEFSVEVDSVBBTlRFXzgy"
      ]
     },
     "execution_count": 4,
     "metadata": {},
     "output_type": "execute_result"
    }
   ],
   "source": [
    "events_df = pd.read_csv(f'./raw_data/survey_event.csv', index_col=0, names=['id', 'event', 't', 'participant'], header=0)\n",
    "events_df.head()"
   ]
  },
  {
   "cell_type": "code",
   "execution_count": 5,
   "metadata": {
    "colab": {
     "base_uri": "https://localhost:8080/",
     "height": 486
    },
    "executionInfo": {
     "elapsed": 421,
     "status": "ok",
     "timestamp": 1725021703293,
     "user": {
      "displayName": "Marco Russodivito",
      "userId": "05013084347772678948"
     },
     "user_tz": -120
    },
    "id": "M_9EwNAJ2Gp3",
    "outputId": "b9332046-d8a2-49aa-b791-8251ac21c21d"
   },
   "outputs": [
    {
     "data": {
      "text/html": [
       "<div>\n",
       "<style scoped>\n",
       "    .dataframe tbody tr th:only-of-type {\n",
       "        vertical-align: middle;\n",
       "    }\n",
       "\n",
       "    .dataframe tbody tr th {\n",
       "        vertical-align: top;\n",
       "    }\n",
       "\n",
       "    .dataframe thead th {\n",
       "        text-align: right;\n",
       "    }\n",
       "</style>\n",
       "<table border=\"1\" class=\"dataframe\">\n",
       "  <thead>\n",
       "    <tr style=\"text-align: right;\">\n",
       "      <th></th>\n",
       "      <th>id</th>\n",
       "      <th>creation_date</th>\n",
       "      <th>participant_group</th>\n",
       "      <th>participant_type</th>\n",
       "      <th>submission_date</th>\n",
       "      <th>answers_d1</th>\n",
       "      <th>answers_d2</th>\n",
       "      <th>demographic_info</th>\n",
       "    </tr>\n",
       "  </thead>\n",
       "  <tbody>\n",
       "    <tr>\n",
       "      <th>0</th>\n",
       "      <td>1</td>\n",
       "      <td>2024-07-03 09:47:27.324685</td>\n",
       "      <td>A</td>\n",
       "      <td>ADMINISTRATIVE</td>\n",
       "      <td>2024-07-03 10:04:27.799306</td>\n",
       "      <td>530cf9cf-599a-4475-bb7c-845f0b1ee745</td>\n",
       "      <td>59bea0a7-e80a-4912-8f74-206ed6e6da88</td>\n",
       "      <td>03b757a4-1d34-4402-a7f6-076c3e3df170</td>\n",
       "    </tr>\n",
       "    <tr>\n",
       "      <th>1</th>\n",
       "      <td>10</td>\n",
       "      <td>2024-07-03 09:48:26.727449</td>\n",
       "      <td>B</td>\n",
       "      <td>ADMINISTRATIVE</td>\n",
       "      <td>2024-07-03 10:04:52.056617</td>\n",
       "      <td>8e638297-f55f-44cd-861d-8232d75a1e42</td>\n",
       "      <td>4f47663a-17b7-47d8-ba57-4d201b59c0f3</td>\n",
       "      <td>4c7743a4-24f8-4ade-b013-2d0e8c45ba8f</td>\n",
       "    </tr>\n",
       "    <tr>\n",
       "      <th>2</th>\n",
       "      <td>11</td>\n",
       "      <td>2024-07-03 09:48:24.888290</td>\n",
       "      <td>A</td>\n",
       "      <td>ADMINISTRATIVE</td>\n",
       "      <td>2024-07-03 10:03:03.416511</td>\n",
       "      <td>d53c8d4f-d8d3-40f3-a542-9f28368bbe4c</td>\n",
       "      <td>2d8a2714-9646-42d9-a5ec-95145019e3d7</td>\n",
       "      <td>62dc7caa-b574-4c9f-90c2-b4e42c0c3e0f</td>\n",
       "    </tr>\n",
       "    <tr>\n",
       "      <th>3</th>\n",
       "      <td>13</td>\n",
       "      <td>2024-07-03 09:48:18.365622</td>\n",
       "      <td>C</td>\n",
       "      <td>ADMINISTRATIVE</td>\n",
       "      <td>2024-07-03 10:05:14.581160</td>\n",
       "      <td>bc2cece9-fdf8-4e94-9b3b-9d85202dcf17</td>\n",
       "      <td>76bc07e9-1c23-4830-ae9f-37d4498f6a66</td>\n",
       "      <td>c84fffc1-00e0-4727-b240-95733855664c</td>\n",
       "    </tr>\n",
       "    <tr>\n",
       "      <th>4</th>\n",
       "      <td>14</td>\n",
       "      <td>2024-07-03 09:48:09.720491</td>\n",
       "      <td>B</td>\n",
       "      <td>ADMINISTRATIVE</td>\n",
       "      <td>2024-07-03 10:07:08.696679</td>\n",
       "      <td>aa7baabe-eb18-4267-898c-a04dc84f9303</td>\n",
       "      <td>c7b1fb8b-c014-4bbd-b3da-babbb3960da3</td>\n",
       "      <td>d9a0dba9-0446-444f-82dc-30c6813fd6d1</td>\n",
       "    </tr>\n",
       "  </tbody>\n",
       "</table>\n",
       "</div>"
      ],
      "text/plain": [
       "   id               creation_date participant_group participant_type  \\\n",
       "0   1  2024-07-03 09:47:27.324685                 A   ADMINISTRATIVE   \n",
       "1  10  2024-07-03 09:48:26.727449                 B   ADMINISTRATIVE   \n",
       "2  11  2024-07-03 09:48:24.888290                 A   ADMINISTRATIVE   \n",
       "3  13  2024-07-03 09:48:18.365622                 C   ADMINISTRATIVE   \n",
       "4  14  2024-07-03 09:48:09.720491                 B   ADMINISTRATIVE   \n",
       "\n",
       "              submission_date                            answers_d1  \\\n",
       "0  2024-07-03 10:04:27.799306  530cf9cf-599a-4475-bb7c-845f0b1ee745   \n",
       "1  2024-07-03 10:04:52.056617  8e638297-f55f-44cd-861d-8232d75a1e42   \n",
       "2  2024-07-03 10:03:03.416511  d53c8d4f-d8d3-40f3-a542-9f28368bbe4c   \n",
       "3  2024-07-03 10:05:14.581160  bc2cece9-fdf8-4e94-9b3b-9d85202dcf17   \n",
       "4  2024-07-03 10:07:08.696679  aa7baabe-eb18-4267-898c-a04dc84f9303   \n",
       "\n",
       "                             answers_d2                      demographic_info  \n",
       "0  59bea0a7-e80a-4912-8f74-206ed6e6da88  03b757a4-1d34-4402-a7f6-076c3e3df170  \n",
       "1  4f47663a-17b7-47d8-ba57-4d201b59c0f3  4c7743a4-24f8-4ade-b013-2d0e8c45ba8f  \n",
       "2  2d8a2714-9646-42d9-a5ec-95145019e3d7  62dc7caa-b574-4c9f-90c2-b4e42c0c3e0f  \n",
       "3  76bc07e9-1c23-4830-ae9f-37d4498f6a66  c84fffc1-00e0-4727-b240-95733855664c  \n",
       "4  c7b1fb8b-c014-4bbd-b3da-babbb3960da3  d9a0dba9-0446-444f-82dc-30c6813fd6d1  "
      ]
     },
     "execution_count": 5,
     "metadata": {},
     "output_type": "execute_result"
    }
   ],
   "source": [
    "participant_df = pd.read_csv(f'./raw_data/participant.csv')\n",
    "participant_df.head()"
   ]
  },
  {
   "cell_type": "code",
   "execution_count": 6,
   "metadata": {
    "colab": {
     "base_uri": "https://localhost:8080/",
     "height": 486
    },
    "executionInfo": {
     "elapsed": 309,
     "status": "ok",
     "timestamp": 1725021703600,
     "user": {
      "displayName": "Marco Russodivito",
      "userId": "05013084347772678948"
     },
     "user_tz": -120
    },
    "id": "7YKtesOW2IvZ",
    "outputId": "24c9e3ec-0a0b-4bbe-ea4e-e5dd05f05e0f"
   },
   "outputs": [
    {
     "data": {
      "text/html": [
       "<div>\n",
       "<style scoped>\n",
       "    .dataframe tbody tr th:only-of-type {\n",
       "        vertical-align: middle;\n",
       "    }\n",
       "\n",
       "    .dataframe tbody tr th {\n",
       "        vertical-align: top;\n",
       "    }\n",
       "\n",
       "    .dataframe thead th {\n",
       "        text-align: right;\n",
       "    }\n",
       "</style>\n",
       "<table border=\"1\" class=\"dataframe\">\n",
       "  <thead>\n",
       "    <tr style=\"text-align: right;\">\n",
       "      <th></th>\n",
       "      <th>uuid</th>\n",
       "      <th>age_range</th>\n",
       "      <th>education_fields</th>\n",
       "      <th>education_level</th>\n",
       "      <th>employment</th>\n",
       "      <th>employment_fields</th>\n",
       "      <th>italian_knowledge</th>\n",
       "    </tr>\n",
       "  </thead>\n",
       "  <tbody>\n",
       "    <tr>\n",
       "      <th>0</th>\n",
       "      <td>01a08668-7ff0-407c-9ca7-b3199a7e67e1</td>\n",
       "      <td>45-54</td>\n",
       "      <td>JURIDICAL</td>\n",
       "      <td>MASTER</td>\n",
       "      <td>EMPLOYEE</td>\n",
       "      <td>ADMINISTRATIVE</td>\n",
       "      <td>M</td>\n",
       "    </tr>\n",
       "    <tr>\n",
       "      <th>1</th>\n",
       "      <td>02f20641-0047-4e69-86c4-be3a9d07e841</td>\n",
       "      <td>35-44</td>\n",
       "      <td>JURIDICAL</td>\n",
       "      <td>MASTER</td>\n",
       "      <td>EMPLOYEE</td>\n",
       "      <td>ADMINISTRATIVE</td>\n",
       "      <td>M</td>\n",
       "    </tr>\n",
       "    <tr>\n",
       "      <th>2</th>\n",
       "      <td>03b757a4-1d34-4402-a7f6-076c3e3df170</td>\n",
       "      <td>25-34</td>\n",
       "      <td>JURIDICAL</td>\n",
       "      <td>BACHELOR</td>\n",
       "      <td>EMPLOYEE</td>\n",
       "      <td>ADMINISTRATIVE</td>\n",
       "      <td>M</td>\n",
       "    </tr>\n",
       "    <tr>\n",
       "      <th>3</th>\n",
       "      <td>052070fa-c886-48c1-8bcc-33a1f91bf703</td>\n",
       "      <td>25-34</td>\n",
       "      <td>HUMANISTIC</td>\n",
       "      <td>BACHELOR</td>\n",
       "      <td>UNEMPLOYED</td>\n",
       "      <td>EDUCATION</td>\n",
       "      <td>C2</td>\n",
       "    </tr>\n",
       "    <tr>\n",
       "      <th>4</th>\n",
       "      <td>08aeabdc-5ee0-4169-931f-78c2e10a2f09</td>\n",
       "      <td>18-24</td>\n",
       "      <td>HUMANISTIC | JURIDICAL</td>\n",
       "      <td>BACHELOR</td>\n",
       "      <td>STUDENT</td>\n",
       "      <td>EDUCATION | SALES | ARTISTIC</td>\n",
       "      <td>B1</td>\n",
       "    </tr>\n",
       "  </tbody>\n",
       "</table>\n",
       "</div>"
      ],
      "text/plain": [
       "                                   uuid age_range        education_fields  \\\n",
       "0  01a08668-7ff0-407c-9ca7-b3199a7e67e1     45-54               JURIDICAL   \n",
       "1  02f20641-0047-4e69-86c4-be3a9d07e841     35-44               JURIDICAL   \n",
       "2  03b757a4-1d34-4402-a7f6-076c3e3df170     25-34               JURIDICAL   \n",
       "3  052070fa-c886-48c1-8bcc-33a1f91bf703     25-34              HUMANISTIC   \n",
       "4  08aeabdc-5ee0-4169-931f-78c2e10a2f09     18-24  HUMANISTIC | JURIDICAL   \n",
       "\n",
       "  education_level  employment             employment_fields italian_knowledge  \n",
       "0          MASTER    EMPLOYEE                ADMINISTRATIVE                 M  \n",
       "1          MASTER    EMPLOYEE                ADMINISTRATIVE                 M  \n",
       "2        BACHELOR    EMPLOYEE                ADMINISTRATIVE                 M  \n",
       "3        BACHELOR  UNEMPLOYED                     EDUCATION                C2  \n",
       "4        BACHELOR     STUDENT  EDUCATION | SALES | ARTISTIC                B1  "
      ]
     },
     "execution_count": 6,
     "metadata": {},
     "output_type": "execute_result"
    }
   ],
   "source": [
    "demographic_df = pd.read_csv(f'./raw_data/demographic_info.csv')\n",
    "demographic_df.head()"
   ]
  },
  {
   "cell_type": "code",
   "execution_count": 7,
   "metadata": {
    "colab": {
     "base_uri": "https://localhost:8080/",
     "height": 206
    },
    "executionInfo": {
     "elapsed": 318,
     "status": "ok",
     "timestamp": 1725021703916,
     "user": {
      "displayName": "Marco Russodivito",
      "userId": "05013084347772678948"
     },
     "user_tz": -120
    },
    "id": "gYcvRYr32LoE",
    "outputId": "615d662b-c770-4472-f423-535495f7d80b"
   },
   "outputs": [
    {
     "data": {
      "text/html": [
       "<div>\n",
       "<style scoped>\n",
       "    .dataframe tbody tr th:only-of-type {\n",
       "        vertical-align: middle;\n",
       "    }\n",
       "\n",
       "    .dataframe tbody tr th {\n",
       "        vertical-align: top;\n",
       "    }\n",
       "\n",
       "    .dataframe thead th {\n",
       "        text-align: right;\n",
       "    }\n",
       "</style>\n",
       "<table border=\"1\" class=\"dataframe\">\n",
       "  <thead>\n",
       "    <tr style=\"text-align: right;\">\n",
       "      <th></th>\n",
       "      <th>uuid</th>\n",
       "      <th>q1</th>\n",
       "      <th>q2</th>\n",
       "      <th>q3</th>\n",
       "      <th>q4</th>\n",
       "      <th>q5</th>\n",
       "      <th>q6</th>\n",
       "      <th>rate</th>\n",
       "    </tr>\n",
       "  </thead>\n",
       "  <tbody>\n",
       "    <tr>\n",
       "      <th>0</th>\n",
       "      <td>01bb1c25-d8f1-4e72-8122-7494e20cb63d</td>\n",
       "      <td>1.0</td>\n",
       "      <td>3.0</td>\n",
       "      <td>1.0</td>\n",
       "      <td>1.0</td>\n",
       "      <td>1.0</td>\n",
       "      <td>1.0</td>\n",
       "      <td>5.0</td>\n",
       "    </tr>\n",
       "    <tr>\n",
       "      <th>1</th>\n",
       "      <td>0460198c-38b8-4f9e-bc18-3248ec02b684</td>\n",
       "      <td>1.0</td>\n",
       "      <td>5.0</td>\n",
       "      <td>1.0</td>\n",
       "      <td>1.0</td>\n",
       "      <td>1.0</td>\n",
       "      <td>1.0</td>\n",
       "      <td>5.0</td>\n",
       "    </tr>\n",
       "    <tr>\n",
       "      <th>2</th>\n",
       "      <td>05a20d99-56c4-4956-9658-f657bb2450ac</td>\n",
       "      <td>1.0</td>\n",
       "      <td>2.0</td>\n",
       "      <td>1.0</td>\n",
       "      <td>2.0</td>\n",
       "      <td>5.0</td>\n",
       "      <td>1.0</td>\n",
       "      <td>3.0</td>\n",
       "    </tr>\n",
       "    <tr>\n",
       "      <th>3</th>\n",
       "      <td>05cb4ae0-8e25-410e-803b-0d0f0ec74ad8</td>\n",
       "      <td>NaN</td>\n",
       "      <td>1.0</td>\n",
       "      <td>2.0</td>\n",
       "      <td>1.0</td>\n",
       "      <td>1.0</td>\n",
       "      <td>1.0</td>\n",
       "      <td>3.0</td>\n",
       "    </tr>\n",
       "    <tr>\n",
       "      <th>4</th>\n",
       "      <td>061c2890-fb36-4882-88a8-57cedd8eb4ea</td>\n",
       "      <td>1.0</td>\n",
       "      <td>1.0</td>\n",
       "      <td>1.0</td>\n",
       "      <td>1.0</td>\n",
       "      <td>5.0</td>\n",
       "      <td>3.0</td>\n",
       "      <td>4.0</td>\n",
       "    </tr>\n",
       "  </tbody>\n",
       "</table>\n",
       "</div>"
      ],
      "text/plain": [
       "                                   uuid   q1   q2   q3   q4   q5   q6  rate\n",
       "0  01bb1c25-d8f1-4e72-8122-7494e20cb63d  1.0  3.0  1.0  1.0  1.0  1.0   5.0\n",
       "1  0460198c-38b8-4f9e-bc18-3248ec02b684  1.0  5.0  1.0  1.0  1.0  1.0   5.0\n",
       "2  05a20d99-56c4-4956-9658-f657bb2450ac  1.0  2.0  1.0  2.0  5.0  1.0   3.0\n",
       "3  05cb4ae0-8e25-410e-803b-0d0f0ec74ad8  NaN  1.0  2.0  1.0  1.0  1.0   3.0\n",
       "4  061c2890-fb36-4882-88a8-57cedd8eb4ea  1.0  1.0  1.0  1.0  5.0  3.0   4.0"
      ]
     },
     "execution_count": 7,
     "metadata": {},
     "output_type": "execute_result"
    }
   ],
   "source": [
    "answers_d1_df = pd.read_csv(f'./raw_data/answers_d1.csv')\n",
    "answers_d1_df.head()"
   ]
  },
  {
   "cell_type": "code",
   "execution_count": 8,
   "metadata": {
    "colab": {
     "base_uri": "https://localhost:8080/",
     "height": 206
    },
    "executionInfo": {
     "elapsed": 312,
     "status": "ok",
     "timestamp": 1725021704227,
     "user": {
      "displayName": "Marco Russodivito",
      "userId": "05013084347772678948"
     },
     "user_tz": -120
    },
    "id": "J0_0vDLn2NgI",
    "outputId": "31b2b54a-5434-41bf-b781-3b63f5fa3fb9"
   },
   "outputs": [
    {
     "data": {
      "text/html": [
       "<div>\n",
       "<style scoped>\n",
       "    .dataframe tbody tr th:only-of-type {\n",
       "        vertical-align: middle;\n",
       "    }\n",
       "\n",
       "    .dataframe tbody tr th {\n",
       "        vertical-align: top;\n",
       "    }\n",
       "\n",
       "    .dataframe thead th {\n",
       "        text-align: right;\n",
       "    }\n",
       "</style>\n",
       "<table border=\"1\" class=\"dataframe\">\n",
       "  <thead>\n",
       "    <tr style=\"text-align: right;\">\n",
       "      <th></th>\n",
       "      <th>uuid</th>\n",
       "      <th>q1</th>\n",
       "      <th>q2</th>\n",
       "      <th>q3</th>\n",
       "      <th>q4</th>\n",
       "      <th>q5</th>\n",
       "      <th>q6</th>\n",
       "      <th>rate</th>\n",
       "    </tr>\n",
       "  </thead>\n",
       "  <tbody>\n",
       "    <tr>\n",
       "      <th>0</th>\n",
       "      <td>059b2ca0-6075-4083-8664-1b359baab5e2</td>\n",
       "      <td>1.0</td>\n",
       "      <td>1.0</td>\n",
       "      <td>1.0</td>\n",
       "      <td>2.0</td>\n",
       "      <td>1.0</td>\n",
       "      <td>1.0</td>\n",
       "      <td>5.0</td>\n",
       "    </tr>\n",
       "    <tr>\n",
       "      <th>1</th>\n",
       "      <td>0609ea66-6a92-496e-9570-33f8831ba972</td>\n",
       "      <td>1.0</td>\n",
       "      <td>1.0</td>\n",
       "      <td>1.0</td>\n",
       "      <td>2.0</td>\n",
       "      <td>1.0</td>\n",
       "      <td>1.0</td>\n",
       "      <td>4.0</td>\n",
       "    </tr>\n",
       "    <tr>\n",
       "      <th>2</th>\n",
       "      <td>06dac9a0-277a-4a59-aafa-e23daae8fca8</td>\n",
       "      <td>2.0</td>\n",
       "      <td>1.0</td>\n",
       "      <td>3.0</td>\n",
       "      <td>1.0</td>\n",
       "      <td>1.0</td>\n",
       "      <td>1.0</td>\n",
       "      <td>5.0</td>\n",
       "    </tr>\n",
       "    <tr>\n",
       "      <th>3</th>\n",
       "      <td>06df80d5-ba51-49a9-8f8a-f97faa365c21</td>\n",
       "      <td>1.0</td>\n",
       "      <td>2.0</td>\n",
       "      <td>4.0</td>\n",
       "      <td>2.0</td>\n",
       "      <td>1.0</td>\n",
       "      <td>1.0</td>\n",
       "      <td>3.0</td>\n",
       "    </tr>\n",
       "    <tr>\n",
       "      <th>4</th>\n",
       "      <td>0a6145fe-4e9f-4013-ad95-81e6d8be7ac1</td>\n",
       "      <td>5.0</td>\n",
       "      <td>5.0</td>\n",
       "      <td>5.0</td>\n",
       "      <td>5.0</td>\n",
       "      <td>5.0</td>\n",
       "      <td>5.0</td>\n",
       "      <td>4.0</td>\n",
       "    </tr>\n",
       "  </tbody>\n",
       "</table>\n",
       "</div>"
      ],
      "text/plain": [
       "                                   uuid   q1   q2   q3   q4   q5   q6  rate\n",
       "0  059b2ca0-6075-4083-8664-1b359baab5e2  1.0  1.0  1.0  2.0  1.0  1.0   5.0\n",
       "1  0609ea66-6a92-496e-9570-33f8831ba972  1.0  1.0  1.0  2.0  1.0  1.0   4.0\n",
       "2  06dac9a0-277a-4a59-aafa-e23daae8fca8  2.0  1.0  3.0  1.0  1.0  1.0   5.0\n",
       "3  06df80d5-ba51-49a9-8f8a-f97faa365c21  1.0  2.0  4.0  2.0  1.0  1.0   3.0\n",
       "4  0a6145fe-4e9f-4013-ad95-81e6d8be7ac1  5.0  5.0  5.0  5.0  5.0  5.0   4.0"
      ]
     },
     "execution_count": 8,
     "metadata": {},
     "output_type": "execute_result"
    }
   ],
   "source": [
    "answers_d2_df = pd.read_csv(f'./raw_data/answers_d2.csv')\n",
    "answers_d2_df.head()"
   ]
  },
  {
   "cell_type": "markdown",
   "metadata": {
    "id": "2209y0_C4iOC"
   },
   "source": [
    "# Merge"
   ]
  },
  {
   "cell_type": "code",
   "execution_count": 9,
   "metadata": {
    "colab": {
     "base_uri": "https://localhost:8080/",
     "height": 342
    },
    "executionInfo": {
     "elapsed": 4,
     "status": "ok",
     "timestamp": 1725021704227,
     "user": {
      "displayName": "Marco Russodivito",
      "userId": "05013084347772678948"
     },
     "user_tz": -120
    },
    "id": "tA7B4zNp4hF-",
    "outputId": "cee5b5b6-c701-4742-c616-c60034049656"
   },
   "outputs": [
    {
     "data": {
      "text/html": [
       "<div>\n",
       "<style scoped>\n",
       "    .dataframe tbody tr th:only-of-type {\n",
       "        vertical-align: middle;\n",
       "    }\n",
       "\n",
       "    .dataframe tbody tr th {\n",
       "        vertical-align: top;\n",
       "    }\n",
       "\n",
       "    .dataframe thead th {\n",
       "        text-align: right;\n",
       "    }\n",
       "</style>\n",
       "<table border=\"1\" class=\"dataframe\">\n",
       "  <thead>\n",
       "    <tr style=\"text-align: right;\">\n",
       "      <th></th>\n",
       "      <th>id</th>\n",
       "      <th>creation_date</th>\n",
       "      <th>participant_group</th>\n",
       "      <th>participant_type</th>\n",
       "      <th>submission_date</th>\n",
       "      <th>age_range</th>\n",
       "      <th>education_fields</th>\n",
       "      <th>education_level</th>\n",
       "      <th>employment</th>\n",
       "      <th>employment_fields</th>\n",
       "      <th>...</th>\n",
       "      <th>d1_q5</th>\n",
       "      <th>d1_q6</th>\n",
       "      <th>d1_rate</th>\n",
       "      <th>d2_q1</th>\n",
       "      <th>d2_q2</th>\n",
       "      <th>d2_q3</th>\n",
       "      <th>d2_q4</th>\n",
       "      <th>d2_q5</th>\n",
       "      <th>d2_q6</th>\n",
       "      <th>d2_rate</th>\n",
       "    </tr>\n",
       "  </thead>\n",
       "  <tbody>\n",
       "    <tr>\n",
       "      <th>0</th>\n",
       "      <td>1</td>\n",
       "      <td>2024-07-03 09:47:27.324685</td>\n",
       "      <td>A</td>\n",
       "      <td>ADMINISTRATIVE</td>\n",
       "      <td>2024-07-03 10:04:27.799306</td>\n",
       "      <td>25-34</td>\n",
       "      <td>JURIDICAL</td>\n",
       "      <td>BACHELOR</td>\n",
       "      <td>EMPLOYEE</td>\n",
       "      <td>ADMINISTRATIVE</td>\n",
       "      <td>...</td>\n",
       "      <td>1.0</td>\n",
       "      <td>1.0</td>\n",
       "      <td>4.0</td>\n",
       "      <td>1.0</td>\n",
       "      <td>1.0</td>\n",
       "      <td>1.0</td>\n",
       "      <td>2.0</td>\n",
       "      <td>1.0</td>\n",
       "      <td>1.0</td>\n",
       "      <td>2.0</td>\n",
       "    </tr>\n",
       "    <tr>\n",
       "      <th>1</th>\n",
       "      <td>10</td>\n",
       "      <td>2024-07-03 09:48:26.727449</td>\n",
       "      <td>B</td>\n",
       "      <td>ADMINISTRATIVE</td>\n",
       "      <td>2024-07-03 10:04:52.056617</td>\n",
       "      <td>35-44</td>\n",
       "      <td>OTHER</td>\n",
       "      <td>HIGH</td>\n",
       "      <td>EMPLOYEE</td>\n",
       "      <td>IT | OTHER</td>\n",
       "      <td>...</td>\n",
       "      <td>1.0</td>\n",
       "      <td>1.0</td>\n",
       "      <td>3.0</td>\n",
       "      <td>1.0</td>\n",
       "      <td>4.0</td>\n",
       "      <td>2.0</td>\n",
       "      <td>1.0</td>\n",
       "      <td>1.0</td>\n",
       "      <td>2.0</td>\n",
       "      <td>3.0</td>\n",
       "    </tr>\n",
       "    <tr>\n",
       "      <th>2</th>\n",
       "      <td>11</td>\n",
       "      <td>2024-07-03 09:48:24.888290</td>\n",
       "      <td>A</td>\n",
       "      <td>ADMINISTRATIVE</td>\n",
       "      <td>2024-07-03 10:03:03.416511</td>\n",
       "      <td>45-54</td>\n",
       "      <td>JURIDICAL</td>\n",
       "      <td>MASTER</td>\n",
       "      <td>EMPLOYEE</td>\n",
       "      <td>ADMINISTRATIVE</td>\n",
       "      <td>...</td>\n",
       "      <td>2.0</td>\n",
       "      <td>3.0</td>\n",
       "      <td>3.0</td>\n",
       "      <td>1.0</td>\n",
       "      <td>1.0</td>\n",
       "      <td>1.0</td>\n",
       "      <td>1.0</td>\n",
       "      <td>1.0</td>\n",
       "      <td>2.0</td>\n",
       "      <td>3.0</td>\n",
       "    </tr>\n",
       "    <tr>\n",
       "      <th>3</th>\n",
       "      <td>13</td>\n",
       "      <td>2024-07-03 09:48:18.365622</td>\n",
       "      <td>C</td>\n",
       "      <td>ADMINISTRATIVE</td>\n",
       "      <td>2024-07-03 10:05:14.581160</td>\n",
       "      <td>45-54</td>\n",
       "      <td>OTHER</td>\n",
       "      <td>HIGH</td>\n",
       "      <td>EMPLOYEE</td>\n",
       "      <td>ADMINISTRATIVE</td>\n",
       "      <td>...</td>\n",
       "      <td>2.0</td>\n",
       "      <td>1.0</td>\n",
       "      <td>3.0</td>\n",
       "      <td>1.0</td>\n",
       "      <td>1.0</td>\n",
       "      <td>1.0</td>\n",
       "      <td>2.0</td>\n",
       "      <td>1.0</td>\n",
       "      <td>1.0</td>\n",
       "      <td>3.0</td>\n",
       "    </tr>\n",
       "    <tr>\n",
       "      <th>4</th>\n",
       "      <td>14</td>\n",
       "      <td>2024-07-03 09:48:09.720491</td>\n",
       "      <td>B</td>\n",
       "      <td>ADMINISTRATIVE</td>\n",
       "      <td>2024-07-03 10:07:08.696679</td>\n",
       "      <td>55-64</td>\n",
       "      <td>JURIDICAL</td>\n",
       "      <td>MASTER</td>\n",
       "      <td>EMPLOYEE</td>\n",
       "      <td>ADMINISTRATIVE</td>\n",
       "      <td>...</td>\n",
       "      <td>1.0</td>\n",
       "      <td>1.0</td>\n",
       "      <td>2.0</td>\n",
       "      <td>1.0</td>\n",
       "      <td>2.0</td>\n",
       "      <td>2.0</td>\n",
       "      <td>2.0</td>\n",
       "      <td>1.0</td>\n",
       "      <td>1.0</td>\n",
       "      <td>3.0</td>\n",
       "    </tr>\n",
       "  </tbody>\n",
       "</table>\n",
       "<p>5 rows × 25 columns</p>\n",
       "</div>"
      ],
      "text/plain": [
       "   id               creation_date participant_group participant_type  \\\n",
       "0   1  2024-07-03 09:47:27.324685                 A   ADMINISTRATIVE   \n",
       "1  10  2024-07-03 09:48:26.727449                 B   ADMINISTRATIVE   \n",
       "2  11  2024-07-03 09:48:24.888290                 A   ADMINISTRATIVE   \n",
       "3  13  2024-07-03 09:48:18.365622                 C   ADMINISTRATIVE   \n",
       "4  14  2024-07-03 09:48:09.720491                 B   ADMINISTRATIVE   \n",
       "\n",
       "              submission_date age_range education_fields education_level  \\\n",
       "0  2024-07-03 10:04:27.799306     25-34        JURIDICAL        BACHELOR   \n",
       "1  2024-07-03 10:04:52.056617     35-44            OTHER            HIGH   \n",
       "2  2024-07-03 10:03:03.416511     45-54        JURIDICAL          MASTER   \n",
       "3  2024-07-03 10:05:14.581160     45-54            OTHER            HIGH   \n",
       "4  2024-07-03 10:07:08.696679     55-64        JURIDICAL          MASTER   \n",
       "\n",
       "  employment employment_fields  ... d1_q5  d1_q6  d1_rate  d2_q1  d2_q2  \\\n",
       "0   EMPLOYEE    ADMINISTRATIVE  ...   1.0    1.0      4.0    1.0    1.0   \n",
       "1   EMPLOYEE        IT | OTHER  ...   1.0    1.0      3.0    1.0    4.0   \n",
       "2   EMPLOYEE    ADMINISTRATIVE  ...   2.0    3.0      3.0    1.0    1.0   \n",
       "3   EMPLOYEE    ADMINISTRATIVE  ...   2.0    1.0      3.0    1.0    1.0   \n",
       "4   EMPLOYEE    ADMINISTRATIVE  ...   1.0    1.0      2.0    1.0    2.0   \n",
       "\n",
       "   d2_q3  d2_q4  d2_q5  d2_q6  d2_rate  \n",
       "0    1.0    2.0    1.0    1.0      2.0  \n",
       "1    2.0    1.0    1.0    2.0      3.0  \n",
       "2    1.0    1.0    1.0    2.0      3.0  \n",
       "3    1.0    2.0    1.0    1.0      3.0  \n",
       "4    2.0    2.0    1.0    1.0      3.0  \n",
       "\n",
       "[5 rows x 25 columns]"
      ]
     },
     "execution_count": 9,
     "metadata": {},
     "output_type": "execute_result"
    }
   ],
   "source": [
    "merged_df = participant_df.merge(demographic_df, left_on='demographic_info', right_on='uuid', how='left')\n",
    "merged_df = merged_df.merge(answers_d1_df.add_prefix('d1_'), left_on='answers_d1', right_on='d1_uuid', how='left')\n",
    "merged_df = merged_df.merge(answers_d2_df.add_prefix('d2_'), left_on='answers_d2', right_on='d2_uuid', how='left')\n",
    "merged_df = merged_df.drop(columns=['uuid', 'demographic_info', 'answers_d1', 'd1_uuid', 'answers_d2', 'd2_uuid'])\n",
    "merged_df.head()"
   ]
  },
  {
   "cell_type": "markdown",
   "metadata": {
    "id": "_tD5IGoR3Cit"
   },
   "source": [
    "# Eval features"
   ]
  },
  {
   "cell_type": "code",
   "execution_count": 10,
   "metadata": {
    "executionInfo": {
     "elapsed": 8755,
     "status": "ok",
     "timestamp": 1725021712979,
     "user": {
      "displayName": "Marco Russodivito",
      "userId": "05013084347772678948"
     },
     "user_tz": -120
    },
    "id": "ngm3XjQV0fu1"
   },
   "outputs": [
    {
     "name": "stderr",
     "output_type": "stream",
     "text": [
      "C:\\Users\\marco\\AppData\\Local\\Temp\\ipykernel_36472\\1739656136.py:1: FutureWarning: Series.view is deprecated and will be removed in a future version. Use ``astype`` as an alternative to change the dtype.\n",
      "  merged_df['duration'] = (pd.to_datetime(merged_df['submission_date']) - pd.to_datetime(merged_df['creation_date'])).view('int64') // 10**9\n"
     ]
    }
   ],
   "source": [
    "merged_df['duration'] = (pd.to_datetime(merged_df['submission_date']) - pd.to_datetime(merged_df['creation_date'])).view('int64') // 10**9\n",
    "merged_df['sessions'] = merged_df['id'].map(lambda x: evaluate_sessions(events_df, x))\n",
    "merged_df['d1_reading_time'] = merged_df['id'].map(lambda x: evaluate_reading_time_d1(events_df, x))\n",
    "merged_df['d2_reading_time'] = merged_df['id'].map(lambda x: evaluate_reading_time_d2(events_df, x))"
   ]
  },
  {
   "cell_type": "code",
   "execution_count": 11,
   "metadata": {
    "executionInfo": {
     "elapsed": 15,
     "status": "ok",
     "timestamp": 1725021712979,
     "user": {
      "displayName": "Marco Russodivito",
      "userId": "05013084347772678948"
     },
     "user_tz": -120
    },
    "id": "Z__PdZrr0gxo"
   },
   "outputs": [],
   "source": [
    "merged_df['d1_correctness'] = (merged_df[['d1_q1', 'd1_q2', 'd1_q3', 'd1_q4', 'd1_q5', 'd1_q6']] == 1).sum(axis=1)\n",
    "merged_df['d2_correctness'] = (merged_df[['d2_q1', 'd2_q2', 'd2_q3', 'd2_q4', 'd2_q5', 'd2_q6']] == 1).sum(axis=1)\n",
    "\n",
    "merged_df['d1_insecurity'] = (merged_df[['d1_q1', 'd1_q2', 'd1_q3', 'd1_q4', 'd1_q5', 'd1_q6']] == 5).sum(axis=1) > 0\n",
    "merged_df['d2_insecurity'] = (merged_df[['d2_q1', 'd2_q2', 'd2_q3', 'd2_q4', 'd2_q5', 'd2_q6']] == 5).sum(axis=1) > 0\n",
    "\n",
    "merged_df['d1_insecurity_count'] = (merged_df[['d1_q1', 'd1_q2', 'd1_q3', 'd1_q4', 'd1_q5', 'd1_q6']] == 5).sum(axis=1)\n",
    "merged_df['d2_insecurity_count'] = (merged_df[['d2_q1', 'd2_q2', 'd2_q3', 'd2_q4', 'd2_q5', 'd2_q6']] == 5).sum(axis=1)"
   ]
  },
  {
   "cell_type": "code",
   "execution_count": 12,
   "metadata": {
    "colab": {
     "base_uri": "https://localhost:8080/",
     "height": 617
    },
    "executionInfo": {
     "elapsed": 15,
     "status": "ok",
     "timestamp": 1725021712979,
     "user": {
      "displayName": "Marco Russodivito",
      "userId": "05013084347772678948"
     },
     "user_tz": -120
    },
    "id": "x3mBEWK53wUx",
    "outputId": "e09cff1b-1cfc-487f-c0e7-40c918a1d41e"
   },
   "outputs": [
    {
     "data": {
      "text/html": [
       "<div>\n",
       "<style scoped>\n",
       "    .dataframe tbody tr th:only-of-type {\n",
       "        vertical-align: middle;\n",
       "    }\n",
       "\n",
       "    .dataframe tbody tr th {\n",
       "        vertical-align: top;\n",
       "    }\n",
       "\n",
       "    .dataframe thead th {\n",
       "        text-align: right;\n",
       "    }\n",
       "</style>\n",
       "<table border=\"1\" class=\"dataframe\">\n",
       "  <thead>\n",
       "    <tr style=\"text-align: right;\">\n",
       "      <th></th>\n",
       "      <th>id</th>\n",
       "      <th>creation_date</th>\n",
       "      <th>participant_group</th>\n",
       "      <th>participant_type</th>\n",
       "      <th>submission_date</th>\n",
       "      <th>age_range</th>\n",
       "      <th>education_fields</th>\n",
       "      <th>education_level</th>\n",
       "      <th>employment</th>\n",
       "      <th>employment_fields</th>\n",
       "      <th>...</th>\n",
       "      <th>duration</th>\n",
       "      <th>sessions</th>\n",
       "      <th>d1_reading_time</th>\n",
       "      <th>d2_reading_time</th>\n",
       "      <th>d1_correctness</th>\n",
       "      <th>d2_correctness</th>\n",
       "      <th>d1_insecurity</th>\n",
       "      <th>d2_insecurity</th>\n",
       "      <th>d1_insecurity_count</th>\n",
       "      <th>d2_insecurity_count</th>\n",
       "    </tr>\n",
       "  </thead>\n",
       "  <tbody>\n",
       "    <tr>\n",
       "      <th>0</th>\n",
       "      <td>1</td>\n",
       "      <td>2024-07-03 09:47:27.324685</td>\n",
       "      <td>A</td>\n",
       "      <td>ADMINISTRATIVE</td>\n",
       "      <td>2024-07-03 10:04:27.799306</td>\n",
       "      <td>25-34</td>\n",
       "      <td>JURIDICAL</td>\n",
       "      <td>BACHELOR</td>\n",
       "      <td>EMPLOYEE</td>\n",
       "      <td>ADMINISTRATIVE</td>\n",
       "      <td>...</td>\n",
       "      <td>1020</td>\n",
       "      <td>1</td>\n",
       "      <td>499.972</td>\n",
       "      <td>226.652</td>\n",
       "      <td>5</td>\n",
       "      <td>5</td>\n",
       "      <td>False</td>\n",
       "      <td>False</td>\n",
       "      <td>0</td>\n",
       "      <td>0</td>\n",
       "    </tr>\n",
       "    <tr>\n",
       "      <th>1</th>\n",
       "      <td>10</td>\n",
       "      <td>2024-07-03 09:48:26.727449</td>\n",
       "      <td>B</td>\n",
       "      <td>ADMINISTRATIVE</td>\n",
       "      <td>2024-07-03 10:04:52.056617</td>\n",
       "      <td>35-44</td>\n",
       "      <td>OTHER</td>\n",
       "      <td>HIGH</td>\n",
       "      <td>EMPLOYEE</td>\n",
       "      <td>IT | OTHER</td>\n",
       "      <td>...</td>\n",
       "      <td>985</td>\n",
       "      <td>1</td>\n",
       "      <td>383.870</td>\n",
       "      <td>233.470</td>\n",
       "      <td>4</td>\n",
       "      <td>3</td>\n",
       "      <td>False</td>\n",
       "      <td>False</td>\n",
       "      <td>0</td>\n",
       "      <td>0</td>\n",
       "    </tr>\n",
       "    <tr>\n",
       "      <th>2</th>\n",
       "      <td>11</td>\n",
       "      <td>2024-07-03 09:48:24.888290</td>\n",
       "      <td>A</td>\n",
       "      <td>ADMINISTRATIVE</td>\n",
       "      <td>2024-07-03 10:03:03.416511</td>\n",
       "      <td>45-54</td>\n",
       "      <td>JURIDICAL</td>\n",
       "      <td>MASTER</td>\n",
       "      <td>EMPLOYEE</td>\n",
       "      <td>ADMINISTRATIVE</td>\n",
       "      <td>...</td>\n",
       "      <td>878</td>\n",
       "      <td>1</td>\n",
       "      <td>309.125</td>\n",
       "      <td>221.966</td>\n",
       "      <td>2</td>\n",
       "      <td>5</td>\n",
       "      <td>False</td>\n",
       "      <td>False</td>\n",
       "      <td>0</td>\n",
       "      <td>0</td>\n",
       "    </tr>\n",
       "    <tr>\n",
       "      <th>3</th>\n",
       "      <td>13</td>\n",
       "      <td>2024-07-03 09:48:18.365622</td>\n",
       "      <td>C</td>\n",
       "      <td>ADMINISTRATIVE</td>\n",
       "      <td>2024-07-03 10:05:14.581160</td>\n",
       "      <td>45-54</td>\n",
       "      <td>OTHER</td>\n",
       "      <td>HIGH</td>\n",
       "      <td>EMPLOYEE</td>\n",
       "      <td>ADMINISTRATIVE</td>\n",
       "      <td>...</td>\n",
       "      <td>1016</td>\n",
       "      <td>1</td>\n",
       "      <td>416.598</td>\n",
       "      <td>316.136</td>\n",
       "      <td>4</td>\n",
       "      <td>5</td>\n",
       "      <td>False</td>\n",
       "      <td>False</td>\n",
       "      <td>0</td>\n",
       "      <td>0</td>\n",
       "    </tr>\n",
       "    <tr>\n",
       "      <th>4</th>\n",
       "      <td>14</td>\n",
       "      <td>2024-07-03 09:48:09.720491</td>\n",
       "      <td>B</td>\n",
       "      <td>ADMINISTRATIVE</td>\n",
       "      <td>2024-07-03 10:07:08.696679</td>\n",
       "      <td>55-64</td>\n",
       "      <td>JURIDICAL</td>\n",
       "      <td>MASTER</td>\n",
       "      <td>EMPLOYEE</td>\n",
       "      <td>ADMINISTRATIVE</td>\n",
       "      <td>...</td>\n",
       "      <td>1138</td>\n",
       "      <td>1</td>\n",
       "      <td>323.449</td>\n",
       "      <td>289.004</td>\n",
       "      <td>4</td>\n",
       "      <td>3</td>\n",
       "      <td>False</td>\n",
       "      <td>False</td>\n",
       "      <td>0</td>\n",
       "      <td>0</td>\n",
       "    </tr>\n",
       "    <tr>\n",
       "      <th>...</th>\n",
       "      <td>...</td>\n",
       "      <td>...</td>\n",
       "      <td>...</td>\n",
       "      <td>...</td>\n",
       "      <td>...</td>\n",
       "      <td>...</td>\n",
       "      <td>...</td>\n",
       "      <td>...</td>\n",
       "      <td>...</td>\n",
       "      <td>...</td>\n",
       "      <td>...</td>\n",
       "      <td>...</td>\n",
       "      <td>...</td>\n",
       "      <td>...</td>\n",
       "      <td>...</td>\n",
       "      <td>...</td>\n",
       "      <td>...</td>\n",
       "      <td>...</td>\n",
       "      <td>...</td>\n",
       "      <td>...</td>\n",
       "      <td>...</td>\n",
       "    </tr>\n",
       "    <tr>\n",
       "      <th>164</th>\n",
       "      <td>UEFSVEVDSVBBTlRFXzU1</td>\n",
       "      <td>2024-07-04 13:21:46.597038</td>\n",
       "      <td>C</td>\n",
       "      <td>FOREIGNER</td>\n",
       "      <td>2024-07-04 13:33:35.799668</td>\n",
       "      <td>35-44</td>\n",
       "      <td>OTHER</td>\n",
       "      <td>HIGH</td>\n",
       "      <td>EMPLOYEE</td>\n",
       "      <td>SALES</td>\n",
       "      <td>...</td>\n",
       "      <td>709</td>\n",
       "      <td>1</td>\n",
       "      <td>22.162</td>\n",
       "      <td>74.442</td>\n",
       "      <td>1</td>\n",
       "      <td>2</td>\n",
       "      <td>True</td>\n",
       "      <td>True</td>\n",
       "      <td>3</td>\n",
       "      <td>1</td>\n",
       "    </tr>\n",
       "    <tr>\n",
       "      <th>165</th>\n",
       "      <td>UEFSVEVDSVBBTlRFXzUw</td>\n",
       "      <td>2024-07-01 13:08:59.918366</td>\n",
       "      <td>A</td>\n",
       "      <td>FOREIGNER</td>\n",
       "      <td>2024-07-01 13:30:02.402533</td>\n",
       "      <td>45-54</td>\n",
       "      <td>HUMANISTIC</td>\n",
       "      <td>BACHELOR</td>\n",
       "      <td>EMPLOYEE</td>\n",
       "      <td>OTHER</td>\n",
       "      <td>...</td>\n",
       "      <td>1262</td>\n",
       "      <td>1</td>\n",
       "      <td>620.984</td>\n",
       "      <td>242.522</td>\n",
       "      <td>4</td>\n",
       "      <td>5</td>\n",
       "      <td>False</td>\n",
       "      <td>False</td>\n",
       "      <td>0</td>\n",
       "      <td>0</td>\n",
       "    </tr>\n",
       "    <tr>\n",
       "      <th>166</th>\n",
       "      <td>UEFSVEVDSVBBTlRFXzUx</td>\n",
       "      <td>2024-07-01 13:13:25.434286</td>\n",
       "      <td>B</td>\n",
       "      <td>FOREIGNER</td>\n",
       "      <td>2024-07-01 13:54:49.149476</td>\n",
       "      <td>25-34</td>\n",
       "      <td>HUMANISTIC</td>\n",
       "      <td>BACHELOR</td>\n",
       "      <td>UNEMPLOYED</td>\n",
       "      <td>EDUCATION</td>\n",
       "      <td>...</td>\n",
       "      <td>2483</td>\n",
       "      <td>2</td>\n",
       "      <td>1157.067</td>\n",
       "      <td>612.700</td>\n",
       "      <td>4</td>\n",
       "      <td>5</td>\n",
       "      <td>False</td>\n",
       "      <td>False</td>\n",
       "      <td>0</td>\n",
       "      <td>0</td>\n",
       "    </tr>\n",
       "    <tr>\n",
       "      <th>167</th>\n",
       "      <td>UEFSVEVDSVBBTlRFXzUy</td>\n",
       "      <td>2024-07-03 15:18:35.753497</td>\n",
       "      <td>A</td>\n",
       "      <td>FOREIGNER</td>\n",
       "      <td>NaN</td>\n",
       "      <td>35-44</td>\n",
       "      <td>OTHER</td>\n",
       "      <td>BACHELOR</td>\n",
       "      <td>EMPLOYEE</td>\n",
       "      <td>OTHER</td>\n",
       "      <td>...</td>\n",
       "      <td>-9223372037</td>\n",
       "      <td>4</td>\n",
       "      <td>41.841</td>\n",
       "      <td>0.000</td>\n",
       "      <td>0</td>\n",
       "      <td>0</td>\n",
       "      <td>False</td>\n",
       "      <td>False</td>\n",
       "      <td>0</td>\n",
       "      <td>0</td>\n",
       "    </tr>\n",
       "    <tr>\n",
       "      <th>168</th>\n",
       "      <td>UEFSVEVDSVBBTlRFXzY=</td>\n",
       "      <td>2024-07-23 09:21:25.739754</td>\n",
       "      <td>D</td>\n",
       "      <td>ADMINISTRATIVE</td>\n",
       "      <td>2024-07-23 09:33:05.190219</td>\n",
       "      <td>45-54</td>\n",
       "      <td>JURIDICAL</td>\n",
       "      <td>MASTER</td>\n",
       "      <td>EMPLOYEE</td>\n",
       "      <td>EDUCATION</td>\n",
       "      <td>...</td>\n",
       "      <td>699</td>\n",
       "      <td>1</td>\n",
       "      <td>193.517</td>\n",
       "      <td>247.971</td>\n",
       "      <td>4</td>\n",
       "      <td>3</td>\n",
       "      <td>False</td>\n",
       "      <td>True</td>\n",
       "      <td>0</td>\n",
       "      <td>1</td>\n",
       "    </tr>\n",
       "  </tbody>\n",
       "</table>\n",
       "<p>169 rows × 35 columns</p>\n",
       "</div>"
      ],
      "text/plain": [
       "                       id               creation_date participant_group  \\\n",
       "0                       1  2024-07-03 09:47:27.324685                 A   \n",
       "1                      10  2024-07-03 09:48:26.727449                 B   \n",
       "2                      11  2024-07-03 09:48:24.888290                 A   \n",
       "3                      13  2024-07-03 09:48:18.365622                 C   \n",
       "4                      14  2024-07-03 09:48:09.720491                 B   \n",
       "..                    ...                         ...               ...   \n",
       "164  UEFSVEVDSVBBTlRFXzU1  2024-07-04 13:21:46.597038                 C   \n",
       "165  UEFSVEVDSVBBTlRFXzUw  2024-07-01 13:08:59.918366                 A   \n",
       "166  UEFSVEVDSVBBTlRFXzUx  2024-07-01 13:13:25.434286                 B   \n",
       "167  UEFSVEVDSVBBTlRFXzUy  2024-07-03 15:18:35.753497                 A   \n",
       "168  UEFSVEVDSVBBTlRFXzY=  2024-07-23 09:21:25.739754                 D   \n",
       "\n",
       "    participant_type             submission_date age_range education_fields  \\\n",
       "0     ADMINISTRATIVE  2024-07-03 10:04:27.799306     25-34        JURIDICAL   \n",
       "1     ADMINISTRATIVE  2024-07-03 10:04:52.056617     35-44            OTHER   \n",
       "2     ADMINISTRATIVE  2024-07-03 10:03:03.416511     45-54        JURIDICAL   \n",
       "3     ADMINISTRATIVE  2024-07-03 10:05:14.581160     45-54            OTHER   \n",
       "4     ADMINISTRATIVE  2024-07-03 10:07:08.696679     55-64        JURIDICAL   \n",
       "..               ...                         ...       ...              ...   \n",
       "164        FOREIGNER  2024-07-04 13:33:35.799668     35-44            OTHER   \n",
       "165        FOREIGNER  2024-07-01 13:30:02.402533     45-54       HUMANISTIC   \n",
       "166        FOREIGNER  2024-07-01 13:54:49.149476     25-34       HUMANISTIC   \n",
       "167        FOREIGNER                         NaN     35-44            OTHER   \n",
       "168   ADMINISTRATIVE  2024-07-23 09:33:05.190219     45-54        JURIDICAL   \n",
       "\n",
       "    education_level  employment employment_fields  ...    duration  sessions  \\\n",
       "0          BACHELOR    EMPLOYEE    ADMINISTRATIVE  ...        1020         1   \n",
       "1              HIGH    EMPLOYEE        IT | OTHER  ...         985         1   \n",
       "2            MASTER    EMPLOYEE    ADMINISTRATIVE  ...         878         1   \n",
       "3              HIGH    EMPLOYEE    ADMINISTRATIVE  ...        1016         1   \n",
       "4            MASTER    EMPLOYEE    ADMINISTRATIVE  ...        1138         1   \n",
       "..              ...         ...               ...  ...         ...       ...   \n",
       "164            HIGH    EMPLOYEE             SALES  ...         709         1   \n",
       "165        BACHELOR    EMPLOYEE             OTHER  ...        1262         1   \n",
       "166        BACHELOR  UNEMPLOYED         EDUCATION  ...        2483         2   \n",
       "167        BACHELOR    EMPLOYEE             OTHER  ... -9223372037         4   \n",
       "168          MASTER    EMPLOYEE         EDUCATION  ...         699         1   \n",
       "\n",
       "     d1_reading_time  d2_reading_time  d1_correctness  d2_correctness  \\\n",
       "0            499.972          226.652               5               5   \n",
       "1            383.870          233.470               4               3   \n",
       "2            309.125          221.966               2               5   \n",
       "3            416.598          316.136               4               5   \n",
       "4            323.449          289.004               4               3   \n",
       "..               ...              ...             ...             ...   \n",
       "164           22.162           74.442               1               2   \n",
       "165          620.984          242.522               4               5   \n",
       "166         1157.067          612.700               4               5   \n",
       "167           41.841            0.000               0               0   \n",
       "168          193.517          247.971               4               3   \n",
       "\n",
       "     d1_insecurity  d2_insecurity  d1_insecurity_count  d2_insecurity_count  \n",
       "0            False          False                    0                    0  \n",
       "1            False          False                    0                    0  \n",
       "2            False          False                    0                    0  \n",
       "3            False          False                    0                    0  \n",
       "4            False          False                    0                    0  \n",
       "..             ...            ...                  ...                  ...  \n",
       "164           True           True                    3                    1  \n",
       "165          False          False                    0                    0  \n",
       "166          False          False                    0                    0  \n",
       "167          False          False                    0                    0  \n",
       "168          False           True                    0                    1  \n",
       "\n",
       "[169 rows x 35 columns]"
      ]
     },
     "execution_count": 12,
     "metadata": {},
     "output_type": "execute_result"
    }
   ],
   "source": [
    "merged_df"
   ]
  },
  {
   "cell_type": "markdown",
   "metadata": {
    "id": "reYLRLYC26lL"
   },
   "source": [
    "# Basic filtering"
   ]
  },
  {
   "cell_type": "code",
   "execution_count": 13,
   "metadata": {
    "colab": {
     "base_uri": "https://localhost:8080/",
     "height": 227
    },
    "executionInfo": {
     "elapsed": 14,
     "status": "ok",
     "timestamp": 1725021712979,
     "user": {
      "displayName": "Marco Russodivito",
      "userId": "05013084347772678948"
     },
     "user_tz": -120
    },
    "id": "xR20COFw2zJs",
    "outputId": "eb1a8963-f3b0-418e-d626-4641e72c05c3"
   },
   "outputs": [
    {
     "name": "stdout",
     "output_type": "stream",
     "text": [
      "169\n"
     ]
    },
    {
     "data": {
      "text/plain": [
       "participant_type\n",
       "FOREIGNER         83\n",
       "REGULAR           70\n",
       "ADMINISTRATIVE    16\n",
       "Name: count, dtype: int64"
      ]
     },
     "execution_count": 13,
     "metadata": {},
     "output_type": "execute_result"
    }
   ],
   "source": [
    "filtered_merged_df = merged_df.copy()\n",
    "merged_df['exclusion_reason'] = ''\n",
    "\n",
    "print(filtered_merged_df.shape[0])\n",
    "filtered_merged_df['participant_type'].value_counts()"
   ]
  },
  {
   "cell_type": "code",
   "execution_count": 14,
   "metadata": {
    "colab": {
     "base_uri": "https://localhost:8080/",
     "height": 264
    },
    "executionInfo": {
     "elapsed": 13,
     "status": "ok",
     "timestamp": 1725021712979,
     "user": {
      "displayName": "Marco Russodivito",
      "userId": "05013084347772678948"
     },
     "user_tz": -120
    },
    "id": "j2cOUKl84s9T",
    "outputId": "3457a369-a2f7-46b3-91d0-6dc0e7e75392"
   },
   "outputs": [
    {
     "name": "stdout",
     "output_type": "stream",
     "text": [
      "['S1', 'S12', 'S14', 'S31', 'S46', 'S72', 'UEFSVEVDSVBBTlRFXzE1MA==', 'UEFSVEVDSVBBTlRFXzE1OQ==', 'UEFSVEVDSVBBTlRFXzE2MQ==', 'UEFSVEVDSVBBTlRFXzEzOA==', 'UEFSVEVDSVBBTlRFXzg4', 'UEFSVEVDSVBBTlRFXzUy']\n",
      "157\n"
     ]
    },
    {
     "data": {
      "text/plain": [
       "participant_type\n",
       "FOREIGNER         76\n",
       "REGULAR           65\n",
       "ADMINISTRATIVE    16\n",
       "Name: count, dtype: int64"
      ]
     },
     "execution_count": 14,
     "metadata": {},
     "output_type": "execute_result"
    }
   ],
   "source": [
    "# Remove \"NOT TERMINATED\"\n",
    "ids = filtered_merged_df[filtered_merged_df['submission_date'].isna()]['id'].tolist()\n",
    "print(ids)\n",
    "filtered_merged_df = filtered_merged_df[~filtered_merged_df['id'].isin(ids)]\n",
    "merged_df.loc[merged_df['id'].isin(ids), ['exclusion_reason']] = 'NOT TERMINATED'\n",
    "\n",
    "print(filtered_merged_df.shape[0])\n",
    "filtered_merged_df['participant_type'].value_counts()"
   ]
  },
  {
   "cell_type": "code",
   "execution_count": 15,
   "metadata": {
    "colab": {
     "base_uri": "https://localhost:8080/",
     "height": 264
    },
    "executionInfo": {
     "elapsed": 12,
     "status": "ok",
     "timestamp": 1725021712979,
     "user": {
      "displayName": "Marco Russodivito",
      "userId": "05013084347772678948"
     },
     "user_tz": -120
    },
    "id": "9mlWSw4zTbxJ",
    "outputId": "bc19a9d1-203f-4e53-c285-18eb7c67cf88"
   },
   "outputs": [
    {
     "name": "stdout",
     "output_type": "stream",
     "text": [
      "['S11', 'S52', 'S54', 'S62', 'S63', 'S68', 'S7', 'S8', 'UEFSVEVDSVBBTlRFXzE0Mw==', 'UEFSVEVDSVBBTlRFXzE1NQ==', 'UEFSVEVDSVBBTlRFXzE2Ng==', 'UEFSVEVDSVBBTlRFXzE3Mw==']\n",
      "145\n"
     ]
    },
    {
     "data": {
      "text/plain": [
       "participant_type\n",
       "FOREIGNER         68\n",
       "REGULAR           61\n",
       "ADMINISTRATIVE    16\n",
       "Name: count, dtype: int64"
      ]
     },
     "execution_count": 15,
     "metadata": {},
     "output_type": "execute_result"
    }
   ],
   "source": [
    "# Remove \"DATA ERROR\"\n",
    "ids = filtered_merged_df[filtered_merged_df['d1_q1'].isna() | filtered_merged_df['d2_q1'].isna() |\n",
    "                         filtered_merged_df['d1_q2'].isna() | filtered_merged_df['d2_q2'].isna() |\n",
    "                         filtered_merged_df['d1_q3'].isna() | filtered_merged_df['d2_q3'].isna() |\n",
    "                         filtered_merged_df['d1_q4'].isna() | filtered_merged_df['d2_q4'].isna() |\n",
    "                         filtered_merged_df['d1_q5'].isna() | filtered_merged_df['d2_q5'].isna() |\n",
    "                         filtered_merged_df['d1_q6'].isna() | filtered_merged_df['d2_q6'].isna()]['id'].tolist()\n",
    "print(ids)\n",
    "filtered_merged_df = filtered_merged_df[~filtered_merged_df['id'].isin(ids)]\n",
    "merged_df.loc[merged_df['id'].isin(ids), ['exclusion_reason']] = 'DATA ERROR'\n",
    "\n",
    "print(filtered_merged_df.shape[0])\n",
    "filtered_merged_df['participant_type'].value_counts()"
   ]
  },
  {
   "cell_type": "code",
   "execution_count": 16,
   "metadata": {
    "colab": {
     "base_uri": "https://localhost:8080/",
     "height": 264
    },
    "executionInfo": {
     "elapsed": 11,
     "status": "ok",
     "timestamp": 1725021712979,
     "user": {
      "displayName": "Marco Russodivito",
      "userId": "05013084347772678948"
     },
     "user_tz": -120
    },
    "id": "5nyl4yCt5KJN",
    "outputId": "4e8fa8cc-9ba4-4702-f75f-86d76caa8e20"
   },
   "outputs": [
    {
     "name": "stdout",
     "output_type": "stream",
     "text": [
      "['S10', 'S44', 'S45', 'S47', 'S5', 'S50', 'S6', 'S61', 'S71', 'UEFSVEVDSVBBTlRFXzE0MQ==', 'UEFSVEVDSVBBTlRFXzE3Mg==', 'UEFSVEVDSVBBTlRFXzEwNQ==', 'UEFSVEVDSVBBTlRFXzEyNQ==', 'UEFSVEVDSVBBTlRFXzg=', 'UEFSVEVDSVBBTlRFXzgz', 'UEFSVEVDSVBBTlRFXzkw']\n",
      "129\n"
     ]
    },
    {
     "data": {
      "text/plain": [
       "participant_type\n",
       "FOREIGNER         59\n",
       "REGULAR           55\n",
       "ADMINISTRATIVE    15\n",
       "Name: count, dtype: int64"
      ]
     },
     "execution_count": 16,
     "metadata": {},
     "output_type": "execute_result"
    }
   ],
   "source": [
    "# Remove \"LOW TIME\"\n",
    "ids = filtered_merged_df[filtered_merged_df['duration'] < 10 * 60]['id'].tolist()\n",
    "print(ids)\n",
    "filtered_merged_df = filtered_merged_df[~filtered_merged_df['id'].isin(ids)]\n",
    "merged_df.loc[merged_df['id'].isin(ids), ['exclusion_reason']] = 'LOW TIME'\n",
    "\n",
    "print(filtered_merged_df.shape[0])\n",
    "filtered_merged_df['participant_type'].value_counts()"
   ]
  },
  {
   "cell_type": "code",
   "execution_count": 17,
   "metadata": {
    "colab": {
     "base_uri": "https://localhost:8080/",
     "height": 264
    },
    "executionInfo": {
     "elapsed": 10,
     "status": "ok",
     "timestamp": 1725021712979,
     "user": {
      "displayName": "Marco Russodivito",
      "userId": "05013084347772678948"
     },
     "user_tz": -120
    },
    "id": "94DTagwB5kor",
    "outputId": "22bddfe3-ea73-4e4a-c1c8-9cda861ba3a7"
   },
   "outputs": [
    {
     "name": "stdout",
     "output_type": "stream",
     "text": [
      "['S16', 'S19', 'S26', 'S30', 'S37', 'S38', 'S40', 'S43', 'S70', 'UEFSVEVDSVBBTlRFXzE0Nw==', 'UEFSVEVDSVBBTlRFXzE0OQ==', 'UEFSVEVDSVBBTlRFXzEzMQ==', 'UEFSVEVDSVBBTlRFXzg0', 'UEFSVEVDSVBBTlRFXzU1']\n",
      "115\n"
     ]
    },
    {
     "data": {
      "text/plain": [
       "participant_type\n",
       "REGULAR           51\n",
       "FOREIGNER         49\n",
       "ADMINISTRATIVE    15\n",
       "Name: count, dtype: int64"
      ]
     },
     "execution_count": 17,
     "metadata": {},
     "output_type": "execute_result"
    }
   ],
   "source": [
    "# Remove \"BOTH CONTROL QUESTION\"\n",
    "ids = filtered_merged_df[(filtered_merged_df['d1_q6'] != 1) & (filtered_merged_df['d2_q5'] != 1)]['id'].tolist()\n",
    "print(ids)\n",
    "filtered_merged_df = filtered_merged_df[~filtered_merged_df['id'].isin(ids)]\n",
    "merged_df.loc[merged_df['id'].isin(ids), ['exclusion_reason']] = 'BOTH CONTROL QUESTION'\n",
    "\n",
    "print(filtered_merged_df.shape[0])\n",
    "filtered_merged_df['participant_type'].value_counts()"
   ]
  },
  {
   "cell_type": "code",
   "execution_count": 18,
   "metadata": {
    "colab": {
     "base_uri": "https://localhost:8080/",
     "height": 264
    },
    "executionInfo": {
     "elapsed": 9,
     "status": "ok",
     "timestamp": 1725021712979,
     "user": {
      "displayName": "Marco Russodivito",
      "userId": "05013084347772678948"
     },
     "user_tz": -120
    },
    "id": "haWxtjW-_7PO",
    "outputId": "513982ab-a709-4875-f696-e1f21a528f3f"
   },
   "outputs": [
    {
     "name": "stdout",
     "output_type": "stream",
     "text": [
      "['S2', 'S65', 'UEFSVEVDSVBBTlRFXzE0Mg==', 'UEFSVEVDSVBBTlRFXzEwNw==', 'UEFSVEVDSVBBTlRFXzExMA==', 'UEFSVEVDSVBBTlRFXzEzNw==']\n",
      "109\n"
     ]
    },
    {
     "data": {
      "text/plain": [
       "participant_type\n",
       "FOREIGNER         47\n",
       "REGULAR           47\n",
       "ADMINISTRATIVE    15\n",
       "Name: count, dtype: int64"
      ]
     },
     "execution_count": 18,
     "metadata": {},
     "output_type": "execute_result"
    }
   ],
   "source": [
    "# Remove \"NEGATIVE READING TIME\"\n",
    "ids = filtered_merged_df[(filtered_merged_df['d1_reading_time'] <= 0) | (filtered_merged_df['d2_reading_time'] <= 0)]['id'].tolist()\n",
    "print(ids)\n",
    "filtered_merged_df = filtered_merged_df[~filtered_merged_df['id'].isin(ids)]\n",
    "merged_df.loc[merged_df['id'].isin(ids), ['exclusion_reason']] = 'NEGATIVE READING TIME'\n",
    "\n",
    "print(filtered_merged_df.shape[0])\n",
    "filtered_merged_df['participant_type'].value_counts()"
   ]
  },
  {
   "cell_type": "code",
   "execution_count": 19,
   "metadata": {
    "colab": {
     "base_uri": "https://localhost:8080/",
     "height": 264
    },
    "executionInfo": {
     "elapsed": 288,
     "status": "ok",
     "timestamp": 1725021713259,
     "user": {
      "displayName": "Marco Russodivito",
      "userId": "05013084347772678948"
     },
     "user_tz": -120
    },
    "id": "tyhD8-r-AlaO",
    "outputId": "073e4bde-b34a-4f9f-d1e7-2cc079d2b197"
   },
   "outputs": [
    {
     "name": "stdout",
     "output_type": "stream",
     "text": [
      "['S22', 'S23', 'S29', 'S41', 'S48', 'S51', 'S55', 'S56', 'S57', 'S58', 'S60', 'S66', 'S67', 'UEFSVEVDSVBBTlRFXzE0MA==']\n",
      "95\n"
     ]
    },
    {
     "data": {
      "text/plain": [
       "participant_type\n",
       "REGULAR           46\n",
       "FOREIGNER         34\n",
       "ADMINISTRATIVE    15\n",
       "Name: count, dtype: int64"
      ]
     },
     "execution_count": 19,
     "metadata": {},
     "output_type": "execute_result"
    }
   ],
   "source": [
    "# Remove \"LOW READING TIME\"\n",
    "ids = filtered_merged_df[(filtered_merged_df['d1_reading_time'] <= 60) | (filtered_merged_df['d2_reading_time'] <= 60)]['id'].tolist()\n",
    "print(ids)\n",
    "filtered_merged_df = filtered_merged_df[~filtered_merged_df['id'].isin(ids)]\n",
    "merged_df.loc[merged_df['id'].isin(ids), ['exclusion_reason']] = 'LOW READING TIME'\n",
    "\n",
    "print(filtered_merged_df.shape[0])\n",
    "filtered_merged_df['participant_type'].value_counts()"
   ]
  },
  {
   "cell_type": "code",
   "execution_count": 20,
   "metadata": {
    "colab": {
     "base_uri": "https://localhost:8080/",
     "height": 264
    },
    "executionInfo": {
     "elapsed": 287,
     "status": "ok",
     "timestamp": 1725021713259,
     "user": {
      "displayName": "Marco Russodivito",
      "userId": "05013084347772678948"
     },
     "user_tz": -120
    },
    "id": "dlSZbNe0ShAY",
    "outputId": "f49ee412-be90-4d1c-edbc-2da58450c18f"
   },
   "outputs": [
    {
     "name": "stdout",
     "output_type": "stream",
     "text": [
      "['S9', 'S32', 'S34', 'S64', 'S69', 'UEFSVEVDSVBBTlRFXzEzNQ==', 'UEFSVEVDSVBBTlRFXzEwNA==', 'UEFSVEVDSVBBTlRFXzE3Ng==', 'UEFSVEVDSVBBTlRFXzEyNg==', 'UEFSVEVDSVBBTlRFXzEzNg==']\n",
      "85\n"
     ]
    },
    {
     "data": {
      "text/plain": [
       "participant_type\n",
       "REGULAR           41\n",
       "FOREIGNER         29\n",
       "ADMINISTRATIVE    15\n",
       "Name: count, dtype: int64"
      ]
     },
     "execution_count": 20,
     "metadata": {},
     "output_type": "execute_result"
    }
   ],
   "source": [
    "# Remove \"MANUALLY\"\n",
    "ids = [\n",
    "    'S9',\n",
    "    'S32',\n",
    "    'S34',\n",
    "    'S64',\n",
    "    'S69',\n",
    "    'UEFSVEVDSVBBTlRFXzEzNQ==',\n",
    "    'UEFSVEVDSVBBTlRFXzEwNA==',\n",
    "    'UEFSVEVDSVBBTlRFXzE3Ng==',\n",
    "    'UEFSVEVDSVBBTlRFXzEyNg==',\n",
    "    'UEFSVEVDSVBBTlRFXzEzNg=='\n",
    "]\n",
    "print(ids)\n",
    "filtered_merged_df = filtered_merged_df[~filtered_merged_df['id'].isin(ids)]\n",
    "merged_df.loc[merged_df['id'].isin(ids), ['exclusion_reason']] = 'MANUALLY'\n",
    "\n",
    "print(filtered_merged_df.shape[0])\n",
    "filtered_merged_df['participant_type'].value_counts()"
   ]
  },
  {
   "cell_type": "markdown",
   "metadata": {
    "id": "dQHgIiTJBwgc"
   },
   "source": [
    "# Save"
   ]
  },
  {
   "cell_type": "code",
   "execution_count": 21,
   "metadata": {
    "executionInfo": {
     "elapsed": 2,
     "status": "ok",
     "timestamp": 1725021713259,
     "user": {
      "displayName": "Marco Russodivito",
      "userId": "05013084347772678948"
     },
     "user_tz": -120
    },
    "id": "9XeYeTUZ9IL-"
   },
   "outputs": [],
   "source": [
    "COLUMNS = [\n",
    "    'id',\n",
    "    'participant_type',\n",
    "    'participant_group',\n",
    "    'duration',\n",
    "    'sessions',\n",
    "    # D1\n",
    "    'd1_reading_time',\n",
    "    'd1_q1',\n",
    "    'd1_q2',\n",
    "    'd1_q3',\n",
    "    'd1_q4',\n",
    "    'd1_q5',\n",
    "    'd1_q6',\n",
    "    'd1_rate',\n",
    "    'd1_correctness',\n",
    "    'd1_insecurity',\n",
    "    'd1_insecurity_count',\n",
    "    # D2\n",
    "    'd2_reading_time',\n",
    "    'd2_q1',\n",
    "    'd2_q2',\n",
    "    'd2_q3',\n",
    "    'd2_q4',\n",
    "    'd2_q5',\n",
    "    'd2_q6',\n",
    "    'd2_rate',\n",
    "    'd2_correctness',\n",
    "    'd2_insecurity',\n",
    "    'd2_insecurity_count',\n",
    "    # Demographics\n",
    "    'age_range',\n",
    "    'education_fields',\n",
    "    'education_level',\n",
    "    'employment',\n",
    "    'employment_fields',\n",
    "    'italian_knowledge'\n",
    "]\n",
    "COLUMNS_2 = COLUMNS + ['exclusion_reason']"
   ]
  },
  {
   "cell_type": "code",
   "execution_count": 22,
   "metadata": {
    "executionInfo": {
     "elapsed": 1569,
     "status": "ok",
     "timestamp": 1725021714826,
     "user": {
      "displayName": "Marco Russodivito",
      "userId": "05013084347772678948"
     },
     "user_tz": -120
    },
    "id": "RdIHcG9x86to"
   },
   "outputs": [],
   "source": [
    "merged_df[COLUMNS_2].to_csv(f'./final_data/participants.csv', index=None)\n",
    "merged_df[COLUMNS_2].to_excel(f'./final_data/participants.xlsx', index=None)\n",
    "filtered_merged_df[COLUMNS].to_csv(f'./final_data/filtered_participants.csv', index=None)\n",
    "filtered_merged_df[COLUMNS].to_excel(f'./final_data/filtered_participants.xlsx', index=None)"
   ]
  }
 ],
 "metadata": {
  "colab": {
   "authorship_tag": "ABX9TyPC4CHUtlLZk2zjUpAP7G31",
   "provenance": [],
   "toc_visible": true
  },
  "kernelspec": {
   "display_name": ".venv",
   "language": "python",
   "name": "python3"
  },
  "language_info": {
   "codemirror_mode": {
    "name": "ipython",
    "version": 3
   },
   "file_extension": ".py",
   "mimetype": "text/x-python",
   "name": "python",
   "nbconvert_exporter": "python",
   "pygments_lexer": "ipython3",
   "version": "3.12.2"
  }
 },
 "nbformat": 4,
 "nbformat_minor": 0
}
