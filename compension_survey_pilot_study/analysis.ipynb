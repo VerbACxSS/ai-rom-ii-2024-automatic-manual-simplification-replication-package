{
 "cells": [
  {
   "cell_type": "code",
   "execution_count": 1,
   "metadata": {
    "id": "wI2Hgj2242Sl"
   },
   "outputs": [],
   "source": [
    "import datetime\n",
    "\n",
    "import pandas as pd"
   ]
  },
  {
   "cell_type": "markdown",
   "metadata": {
    "id": "LmrpyRmDdV_U"
   },
   "source": [
    "# Load data"
   ]
  },
  {
   "cell_type": "code",
   "execution_count": 2,
   "metadata": {
    "colab": {
     "base_uri": "https://localhost:8080/",
     "height": 175
    },
    "executionInfo": {
     "elapsed": 393,
     "status": "ok",
     "timestamp": 1719470912678,
     "user": {
      "displayName": "Marco Russodivito",
      "userId": "05013084347772678948"
     },
     "user_tz": -120
    },
    "id": "xKj4S235Xiyw",
    "outputId": "dce04005-04ec-4b9d-9217-dbd7e1879d9f"
   },
   "outputs": [
    {
     "data": {
      "text/html": [
       "<div>\n",
       "<style scoped>\n",
       "    .dataframe tbody tr th:only-of-type {\n",
       "        vertical-align: middle;\n",
       "    }\n",
       "\n",
       "    .dataframe tbody tr th {\n",
       "        vertical-align: top;\n",
       "    }\n",
       "\n",
       "    .dataframe thead th {\n",
       "        text-align: right;\n",
       "    }\n",
       "</style>\n",
       "<table border=\"1\" class=\"dataframe\">\n",
       "  <thead>\n",
       "    <tr style=\"text-align: right;\">\n",
       "      <th></th>\n",
       "      <th>id</th>\n",
       "      <th>creation_date</th>\n",
       "      <th>participant_group</th>\n",
       "      <th>participant_type</th>\n",
       "      <th>submission_date</th>\n",
       "      <th>answers_d1</th>\n",
       "      <th>answers_d2</th>\n",
       "      <th>demographic_info</th>\n",
       "    </tr>\n",
       "  </thead>\n",
       "  <tbody>\n",
       "    <tr>\n",
       "      <th>0</th>\n",
       "      <td>cGlsb3RfcGFydGVjaXBhbnRlXzE=</td>\n",
       "      <td>2024-06-26 19:46:50.921525</td>\n",
       "      <td>C</td>\n",
       "      <td>REGULAR</td>\n",
       "      <td>2024-06-26 20:02:24.076258</td>\n",
       "      <td>c739006a-8253-4f0e-b9b6-4b04c634cc7c</td>\n",
       "      <td>71a3ac08-7168-4d16-9e87-64dc0f48d543</td>\n",
       "      <td>a8f15cb2-1209-402b-8811-cf8c8868dadc</td>\n",
       "    </tr>\n",
       "    <tr>\n",
       "      <th>1</th>\n",
       "      <td>cGlsb3RfcGFydGVjaXBhbnRlXzI=</td>\n",
       "      <td>2024-06-26 19:47:07.712534</td>\n",
       "      <td>D</td>\n",
       "      <td>REGULAR</td>\n",
       "      <td>2024-06-26 19:59:43.827209</td>\n",
       "      <td>bf02590a-1275-4dda-94f4-c3e0f443c2ed</td>\n",
       "      <td>24fb4e04-324b-4b4b-af2d-5bb7742f6792</td>\n",
       "      <td>768ecc0b-30fa-42ff-bdaa-760d38ffcdb7</td>\n",
       "    </tr>\n",
       "    <tr>\n",
       "      <th>2</th>\n",
       "      <td>cGlsb3RfcGFydGVjaXBhbnRlXzM=</td>\n",
       "      <td>2024-06-26 19:45:54.642664</td>\n",
       "      <td>A</td>\n",
       "      <td>REGULAR</td>\n",
       "      <td>2024-06-26 20:18:29.838274</td>\n",
       "      <td>440f6438-877f-41e9-90e5-8e0f553ea93b</td>\n",
       "      <td>bfea6c6f-8536-4df9-bedd-9f90a7a6d743</td>\n",
       "      <td>66a33a16-7bf3-4240-810c-042e18785dce</td>\n",
       "    </tr>\n",
       "    <tr>\n",
       "      <th>3</th>\n",
       "      <td>cGlsb3RfcGFydGVjaXBhbnRlXzQ=</td>\n",
       "      <td>2024-06-26 19:46:49.587677</td>\n",
       "      <td>B</td>\n",
       "      <td>REGULAR</td>\n",
       "      <td>2024-06-26 20:07:57.630823</td>\n",
       "      <td>15820e4a-d1a0-4a0f-ace7-0fc60a1f62ab</td>\n",
       "      <td>a21ce22c-1d12-4787-90bd-46d3732d291e</td>\n",
       "      <td>ac7e36bd-7813-4809-931b-15d76b077655</td>\n",
       "    </tr>\n",
       "  </tbody>\n",
       "</table>\n",
       "</div>"
      ],
      "text/plain": [
       "                             id               creation_date participant_group  \\\n",
       "0  cGlsb3RfcGFydGVjaXBhbnRlXzE=  2024-06-26 19:46:50.921525                 C   \n",
       "1  cGlsb3RfcGFydGVjaXBhbnRlXzI=  2024-06-26 19:47:07.712534                 D   \n",
       "2  cGlsb3RfcGFydGVjaXBhbnRlXzM=  2024-06-26 19:45:54.642664                 A   \n",
       "3  cGlsb3RfcGFydGVjaXBhbnRlXzQ=  2024-06-26 19:46:49.587677                 B   \n",
       "\n",
       "  participant_type             submission_date  \\\n",
       "0          REGULAR  2024-06-26 20:02:24.076258   \n",
       "1          REGULAR  2024-06-26 19:59:43.827209   \n",
       "2          REGULAR  2024-06-26 20:18:29.838274   \n",
       "3          REGULAR  2024-06-26 20:07:57.630823   \n",
       "\n",
       "                             answers_d1                            answers_d2  \\\n",
       "0  c739006a-8253-4f0e-b9b6-4b04c634cc7c  71a3ac08-7168-4d16-9e87-64dc0f48d543   \n",
       "1  bf02590a-1275-4dda-94f4-c3e0f443c2ed  24fb4e04-324b-4b4b-af2d-5bb7742f6792   \n",
       "2  440f6438-877f-41e9-90e5-8e0f553ea93b  bfea6c6f-8536-4df9-bedd-9f90a7a6d743   \n",
       "3  15820e4a-d1a0-4a0f-ace7-0fc60a1f62ab  a21ce22c-1d12-4787-90bd-46d3732d291e   \n",
       "\n",
       "                       demographic_info  \n",
       "0  a8f15cb2-1209-402b-8811-cf8c8868dadc  \n",
       "1  768ecc0b-30fa-42ff-bdaa-760d38ffcdb7  \n",
       "2  66a33a16-7bf3-4240-810c-042e18785dce  \n",
       "3  ac7e36bd-7813-4809-931b-15d76b077655  "
      ]
     },
     "execution_count": 2,
     "metadata": {},
     "output_type": "execute_result"
    }
   ],
   "source": [
    "participant_df = pd.read_csv(f'./raw_data/participant.csv')\n",
    "participant_df.head()"
   ]
  },
  {
   "cell_type": "code",
   "execution_count": 3,
   "metadata": {
    "colab": {
     "base_uri": "https://localhost:8080/",
     "height": 175
    },
    "executionInfo": {
     "elapsed": 876,
     "status": "ok",
     "timestamp": 1719470937948,
     "user": {
      "displayName": "Marco Russodivito",
      "userId": "05013084347772678948"
     },
     "user_tz": -120
    },
    "id": "SNTN_AvMc_xi",
    "outputId": "16178e98-f104-4e1f-94e1-f50bbab8d019"
   },
   "outputs": [
    {
     "data": {
      "text/html": [
       "<div>\n",
       "<style scoped>\n",
       "    .dataframe tbody tr th:only-of-type {\n",
       "        vertical-align: middle;\n",
       "    }\n",
       "\n",
       "    .dataframe tbody tr th {\n",
       "        vertical-align: top;\n",
       "    }\n",
       "\n",
       "    .dataframe thead th {\n",
       "        text-align: right;\n",
       "    }\n",
       "</style>\n",
       "<table border=\"1\" class=\"dataframe\">\n",
       "  <thead>\n",
       "    <tr style=\"text-align: right;\">\n",
       "      <th></th>\n",
       "      <th>uuid</th>\n",
       "      <th>age_range</th>\n",
       "      <th>education_fields</th>\n",
       "      <th>education_level</th>\n",
       "      <th>employment</th>\n",
       "      <th>employment_fields</th>\n",
       "      <th>italian_knowledge</th>\n",
       "    </tr>\n",
       "  </thead>\n",
       "  <tbody>\n",
       "    <tr>\n",
       "      <th>0</th>\n",
       "      <td>66a33a16-7bf3-4240-810c-042e18785dce</td>\n",
       "      <td>25-34</td>\n",
       "      <td>ENGINEERING</td>\n",
       "      <td>MASTER</td>\n",
       "      <td>EMPLOYEE</td>\n",
       "      <td>IT</td>\n",
       "      <td>M</td>\n",
       "    </tr>\n",
       "    <tr>\n",
       "      <th>1</th>\n",
       "      <td>768ecc0b-30fa-42ff-bdaa-760d38ffcdb7</td>\n",
       "      <td>18-24</td>\n",
       "      <td>ENGINEERING</td>\n",
       "      <td>MASTER</td>\n",
       "      <td>STUDENT</td>\n",
       "      <td>IT</td>\n",
       "      <td>M</td>\n",
       "    </tr>\n",
       "    <tr>\n",
       "      <th>2</th>\n",
       "      <td>a8f15cb2-1209-402b-8811-cf8c8868dadc</td>\n",
       "      <td>25-34</td>\n",
       "      <td>ENGINEERING</td>\n",
       "      <td>PHD</td>\n",
       "      <td>EMPLOYEE</td>\n",
       "      <td>IT</td>\n",
       "      <td>M</td>\n",
       "    </tr>\n",
       "    <tr>\n",
       "      <th>3</th>\n",
       "      <td>ac7e36bd-7813-4809-931b-15d76b077655</td>\n",
       "      <td>25-34</td>\n",
       "      <td>ENGINEERING</td>\n",
       "      <td>MASTER</td>\n",
       "      <td>EMPLOYEE</td>\n",
       "      <td>IT</td>\n",
       "      <td>M</td>\n",
       "    </tr>\n",
       "  </tbody>\n",
       "</table>\n",
       "</div>"
      ],
      "text/plain": [
       "                                   uuid age_range education_fields  \\\n",
       "0  66a33a16-7bf3-4240-810c-042e18785dce     25-34      ENGINEERING   \n",
       "1  768ecc0b-30fa-42ff-bdaa-760d38ffcdb7     18-24      ENGINEERING   \n",
       "2  a8f15cb2-1209-402b-8811-cf8c8868dadc     25-34      ENGINEERING   \n",
       "3  ac7e36bd-7813-4809-931b-15d76b077655     25-34      ENGINEERING   \n",
       "\n",
       "  education_level employment employment_fields italian_knowledge  \n",
       "0          MASTER   EMPLOYEE                IT                 M  \n",
       "1          MASTER    STUDENT                IT                 M  \n",
       "2             PHD   EMPLOYEE                IT                 M  \n",
       "3          MASTER   EMPLOYEE                IT                 M  "
      ]
     },
     "execution_count": 3,
     "metadata": {},
     "output_type": "execute_result"
    }
   ],
   "source": [
    "demographic_info_df = pd.read_csv(f'./raw_data/demographic_info.csv')\n",
    "demographic_info_df.head()"
   ]
  },
  {
   "cell_type": "code",
   "execution_count": 4,
   "metadata": {
    "colab": {
     "base_uri": "https://localhost:8080/",
     "height": 175
    },
    "executionInfo": {
     "elapsed": 837,
     "status": "ok",
     "timestamp": 1719470965967,
     "user": {
      "displayName": "Marco Russodivito",
      "userId": "05013084347772678948"
     },
     "user_tz": -120
    },
    "id": "_qMzyOonc4zy",
    "outputId": "79ef8117-1f2a-4456-8693-84586e9ae047"
   },
   "outputs": [
    {
     "data": {
      "text/html": [
       "<div>\n",
       "<style scoped>\n",
       "    .dataframe tbody tr th:only-of-type {\n",
       "        vertical-align: middle;\n",
       "    }\n",
       "\n",
       "    .dataframe tbody tr th {\n",
       "        vertical-align: top;\n",
       "    }\n",
       "\n",
       "    .dataframe thead th {\n",
       "        text-align: right;\n",
       "    }\n",
       "</style>\n",
       "<table border=\"1\" class=\"dataframe\">\n",
       "  <thead>\n",
       "    <tr style=\"text-align: right;\">\n",
       "      <th></th>\n",
       "      <th>uuid</th>\n",
       "      <th>q1</th>\n",
       "      <th>q2</th>\n",
       "      <th>q3</th>\n",
       "      <th>q4</th>\n",
       "      <th>q5</th>\n",
       "      <th>q6</th>\n",
       "    </tr>\n",
       "  </thead>\n",
       "  <tbody>\n",
       "    <tr>\n",
       "      <th>0</th>\n",
       "      <td>15820e4a-d1a0-4a0f-ace7-0fc60a1f62ab</td>\n",
       "      <td>1</td>\n",
       "      <td>1</td>\n",
       "      <td>1</td>\n",
       "      <td>1</td>\n",
       "      <td>1</td>\n",
       "      <td>1</td>\n",
       "    </tr>\n",
       "    <tr>\n",
       "      <th>1</th>\n",
       "      <td>440f6438-877f-41e9-90e5-8e0f553ea93b</td>\n",
       "      <td>1</td>\n",
       "      <td>1</td>\n",
       "      <td>1</td>\n",
       "      <td>1</td>\n",
       "      <td>1</td>\n",
       "      <td>1</td>\n",
       "    </tr>\n",
       "    <tr>\n",
       "      <th>2</th>\n",
       "      <td>bf02590a-1275-4dda-94f4-c3e0f443c2ed</td>\n",
       "      <td>1</td>\n",
       "      <td>1</td>\n",
       "      <td>1</td>\n",
       "      <td>1</td>\n",
       "      <td>1</td>\n",
       "      <td>1</td>\n",
       "    </tr>\n",
       "    <tr>\n",
       "      <th>3</th>\n",
       "      <td>c739006a-8253-4f0e-b9b6-4b04c634cc7c</td>\n",
       "      <td>1</td>\n",
       "      <td>1</td>\n",
       "      <td>1</td>\n",
       "      <td>1</td>\n",
       "      <td>1</td>\n",
       "      <td>1</td>\n",
       "    </tr>\n",
       "  </tbody>\n",
       "</table>\n",
       "</div>"
      ],
      "text/plain": [
       "                                   uuid  q1  q2  q3  q4  q5  q6\n",
       "0  15820e4a-d1a0-4a0f-ace7-0fc60a1f62ab   1   1   1   1   1   1\n",
       "1  440f6438-877f-41e9-90e5-8e0f553ea93b   1   1   1   1   1   1\n",
       "2  bf02590a-1275-4dda-94f4-c3e0f443c2ed   1   1   1   1   1   1\n",
       "3  c739006a-8253-4f0e-b9b6-4b04c634cc7c   1   1   1   1   1   1"
      ]
     },
     "execution_count": 4,
     "metadata": {},
     "output_type": "execute_result"
    }
   ],
   "source": [
    "answers_d1_df = pd.read_csv(f'./raw_data/answers_d1.csv')\n",
    "answers_d1_df.head()"
   ]
  },
  {
   "cell_type": "code",
   "execution_count": 5,
   "metadata": {
    "colab": {
     "base_uri": "https://localhost:8080/",
     "height": 175
    },
    "executionInfo": {
     "elapsed": 864,
     "status": "ok",
     "timestamp": 1719470974699,
     "user": {
      "displayName": "Marco Russodivito",
      "userId": "05013084347772678948"
     },
     "user_tz": -120
    },
    "id": "auyQQOM9dMqb",
    "outputId": "995d778b-9028-414a-d724-a17272b0c92d"
   },
   "outputs": [
    {
     "data": {
      "text/html": [
       "<div>\n",
       "<style scoped>\n",
       "    .dataframe tbody tr th:only-of-type {\n",
       "        vertical-align: middle;\n",
       "    }\n",
       "\n",
       "    .dataframe tbody tr th {\n",
       "        vertical-align: top;\n",
       "    }\n",
       "\n",
       "    .dataframe thead th {\n",
       "        text-align: right;\n",
       "    }\n",
       "</style>\n",
       "<table border=\"1\" class=\"dataframe\">\n",
       "  <thead>\n",
       "    <tr style=\"text-align: right;\">\n",
       "      <th></th>\n",
       "      <th>uuid</th>\n",
       "      <th>q1</th>\n",
       "      <th>q2</th>\n",
       "      <th>q3</th>\n",
       "      <th>q4</th>\n",
       "      <th>q5</th>\n",
       "      <th>q6</th>\n",
       "    </tr>\n",
       "  </thead>\n",
       "  <tbody>\n",
       "    <tr>\n",
       "      <th>0</th>\n",
       "      <td>24fb4e04-324b-4b4b-af2d-5bb7742f6792</td>\n",
       "      <td>1</td>\n",
       "      <td>2</td>\n",
       "      <td>1</td>\n",
       "      <td>4</td>\n",
       "      <td>1</td>\n",
       "      <td>1</td>\n",
       "    </tr>\n",
       "    <tr>\n",
       "      <th>1</th>\n",
       "      <td>71a3ac08-7168-4d16-9e87-64dc0f48d543</td>\n",
       "      <td>1</td>\n",
       "      <td>2</td>\n",
       "      <td>1</td>\n",
       "      <td>4</td>\n",
       "      <td>1</td>\n",
       "      <td>1</td>\n",
       "    </tr>\n",
       "    <tr>\n",
       "      <th>2</th>\n",
       "      <td>a21ce22c-1d12-4787-90bd-46d3732d291e</td>\n",
       "      <td>1</td>\n",
       "      <td>1</td>\n",
       "      <td>4</td>\n",
       "      <td>3</td>\n",
       "      <td>1</td>\n",
       "      <td>1</td>\n",
       "    </tr>\n",
       "    <tr>\n",
       "      <th>3</th>\n",
       "      <td>bfea6c6f-8536-4df9-bedd-9f90a7a6d743</td>\n",
       "      <td>1</td>\n",
       "      <td>1</td>\n",
       "      <td>1</td>\n",
       "      <td>2</td>\n",
       "      <td>2</td>\n",
       "      <td>1</td>\n",
       "    </tr>\n",
       "  </tbody>\n",
       "</table>\n",
       "</div>"
      ],
      "text/plain": [
       "                                   uuid  q1  q2  q3  q4  q5  q6\n",
       "0  24fb4e04-324b-4b4b-af2d-5bb7742f6792   1   2   1   4   1   1\n",
       "1  71a3ac08-7168-4d16-9e87-64dc0f48d543   1   2   1   4   1   1\n",
       "2  a21ce22c-1d12-4787-90bd-46d3732d291e   1   1   4   3   1   1\n",
       "3  bfea6c6f-8536-4df9-bedd-9f90a7a6d743   1   1   1   2   2   1"
      ]
     },
     "execution_count": 5,
     "metadata": {},
     "output_type": "execute_result"
    }
   ],
   "source": [
    "answers_d2_df = pd.read_csv(f'./raw_data/answers_d2.csv')\n",
    "answers_d2_df.head()"
   ]
  },
  {
   "cell_type": "markdown",
   "metadata": {
    "id": "R4Qafi09dYDZ"
   },
   "source": [
    "# Report by participant"
   ]
  },
  {
   "cell_type": "code",
   "execution_count": 6,
   "metadata": {
    "id": "Hhr-hipgsihi"
   },
   "outputs": [],
   "source": [
    "def print_demographic_info(_demographic_info):\n",
    "  # age_range\teducation_fields\teducation_level\temployment\temployment_fields\titalian_knowledge\n",
    "  print(\"AGE RANGE:\", _demographic_info['age_range'])\n",
    "  print(\"EDUCATION FIELDS:\", _demographic_info['education_fields'])\n",
    "  print(\"EDUCATION LEVEL:\", _demographic_info['education_level'])\n",
    "  print(\"EMPLOYMENT:\", _demographic_info['employment'])\n",
    "  print(\"EMPLOYMENT FIELDS:\", _demographic_info['employment_fields'])\n",
    "\n",
    "\n",
    "def print_answers(_answers):\n",
    "  print('q1\\tq2\\tq3\\tq4\\tq5\\tq6')\n",
    "  print(f\"{_answers['q1']}\\t{_answers['q2']}\\t{_answers['q3']}\\t{_answers['q4']}\\t{_answers['q5']}\\t{_answers['q6']}\")"
   ]
  },
  {
   "cell_type": "code",
   "execution_count": 7,
   "metadata": {
    "colab": {
     "base_uri": "https://localhost:8080/"
    },
    "executionInfo": {
     "elapsed": 517,
     "status": "ok",
     "timestamp": 1719476245177,
     "user": {
      "displayName": "Marco Russodivito",
      "userId": "05013084347772678948"
     },
     "user_tz": -120
    },
    "id": "vtFkrWr6dUu5",
    "outputId": "9b089a18-3c20-4de9-a8c6-2b7501ddf967"
   },
   "outputs": [
    {
     "name": "stdout",
     "output_type": "stream",
     "text": [
      "ID cGlsb3RfcGFydGVjaXBhbnRlXzE=\n",
      "GROUP: C\n",
      "START DATE: 2024-06-26 19:46:50.921525\n",
      "END DATE: 2024-06-26 20:02:24.076258\n",
      "DURATION: 15.552578883333332\n",
      "\n",
      "AGE RANGE: 25-34\n",
      "EDUCATION FIELDS: ENGINEERING\n",
      "EDUCATION LEVEL: PHD\n",
      "EMPLOYMENT: EMPLOYEE\n",
      "EMPLOYMENT FIELDS: IT\n",
      "\n",
      "D2 Originale\n",
      "q1\tq2\tq3\tq4\tq5\tq6\n",
      "1\t2\t1\t4\t1\t1\n",
      "D1 Semplificato\n",
      "q1\tq2\tq3\tq4\tq5\tq6\n",
      "1\t1\t1\t1\t1\t1\n",
      "==============\n",
      "ID cGlsb3RfcGFydGVjaXBhbnRlXzI=\n",
      "GROUP: D\n",
      "START DATE: 2024-06-26 19:47:07.712534\n",
      "END DATE: 2024-06-26 19:59:43.827209\n",
      "DURATION: 12.60191125\n",
      "\n",
      "AGE RANGE: 18-24\n",
      "EDUCATION FIELDS: ENGINEERING\n",
      "EDUCATION LEVEL: MASTER\n",
      "EMPLOYMENT: STUDENT\n",
      "EMPLOYMENT FIELDS: IT\n",
      "\n",
      "D2 Semplificato\n",
      "q1\tq2\tq3\tq4\tq5\tq6\n",
      "1\t2\t1\t4\t1\t1\n",
      "D1 Originale\n",
      "q1\tq2\tq3\tq4\tq5\tq6\n",
      "1\t1\t1\t1\t1\t1\n",
      "==============\n",
      "ID cGlsb3RfcGFydGVjaXBhbnRlXzM=\n",
      "GROUP: A\n",
      "START DATE: 2024-06-26 19:45:54.642664\n",
      "END DATE: 2024-06-26 20:18:29.838274\n",
      "DURATION: 32.5865935\n",
      "\n",
      "AGE RANGE: 25-34\n",
      "EDUCATION FIELDS: ENGINEERING\n",
      "EDUCATION LEVEL: MASTER\n",
      "EMPLOYMENT: EMPLOYEE\n",
      "EMPLOYMENT FIELDS: IT\n",
      "\n",
      "D1 Originale\n",
      "q1\tq2\tq3\tq4\tq5\tq6\n",
      "1\t1\t1\t1\t1\t1\n",
      "D2 Semplificato\n",
      "q1\tq2\tq3\tq4\tq5\tq6\n",
      "1\t1\t1\t2\t2\t1\n",
      "==============\n",
      "ID cGlsb3RfcGFydGVjaXBhbnRlXzQ=\n",
      "GROUP: B\n",
      "START DATE: 2024-06-26 19:46:49.587677\n",
      "END DATE: 2024-06-26 20:07:57.630823\n",
      "DURATION: 21.134052433333334\n",
      "\n",
      "AGE RANGE: 25-34\n",
      "EDUCATION FIELDS: ENGINEERING\n",
      "EDUCATION LEVEL: MASTER\n",
      "EMPLOYMENT: EMPLOYEE\n",
      "EMPLOYMENT FIELDS: IT\n",
      "\n",
      "D1 Semplificato\n",
      "q1\tq2\tq3\tq4\tq5\tq6\n",
      "1\t1\t1\t1\t1\t1\n",
      "D2 Originale\n",
      "q1\tq2\tq3\tq4\tq5\tq6\n",
      "1\t1\t4\t3\t1\t1\n",
      "==============\n"
     ]
    }
   ],
   "source": [
    "for participant in participant_df.to_dict(orient='records'):\n",
    "  id = participant['id']\n",
    "  group = participant['participant_group']\n",
    "  start_date = datetime.datetime.strptime(participant['creation_date'], \"%Y-%m-%d %H:%M:%S.%f\")\n",
    "  end_date = datetime.datetime.strptime(participant['submission_date'], \"%Y-%m-%d %H:%M:%S.%f\")\n",
    "  duration = (end_date - start_date).total_seconds() / 60.0\n",
    "\n",
    "  print(\"ID\", id)\n",
    "  print(\"GROUP:\", group)\n",
    "  print(\"START DATE:\", start_date)\n",
    "  print(\"END DATE:\", end_date)\n",
    "  print(\"DURATION:\", duration)\n",
    "\n",
    "  print('')\n",
    "  demographic_info = demographic_info_df[demographic_info_df['uuid'] == participant['demographic_info']].to_dict(orient='records')[0]\n",
    "  print_demographic_info(demographic_info)\n",
    "\n",
    "  print('')\n",
    "  answers_d1 = answers_d1_df[answers_d1_df['uuid'] == participant['answers_d1']].to_dict(orient='records')[0]\n",
    "  answers_d2 = answers_d2_df[answers_d2_df['uuid'] == participant['answers_d2']].to_dict(orient='records')[0]\n",
    "  if group == 'A':\n",
    "    print('D1 Originale')\n",
    "    print_answers(answers_d1)\n",
    "    print('D2 Semplificato')\n",
    "    print_answers(answers_d2)\n",
    "  elif group == 'B':\n",
    "    print('D1 Semplificato')\n",
    "    print_answers(answers_d1)\n",
    "    print('D2 Originale')\n",
    "    print_answers(answers_d2)\n",
    "  elif group == 'C':\n",
    "    print('D2 Originale')\n",
    "    print_answers(answers_d2)\n",
    "    print('D1 Semplificato')\n",
    "    print_answers(answers_d1)\n",
    "  elif group == 'D':\n",
    "    print('D2 Semplificato')\n",
    "    print_answers(answers_d2)\n",
    "    print('D1 Originale')\n",
    "    print_answers(answers_d1)\n",
    "  print('==============')"
   ]
  }
 ],
 "metadata": {
  "colab": {
   "authorship_tag": "ABX9TyMbdUCcX9AqvvbTNvCnh87b",
   "provenance": []
  },
  "kernelspec": {
   "display_name": ".venv",
   "language": "python",
   "name": "python3"
  },
  "language_info": {
   "codemirror_mode": {
    "name": "ipython",
    "version": 3
   },
   "file_extension": ".py",
   "mimetype": "text/x-python",
   "name": "python",
   "nbconvert_exporter": "python",
   "pygments_lexer": "ipython3",
   "version": "3.12.2"
  }
 },
 "nbformat": 4,
 "nbformat_minor": 0
}
