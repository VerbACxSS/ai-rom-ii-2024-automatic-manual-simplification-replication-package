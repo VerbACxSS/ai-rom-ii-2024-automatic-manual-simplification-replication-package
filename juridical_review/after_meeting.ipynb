{
 "cells": [
  {
   "cell_type": "markdown",
   "metadata": {
    "id": "S2MGQ75DtJIe"
   },
   "source": [
    "# Setup"
   ]
  },
  {
   "cell_type": "code",
   "execution_count": 1,
   "metadata": {
    "executionInfo": {
     "elapsed": 840,
     "status": "ok",
     "timestamp": 1720432206880,
     "user": {
      "displayName": "Marco Russodivito",
      "userId": "05013084347772678948"
     },
     "user_tz": -120
    },
    "id": "wXKVXLHJGbHf"
   },
   "outputs": [],
   "source": [
    "import pandas as pd\n",
    "from matplotlib import pyplot as plt"
   ]
  },
  {
   "cell_type": "markdown",
   "metadata": {
    "id": "CNQpfQidwE4Z"
   },
   "source": [
    "# Utils"
   ]
  },
  {
   "cell_type": "code",
   "execution_count": 2,
   "metadata": {
    "executionInfo": {
     "elapsed": 1,
     "status": "ok",
     "timestamp": 1720432396883,
     "user": {
      "displayName": "Marco Russodivito",
      "userId": "05013084347772678948"
     },
     "user_tz": -120
    },
    "id": "JoBq9lyXwGDh"
   },
   "outputs": [],
   "source": [
    "def add_labels(ax, offset=0, color='black', fontsize=10):\n",
    "  for container in ax.containers:\n",
    "    for bar in container:\n",
    "      height = bar.get_height()\n",
    "      if height == 0:\n",
    "        continue\n",
    "      ax.text(\n",
    "        bar.get_x() + bar.get_width() / 2.,\n",
    "        height + offset,\n",
    "        f'{int(height)}',\n",
    "        ha='center',\n",
    "        color=color,\n",
    "        fontsize=fontsize\n",
    "      )"
   ]
  },
  {
   "cell_type": "markdown",
   "metadata": {
    "id": "ZuFVOgxntODD"
   },
   "source": [
    "# Load data"
   ]
  },
  {
   "cell_type": "code",
   "execution_count": 3,
   "metadata": {
    "colab": {
     "base_uri": "https://localhost:8080/",
     "height": 379
    },
    "executionInfo": {
     "elapsed": 1023,
     "status": "ok",
     "timestamp": 1720432246749,
     "user": {
      "displayName": "Marco Russodivito",
      "userId": "05013084347772678948"
     },
     "user_tz": -120
    },
    "id": "Wgvgpg2uHF5U",
    "outputId": "121b729c-9c3a-4d92-8a8e-f2c4ba843228"
   },
   "outputs": [
    {
     "data": {
      "text/html": [
       "<div>\n",
       "<style scoped>\n",
       "    .dataframe tbody tr th:only-of-type {\n",
       "        vertical-align: middle;\n",
       "    }\n",
       "\n",
       "    .dataframe tbody tr th {\n",
       "        vertical-align: top;\n",
       "    }\n",
       "\n",
       "    .dataframe thead th {\n",
       "        text-align: right;\n",
       "    }\n",
       "</style>\n",
       "<table border=\"1\" class=\"dataframe\">\n",
       "  <thead>\n",
       "    <tr style=\"text-align: right;\">\n",
       "      <th></th>\n",
       "      <th>document</th>\n",
       "      <th>paragraph_index</th>\n",
       "      <th>original_text</th>\n",
       "      <th>simplified_text</th>\n",
       "      <th>q1</th>\n",
       "      <th>q2</th>\n",
       "      <th>q3</th>\n",
       "      <th>q3_1</th>\n",
       "      <th>q4</th>\n",
       "      <th>q5</th>\n",
       "    </tr>\n",
       "  </thead>\n",
       "  <tbody>\n",
       "    <tr>\n",
       "      <th>0</th>\n",
       "      <td>99bdc9fdd8097f067f77cb220074b1b5</td>\n",
       "      <td>1</td>\n",
       "      <td>Le presenti Linee programmatiche definiscono g...</td>\n",
       "      <td>Questo documento stabilisce le direzioni princ...</td>\n",
       "      <td>True</td>\n",
       "      <td>False</td>\n",
       "      <td>False</td>\n",
       "      <td>NaN</td>\n",
       "      <td>False</td>\n",
       "      <td>Mantenere gli acronimi delle strutture potrebb...</td>\n",
       "    </tr>\n",
       "    <tr>\n",
       "      <th>1</th>\n",
       "      <td>99bdc9fdd8097f067f77cb220074b1b5</td>\n",
       "      <td>2</td>\n",
       "      <td>La situazione demografica, sanitaria, socio-ec...</td>\n",
       "      <td>La situazione in Basilicata, come in tutto il ...</td>\n",
       "      <td>True</td>\n",
       "      <td>False</td>\n",
       "      <td>False</td>\n",
       "      <td>NaN</td>\n",
       "      <td>False</td>\n",
       "      <td>NaN</td>\n",
       "    </tr>\n",
       "    <tr>\n",
       "      <th>2</th>\n",
       "      <td>99bdc9fdd8097f067f77cb220074b1b5</td>\n",
       "      <td>3</td>\n",
       "      <td>L'analisi di contesto della popolazione reside...</td>\n",
       "      <td>L'analisi della popolazione che vive in Basili...</td>\n",
       "      <td>True</td>\n",
       "      <td>False</td>\n",
       "      <td>False</td>\n",
       "      <td>NaN</td>\n",
       "      <td>False</td>\n",
       "      <td>\"percentuale uguale\" non è propriamente sinoni...</td>\n",
       "    </tr>\n",
       "    <tr>\n",
       "      <th>3</th>\n",
       "      <td>99bdc9fdd8097f067f77cb220074b1b5</td>\n",
       "      <td>4</td>\n",
       "      <td>La Basilicata ha una superficie di 10.073 kmq ...</td>\n",
       "      <td>La Basilicata copre un'area di 10.073 km² e ha...</td>\n",
       "      <td>True</td>\n",
       "      <td>False</td>\n",
       "      <td>False</td>\n",
       "      <td>NaN</td>\n",
       "      <td>False</td>\n",
       "      <td>Anche in questo caso il linguaggio \"semplifica...</td>\n",
       "    </tr>\n",
       "    <tr>\n",
       "      <th>4</th>\n",
       "      <td>99bdc9fdd8097f067f77cb220074b1b5</td>\n",
       "      <td>5</td>\n",
       "      <td>Molto interessante è l'aspetto della tendenza ...</td>\n",
       "      <td>Negli ultimi 70 anni, alcune aree del territor...</td>\n",
       "      <td>True</td>\n",
       "      <td>False</td>\n",
       "      <td>False</td>\n",
       "      <td>NaN</td>\n",
       "      <td>False</td>\n",
       "      <td>NaN</td>\n",
       "    </tr>\n",
       "  </tbody>\n",
       "</table>\n",
       "</div>"
      ],
      "text/plain": [
       "                           document  paragraph_index  \\\n",
       "0  99bdc9fdd8097f067f77cb220074b1b5                1   \n",
       "1  99bdc9fdd8097f067f77cb220074b1b5                2   \n",
       "2  99bdc9fdd8097f067f77cb220074b1b5                3   \n",
       "3  99bdc9fdd8097f067f77cb220074b1b5                4   \n",
       "4  99bdc9fdd8097f067f77cb220074b1b5                5   \n",
       "\n",
       "                                       original_text  \\\n",
       "0  Le presenti Linee programmatiche definiscono g...   \n",
       "1  La situazione demografica, sanitaria, socio-ec...   \n",
       "2  L'analisi di contesto della popolazione reside...   \n",
       "3  La Basilicata ha una superficie di 10.073 kmq ...   \n",
       "4  Molto interessante è l'aspetto della tendenza ...   \n",
       "\n",
       "                                     simplified_text    q1     q2     q3 q3_1  \\\n",
       "0  Questo documento stabilisce le direzioni princ...  True  False  False  NaN   \n",
       "1  La situazione in Basilicata, come in tutto il ...  True  False  False  NaN   \n",
       "2  L'analisi della popolazione che vive in Basili...  True  False  False  NaN   \n",
       "3  La Basilicata copre un'area di 10.073 km² e ha...  True  False  False  NaN   \n",
       "4  Negli ultimi 70 anni, alcune aree del territor...  True  False  False  NaN   \n",
       "\n",
       "      q4                                                 q5  \n",
       "0  False  Mantenere gli acronimi delle strutture potrebb...  \n",
       "1  False                                                NaN  \n",
       "2  False  \"percentuale uguale\" non è propriamente sinoni...  \n",
       "3  False  Anche in questo caso il linguaggio \"semplifica...  \n",
       "4  False                                                NaN  "
      ]
     },
     "execution_count": 3,
     "metadata": {},
     "output_type": "execute_result"
    }
   ],
   "source": [
    "final_df = pd.read_csv(f\"./after_meeting.csv\", encoding='utf-8')\n",
    "final_df.head()"
   ]
  },
  {
   "cell_type": "markdown",
   "metadata": {
    "id": "8oxxluIlLC7d"
   },
   "source": [
    "# Q1 - Sono presenti tutte le informazioni essenziali?"
   ]
  },
  {
   "cell_type": "code",
   "execution_count": 4,
   "metadata": {
    "colab": {
     "base_uri": "https://localhost:8080/",
     "height": 479
    },
    "executionInfo": {
     "elapsed": 747,
     "status": "ok",
     "timestamp": 1720434960057,
     "user": {
      "displayName": "Marco Russodivito",
      "userId": "05013084347772678948"
     },
     "user_tz": -120
    },
    "id": "qeRTW8wWJZzQ",
    "outputId": "3a4b51ad-d0e1-4ecc-9f5a-7de25139f105"
   },
   "outputs": [
    {
     "data": {
      "image/png": "[encoded data removed]",
      "text/plain": [
       "<Figure size 1500x500 with 2 Axes>"
      ]
     },
     "metadata": {},
     "output_type": "display_data"
    }
   ],
   "source": [
    "fig, axs = plt.subplots(1, 2, figsize=(15, 5))\n",
    "fig.suptitle('Q1 - Sono presenti tutte le informazioni essenziali?')\n",
    "\n",
    "df1 = final_df[final_df['paragraph_index'] <= 30]['q1'].map({True: 'Si', False: 'No'})\n",
    "df2 = final_df[final_df['paragraph_index'] > 30]['q1'].map({True: 'Si', False: 'No'})\n",
    "\n",
    "df1.value_counts().sort_index().plot(kind=\"bar\", ax=axs[0])\n",
    "df2.value_counts().sort_index().plot(kind=\"bar\", ax=axs[1])\n",
    "\n",
    "add_labels(axs[0], offset=0.2)\n",
    "add_labels(axs[1], offset=0.2)\n",
    "\n",
    "axs[0].set_title('Biased (1 - 30)')\n",
    "axs[1].set_title('Unbiased (31 - 60)')\n",
    "\n",
    "axs[0].set_xlabel('')\n",
    "axs[1].set_xlabel('')\n",
    "\n",
    "plt.show()"
   ]
  },
  {
   "cell_type": "markdown",
   "metadata": {
    "id": "3snG2TjBLN6R"
   },
   "source": [
    "# Q2 - Sono presenti parti/informazioni superflue che sono state eliminate?"
   ]
  },
  {
   "cell_type": "code",
   "execution_count": 5,
   "metadata": {
    "colab": {
     "base_uri": "https://localhost:8080/",
     "height": 479
    },
    "executionInfo": {
     "elapsed": 793,
     "status": "ok",
     "timestamp": 1720434968341,
     "user": {
      "displayName": "Marco Russodivito",
      "userId": "05013084347772678948"
     },
     "user_tz": -120
    },
    "id": "KvlxcYhwLLnA",
    "outputId": "c63f5d12-0bbd-4ca3-e2ef-4a9ca075eee4"
   },
   "outputs": [
    {
     "data": {
      "image/png": "[encoded data removed]",
      "text/plain": [
       "<Figure size 1500x500 with 2 Axes>"
      ]
     },
     "metadata": {},
     "output_type": "display_data"
    }
   ],
   "source": [
    "fig, axs = plt.subplots(1, 2, figsize=(15, 5))\n",
    "fig.suptitle('Q2 - Sono presenti parti/informazioni superflue che sono state eliminate?')\n",
    "\n",
    "df1 = final_df[final_df['paragraph_index'] <= 30]['q2'].map({True: 'Si', False: 'No'})\n",
    "df2 = final_df[final_df['paragraph_index'] > 30]['q2'].map({True: 'Si', False: 'No'})\n",
    "\n",
    "df1.value_counts().sort_index().plot(kind=\"bar\", ax=axs[0])\n",
    "df2.value_counts().sort_index().plot(kind=\"bar\", ax=axs[1])\n",
    "\n",
    "add_labels(axs[0], offset=0.2)\n",
    "add_labels(axs[1], offset=0.2)\n",
    "\n",
    "axs[0].set_title('Biased (1 - 30)')\n",
    "axs[1].set_title('Unbiased (31 - 60)')\n",
    "\n",
    "axs[0].set_xlabel('')\n",
    "axs[1].set_xlabel('')\n",
    "\n",
    "plt.show()"
   ]
  },
  {
   "cell_type": "markdown",
   "metadata": {
    "id": "t-mlpiJOLX7W"
   },
   "source": [
    "# Q3 - Sono presenti parole (tecnicismi) con effetto giuridico che sono state cancellate creando problematicità al testo semplificato?"
   ]
  },
  {
   "cell_type": "code",
   "execution_count": 6,
   "metadata": {
    "colab": {
     "base_uri": "https://localhost:8080/",
     "height": 479
    },
    "executionInfo": {
     "elapsed": 1167,
     "status": "ok",
     "timestamp": 1720435158150,
     "user": {
      "displayName": "Marco Russodivito",
      "userId": "05013084347772678948"
     },
     "user_tz": -120
    },
    "id": "nshobL4iLdco",
    "outputId": "5d98aa0d-23dc-4c3a-ed09-31cd78631e05"
   },
   "outputs": [
    {
     "data": {
      "image/png": "[encoded data removed]",
      "text/plain": [
       "<Figure size 1500x500 with 2 Axes>"
      ]
     },
     "metadata": {},
     "output_type": "display_data"
    }
   ],
   "source": [
    "fig, axs = plt.subplots(1, 2, figsize=(15, 5))\n",
    "fig.suptitle('Q3 - Sono presenti parole (tecnicismi) con effetto giuridico che sono state cancellate creando problematicità al testo semplificato?')\n",
    "\n",
    "df1 = final_df[final_df['paragraph_index'] <= 30]['q3'].map({True: 'Si', False: 'No'})\n",
    "df2 = final_df[final_df['paragraph_index'] > 30]['q3'].map({True: 'Si', False: 'No'})\n",
    "\n",
    "df1.value_counts().sort_index().plot(kind=\"bar\", ax=axs[0])\n",
    "df2.value_counts().sort_index().plot(kind=\"bar\", ax=axs[1])\n",
    "\n",
    "add_labels(axs[0], offset=0.2)\n",
    "add_labels(axs[1], offset=0.2)\n",
    "\n",
    "axs[0].set_title('Biased (1 - 30)')\n",
    "axs[1].set_title('Unbiased (31 - 60)')\n",
    "\n",
    "axs[0].set_xlabel('')\n",
    "axs[1].set_xlabel('')\n",
    "\n",
    "plt.show()"
   ]
  },
  {
   "cell_type": "markdown",
   "metadata": {
    "id": "52EK3FTlxrzX"
   },
   "source": [
    "# Q3.1"
   ]
  },
  {
   "cell_type": "markdown",
   "metadata": {
    "id": "DGQE0h7rxrzZ"
   },
   "source": [
    "r1"
   ]
  },
  {
   "cell_type": "code",
   "execution_count": 7,
   "metadata": {
    "colab": {
     "base_uri": "https://localhost:8080/"
    },
    "executionInfo": {
     "elapsed": 275,
     "status": "ok",
     "timestamp": 1720432463930,
     "user": {
      "displayName": "Marco Russodivito",
      "userId": "05013084347772678948"
     },
     "user_tz": -120
    },
    "id": "mkyYieqTxrzZ",
    "outputId": "279ee42b-e996-453d-b0b3-7e7d3a1f727a"
   },
   "outputs": [
    {
     "name": "stdout",
     "output_type": "stream",
     "text": [
      "====== 9 ======\n",
      "Si rende necessario adeguare il livello dell'Assistenza Distrettuale, come definito dal Capo III, art. 3-20, del DPCM LEA 12 gennaio 2017e dal Decreto 23 maggio 2022, n. 77 art. 1 allegato 1 e allegato 2 prescrittivo. \n",
      "-------------\n",
      "È necessario migliorare il livello dell'Assistenza Distrettuale secondo quanto stabilito dal Capo III, articoli 3-20, del DPCM LEA del 12 gennaio 2017 e dal Decreto del 23 maggio 2022, numero 77, articolo 1, allegato 1 e allegato 2.\n",
      "-------------\n",
      "avrei lasciato l'aggettivo prescritto in riferimento all'allegato 2 della norma indicata perché distingue l'allegato 1 che, al contrario, ha natura descrittiva.\n",
      "\n",
      "====== 11 ======\n",
      "Per il raggiungimento delle finalità sopra richiamate sono stati individuati i quattro obiettivi strategici di seguito elencati:\n",
      "- Garantire e stimolare il miglioramento continuo della qualità dell'assistenza\n",
      "- Favorire la prossimità e l'appropriatezza\n",
      "- Valorizzare il governo del rischio clinico\n",
      "- Assicurare l'equità e promuovere la partecipazione dei pazienti, familiari, cittadini e delle loro organizzazioni rappresentative\n",
      "-------------\n",
      "Per raggiungere gli scopi menzionati, abbiamo definito quattro obiettivi principali:\n",
      "- Migliorare costantemente la qualità dell'assistenza e stimolarne il progresso.\n",
      "- Promuovere servizi sanitari più vicini e appropriati alle esigenze delle persone.\n",
      "- Migliorare la gestione dei rischi clinici.\n",
      "- Garantire l'equità e incentivare la partecipazione di pazienti, familiari, cittadini e delle loro associazioni rappresentative.\n",
      "-------------\n",
      "Appropriatezza della prestazione sanitaria è un principio ben definito dalle norme e dalla giurisprudenza, in questo caso, andrebbe lasciato da solo, come nella versione originaria perché non riferito alle esigenze, ma alla specifica nozione di \"appropriatezza della prestazione\". Dubbi anche sulla modifica di \"governo del rischio clinico\", espressione già ambigua nel testo di partenza, ma che anche in quello semplificato genera perplessità: il governo clinico e il rischio clinico sono elementi basilari dei LEA, sottendono un modello organizzativo ben definito.\n",
      "\n",
      "====== 12 ======\n",
      "La componente sanitaria deve operare in stretto raccordo con la componente sociale, al fine di garantire in maniera integrata e coordinata le prestazioni sociosanitarie, siano queste a rilevanza sanitaria o sociale, come ribadito anche dal Piano Sociale Nazionale 2021-2023 predisposto in attuazione dell'art. 21 del D.Lgs. 147/2017che rimarca l'importanza che l'integrazione avvenga già dalla fase programmatoria, in quanto è necessario dare risposte \"opportune al cittadino senza che esso venga rinviato a competenze di altri enti e livelli istituzionali\". \n",
      "-------------\n",
      "Il settore della salute deve lavorare insieme a quello sociale per offrire servizi integrati e coordinati, sia che si tratti di assistenza sanitaria o sociale. Questo approccio è sottolineato anche dal Piano Sociale Nazionale 2021-2023, che segue l'articolo 21 del Decreto Legislativo 147/2017. Il Piano evidenzia l'importanza di iniziare questa integrazione già nella fase di pianificazione, per fornire risposte adeguate ai cittadini senza rimandarli ad altri enti o livelli istituzionali.\n",
      "-------------\n",
      "a voler essere rigorosi, \"fase programmatoria\" e \"fase di pianificazione\" sono tecnicamente distinte. || la locuzione \"Piano Sociale Nazionale 2021-2023, che segue l'articolo 21 del Decreto Legislativo 147/2017\" non è corretta in quanto il PSS 21-23 ha la propria fonte nell'art. 21 del D.Lgs 147/2017. Sarebbe, a mio parere, corretto scrivere \"Piano Sociale Nazionale 2021-2023, elaborato in attuazione dell'articolo 21 del Decreto Legislativo 147/2017\n",
      "\n",
      "====== 15 ======\n",
      "L'integrazione sociosanitaria va attuata e verificata, salvaguardando la specificità di ciascuna professionalità coinvolta, a tre livelli:\n",
      "- istituzionale: Si realizza attraverso la collaborazione tra istituzioni sociali e sanitarie per la definizione di scelte programmatorie volte a realizzare comuni obiettivi di salute;\n",
      "- gestionale: È relativa alle modalità di gestione che possono promuovere e facilitare percorsi di continuità assistenziale, rispondendo in modo esaustivo e in senso multidimensionale al bisogno complesso di salute;\n",
      "- professionale: Si realizza nella collaborazione tra diverse culture professionali nella gestione del sistema dell'offerta, attraverso l'unitarietà di protocolli degli interventi\n",
      "-------------\n",
      "L'integrazione sociosanitaria deve essere realizzata e controllata, rispettando le caratteristiche di ogni professione coinvolta, su tre livelli:\n",
      "\n",
      "- Istituzionale: Questo livello si basa sulla collaborazione tra enti sociali e sanitari per stabilire piani comuni che mirano a raggiungere obiettivi di salute condivisi.\n",
      "- Gestionale: Riguarda le strategie di gestione che aiutano a creare un servizio continuo e completo, rispondendo in modo efficace e completo alle complesse necessità di salute.\n",
      "- Professionale: Si verifica quando diverse professioni lavorano insieme per gestire l'offerta di servizi, unendo i protocolli di intervento.\n",
      "\n",
      "In ogni livello, è fondamentale mantenere una stretta collaborazione tra i diversi settori per garantire un servizio efficace e integrato.\n",
      "-------------\n",
      "testo semplificato: \"Gestionale: [...] servizio continuo e completo...\"; testo originale: \"[...]percorsi di continuità assistenziale\" il significato di continuità assistenziale è diverso da servizio continuo e completo. || il servizio di continuità assistenziale è specifico e indica figure professionali precise (le ex guardie mediche). Semplificando, non si comprende se questo servizio verrà garantito o meno \n",
      "\n",
      "====== 26 ======\n",
      "La Componente 1, in particolare, ha l'obiettivo di rafforzare le prestazioni erogate sul territorio grazie all'attivazione e al potenziamento di strutture e presidi territoriali (come le Case della Comunità e gli Ospedali di Comunità), migliorare l'assistenza domiciliare, lo sviluppo della telemedicina e una più efficace integrazione con tutti i servizi sociosanitari. Tali strutture vengono puntualmente definite nel PNRR:\n",
      "- la Casa della Comunità come \"lo strumento attraverso cui coordinare tutti i servizi offerti, in particolare ai malati cronici\", una struttura dove \"opererà un team multidisciplinare di medici di medicina generale, pediatri di libera scelta, medici specialistici, infermieri di comunità, altri professionisti della salute\" e che \"potrà ospitare anche assistenti sociali\", \"ha il fine di garantire la promozione, la prevenzione della salute e la presa in carico della comunità di riferimento\";\n",
      "- le Centrali Operative Territoriali (COT) \"una in ogni distretto, con la funzione di coordinare i servizi domiciliari con gli altri servizi sanitari, assicurando l'interfaccia con gli ospedali e la rete di emergenza-urgenza\";\n",
      "- l'Ospedale di Comunità quale \"struttura sanitaria della rete territoriale a ricovero breve e destinata a pazienti che necessitano di interventi sanitari a media/bassa intensità clinica e per degenze di breve durata\", dotata di moduli da indicativamente 20 posti letto (fino ad un massimo di 40 posti letto) e a gestione prevalentemente infermieristica\n",
      "-------------\n",
      "La Componente 1 mira a migliorare i servizi sanitari locali attraverso l'apertura e il rafforzamento di strutture come le Case della Comunità e gli Ospedali di Comunità. Questo obiettivo include anche il potenziamento dell'assistenza a domicilio, lo sviluppo della telemedicina e una migliore integrazione con i servizi sociosanitari.\n",
      "\n",
      "Le Case della Comunità coordinano tutti i servizi per i pazienti, soprattutto quelli con malattie croniche. In queste strutture lavorano team di medici di base, pediatri, specialisti, infermieri di comunità e altri professionisti della salute. Possono anche includere assistenti sociali. Il loro scopo è promuovere la salute, prevenirla e prendersi cura della comunità.\n",
      "\n",
      "Le Centrali Operative Territoriali (COT), una per distretto, coordinano i servizi a domicilio con altri servizi sanitari. Assicurano la connessione con gli ospedali e la rete di emergenza.\n",
      "\n",
      "Gli Ospedali di Comunità sono strutture sanitarie locali per pazienti che necessitano di cure di media o bassa intensità per brevi periodi. Questi ospedali hanno circa 20 posti letto, ma possono arrivare fino a 40, e sono gestiti principalmente da personale infermieristico.\n",
      "-------------\n",
      "Emergenza e urgenza sono non sono due sinonimi, ma termini che indicano giuridicamente e sanitariamente situazioni differenti, tanto che è possibile, in emergenza, garantirne solo una delle due. Nella semplificazione non è possibile elidere \"urgenza\" o renderlo sinonimo di emergenza\n",
      "\n",
      "====== 28 ======\n",
      "In merito la recente legge 30 dicembre 2021, n. 234 (Bilancio di previsione dello Stato per l'anno finanziario 2022 e bilancio pluriennale per il triennio 2022-2024) all'art. 1, comma 269, è intervenuta operando modifiche al testo vigente del decreto-legge 30 aprile 2019, n. 35 (c.d. decreto \"Calabria\") che fissa attualmente i limiti della spesa per il personale. L'intervento operato con la legge n. 234/2021 ha operato la stabilizzazione per ogni anno, dal 2019 in poi, della quota ordinaria di possibile aumento della spesa del personale fissata nel 10 per cento dell'incremento annuale del Fondo sanitario regionale rispetto all'esercizio precedente (fermo rimanendo il limite iniziale fissato nel maggior importo di spesa del personale tra quello registrato nell'anno 2018 e quello determinato dall'applicazione della legge n. 191/2009). \n",
      "-------------\n",
      "La legge del 30 dicembre 2021, numero 234, ha modificato il decreto-legge del 30 aprile 2019, numero 35, noto come decreto \"Calabria\". Questo decreto stabilisce i limiti di spesa per il personale. Con la nuova legge, ogni anno a partire dal 2019, la spesa ordinaria per il personale può aumentare fino al 10% dell'incremento annuale del Fondo sanitario regionale rispetto all'anno precedente. Questo aumento non può superare l'importo maggiore tra la spesa del personale del 2018 e quella calcolata secondo la legge numero 191 del 2009.\n",
      "-------------\n",
      "viene omesso il richiamo all'art. 1 comma 269\n",
      "\n",
      "====== 29 ======\n",
      "La condizione per l'applicazione dall'anno 2022 di tale incremento - a cui aggiungersi, se necessario per oggettivi ulteriori fabbisogni, un ulteriore incremento massimo del 5 per cento sempre sull'incremento annuale del Fondo sanitario regionale – \"è subordinato all'adozione di una metodologia per la determinazione del fabbisogno di personale degli enti del Servizio sanitario nazionale. Le regioni, sulla base della predetta metodologia, predispongono il piano dei fabbisogni triennali per il servizio sanitario regionale, che sono valutati e approvati dal tavolo di verifica degli adempimenti di cui all'articolo 12, comma 1, dell'intesa 23 marzo 2005, congiuntamente al Comitato paritetico permanente per la verifica dell'erogazione dei livelli essenziali di assistenza (LEA) di cui all'articolo 9, comma 1, della medesima intesa, anche al fine di salvaguardare l'invarianza della spesa complessiva\". \n",
      "-------------\n",
      "Dal 2022, l'incremento del Fondo sanitario regionale può essere aumentato fino al 5% per rispondere a bisogni specifici. Questo aumento è possibile solo se si adotta una metodologia per calcolare il fabbisogno di personale del Servizio sanitario nazionale. Le regioni devono preparare un piano triennale dei fabbisogni del servizio sanitario, basato su questa metodologia. Questo piano viene poi valutato e approvato da un tavolo di verifica, insieme al Comitato paritetico permanente per i livelli essenziali di assistenza. Questo processo serve anche a garantire che la spesa totale non aumenti.\n",
      "-------------\n",
      "1) non viene indicato che l'aumento del 5% si calcola sull'incremento annuale del fondo; 2) viene omesso il richiamo all'intesa del 2005 che fonda le competenze del tavolo e del comitato\n",
      "\n",
      "====== 47 ======\n",
      "La proposta di riorganizzazione, è quella di un Distretto che abbia una \"governance\" forte, tesa a coordinare ed erogare prestazioni sanitarie territoriali rispondenti ai bisogni di salute di una popolazione sempre più anziana e portatrice di pluripatologie. Il Distretto deve realizzare una Committenza condivisa, nella quale, con l'assunzione di responsabilità del Direttore di Distretto, si declina la programmazione dei servizi, l'obiettivo di salute di popolazione, l'integrazione con gli Ambiti sociali, la relazione con il privato accreditato, l'onere di cura con l'area Ospedaliera e le AOR di riferimento, la definizione dei rapporti e delle modalità di partecipazione del volontariato. \n",
      "-------------\n",
      "La proposta riguarda la creazione di un Distretto con una gestione forte, mirata a coordinare e fornire servizi sanitari locali adeguati alle esigenze di una popolazione che sta invecchiando e che presenta molteplici malattie. Il Distretto deve stabilire una gestione condivisa, guidata dal Direttore di Distretto. Questo include la pianificazione dei servizi sanitari, il raggiungimento degli obiettivi di salute per la popolazione, la collaborazione con i servizi sociali, il rapporto con il settore privato accreditato, la gestione delle cure in collaborazione con gli ospedali e le Aziende Ospedaliere Regionali (AOR), e l'organizzazione del lavoro volontario.\n",
      "-------------\n",
      "Per cure territoriali si intende tutto l'insieme di cure che sono fuori dall'ospedale, anche in aree diverse da quelle in cui risiede il paziente (ad esempio sono le prestazioni ambulatoriali, quelle di continuità assistenziale, quelle domiciliari...); gli Ambiti sociali non sono l'equivalente dei servizi sociali, al massimo potrebbero essere \"tradotti\" con il termine \"socio-assistenziali\" \n",
      "\n"
     ]
    }
   ],
   "source": [
    "for a in final_df.dropna(subset='q3_1').to_dict(orient='records'):\n",
    "  print(f'====== {a[\"paragraph_index\"]} ======')\n",
    "  print(a['original_text'])\n",
    "  print('-------------')\n",
    "  print(a['simplified_text'])\n",
    "  print('-------------')\n",
    "  print(a['q3_1'])\n",
    "  print()"
   ]
  },
  {
   "cell_type": "markdown",
   "metadata": {
    "id": "mf9ZdSJELjaM"
   },
   "source": [
    "# Q4 - Sono stati introdotti errori interpretativi?"
   ]
  },
  {
   "cell_type": "code",
   "execution_count": 8,
   "metadata": {
    "colab": {
     "base_uri": "https://localhost:8080/",
     "height": 479
    },
    "executionInfo": {
     "elapsed": 1250,
     "status": "ok",
     "timestamp": 1720435163784,
     "user": {
      "displayName": "Marco Russodivito",
      "userId": "05013084347772678948"
     },
     "user_tz": -120
    },
    "id": "gGjseGimLi0I",
    "outputId": "229e8100-8b16-43f2-e5d3-6afc7617ec8d"
   },
   "outputs": [
    {
     "data": {
      "image/png": "[encoded data removed]",
      "text/plain": [
       "<Figure size 1500x500 with 2 Axes>"
      ]
     },
     "metadata": {},
     "output_type": "display_data"
    }
   ],
   "source": [
    "fig, axs = plt.subplots(1, 2, figsize=(15, 5))\n",
    "fig.suptitle('Q4 - Sono stati introdotti errori interpretativi?')\n",
    "\n",
    "df1 = final_df[final_df['paragraph_index'] <= 30]['q4'].map({True: 'Si', False: 'No'})\n",
    "df2 = final_df[final_df['paragraph_index'] > 30]['q4'].map({True: 'Si', False: 'No'})\n",
    "\n",
    "df1.value_counts().sort_index().plot(kind=\"bar\", ax=axs[0])\n",
    "df2.value_counts().sort_index().plot(kind=\"bar\", ax=axs[1])\n",
    "\n",
    "add_labels(axs[0], offset=0.2)\n",
    "add_labels(axs[1], offset=0.2)\n",
    "\n",
    "axs[0].set_title('Biased (1 - 30)')\n",
    "axs[1].set_title('Unbiased (31 - 60)')\n",
    "\n",
    "axs[0].set_xlabel('')\n",
    "axs[1].set_xlabel('')\n",
    "\n",
    "plt.show()"
   ]
  },
  {
   "cell_type": "markdown",
   "metadata": {
    "id": "0IJIdZDavCvF"
   },
   "source": [
    "# Q5"
   ]
  },
  {
   "cell_type": "code",
   "execution_count": 9,
   "metadata": {
    "colab": {
     "base_uri": "https://localhost:8080/"
    },
    "executionInfo": {
     "elapsed": 305,
     "status": "ok",
     "timestamp": 1720432495012,
     "user": {
      "displayName": "Marco Russodivito",
      "userId": "05013084347772678948"
     },
     "user_tz": -120
    },
    "id": "pW8BwwtwxilZ",
    "outputId": "47297449-743c-40da-e87b-c637ff6daed0"
   },
   "outputs": [
    {
     "name": "stdout",
     "output_type": "stream",
     "text": [
      "====== 1 ======\n",
      "Le presenti Linee programmatiche definiscono gli indirizzi per la programmazione regionale, stabilendo le linee di azione e organizzative prioritarie per il Sistema sanitario regionale attuazione della riforma territoriale ai sensi del DM 23 maggio 2022, n. 77. Tali linee programmatiche, che devono essere declinate nella programmazione attuativa aziendale non si intendono esaustive delle attività e dei servizi che devono essere garantiti in adempimento della normativa statale e regionale, ma indicano le priorità individuate dalla Regione. Il presente documento indirizza le funzionalità, i modelli organizzativi e di servizio, i mix di professionalità necessari per il concreto avvio delle Case di Comunità (CdC), Ospedali di Comunità (OdC), Centrali Operative Territoriali (COT), Infermiere di Famiglia e Comunità (IFeC), Assistenza Domiciliare Integrata (ADI) e tutte le altre componenti rilevanti per lo sviluppo dei servizi territoriali per promuovere la prevenzione primaria, migliorare l'accessibilità, in modo particolare quelli affetti da patologie croniche e dell'area della fragilità, in coerenza anche con le previsioni del PNRR, dell'evoluzione dell'ecosistema digitale e del modello di governance dell'area della fragilità e della cronicità realizzando un quadro organico ed armonico di evoluzione del Sistema Socio Sanitario Regionale SSSR. \n",
      "-------------\n",
      "Questo documento stabilisce le direzioni principali per la programmazione sanitaria regionale, seguendo il Decreto Ministeriale del 23 maggio 2022, n. 77. Le linee guida qui presentate non coprono tutte le attività e i servizi richiesti dalle leggi statali e regionali, ma indicano le priorità scelte dalla Regione.\n",
      "\n",
      "Il documento guida l'organizzazione e il funzionamento delle nuove strutture e servizi sanitari, come le Case di Comunità, gli Ospedali di Comunità, le Centrali Operative Territoriali, gli Infermieri di Famiglia e Comunità, e l'Assistenza Domiciliare Integrata. Queste strutture sono essenziali per migliorare la prevenzione delle malattie, aumentare l'accesso ai servizi sanitari, soprattutto per chi soffre di malattie croniche o è in condizioni di fragilità. Il documento si allinea anche con le strategie del PNRR e con lo sviluppo digitale, per creare un sistema sanitario regionale più coordinato e efficace.\n",
      "-------------\n",
      "Mantenere gli acronimi delle strutture potrebbe essere utile per il cittadino, visto che spesso tali enti sono riconosciuti per sigla  ||  il linguaggio utilizzato non è giuridico però risulta molti più chiaro ed accessibile al semplice cittadino\n",
      "\n",
      "====== 3 ======\n",
      "L'analisi di contesto della popolazione residente in Basilicata evidenzia come la popolazione anziana (over 65) rappresenti il 23% della popolazione totale nella Regione, percentuale in linea con la media nazionale \n",
      "-------------\n",
      "L'analisi della popolazione che vive in Basilicata mostra che il 23% dei residenti ha più di 65 anni. Questa percentuale è uguale alla media nazionale.\n",
      "-------------\n",
      "\"percentuale uguale\" non è propriamente sinonimo di \"percentuale in linea\"\n",
      "\n",
      "====== 4 ======\n",
      "La Basilicata ha una superficie di 10.073 kmq con 553.254 abitanti (2019) distribuiti su 131 Comuni, per una densità pari a 54,92 abitanti per kmq. di gran lunga inferiore alla densità media nazionale che è 200 abitanti per kmq. L'età media è 45,7 anni contro i 45, dell'Italia. Il confronto con i dati del Censimento 2011 evidenzia un progressivo invecchiamento della popolazione, con ritmi superiori alla media nazionale. Tutte le classi di età sotto i 50 anni vedono diminuire il proprio peso relativo rispetto al 2011. L'indice di vecchiaia è 200,8; la percentuale della popolazione ultrasessantacinquenne è 23,9%. La rete dei servizi territoriali è governata tramite due Aziende Sanitarie, ASP e ASM. Il territorio dell'Azienda Sanitaria di Potenza (ASP) coincide con quello dell'intera provincia e ha una superficie di 6.546 Kmq suddivisa in 100 comuni nei quali è distribuita una popolazione complessiva di circa 358.000 abitanti (di questi 66.393 concentrati nel comune di Potenza); l'indice di vecchiaia è 207,4, significativamente più alto rispetto al dato regionale e alla provincia di Matera (che si attesta a 189,4). Il territorio della Azienda Sanitaria di Matera (ASM) ha una superficie di 3.527 kmq suddivisa in 31 Comuni con una popolazione complessiva di circa 195.000 abitanti (rif. prospetto 1). \n",
      "-------------\n",
      "La Basilicata copre un'area di 10.073 km² e ha 553.254 abitanti (dato del 2019), distribuiti in 131 comuni. La densità di popolazione è di 54,92 abitanti per km², molto più bassa della media nazionale di 200 abitanti per km². L'età media in Basilicata è di 45,7 anni, leggermente superiore ai 45 anni della media italiana. Dal confronto con i dati del Censimento del 2011, emerge un invecchiamento progressivo della popolazione, più rapido rispetto alla media nazionale. Le fasce d'età sotto i 50 anni sono in diminuzione rispetto al 2011. L'indice di vecchiaia è di 200,8 e il 23,9% della popolazione ha più di 65 anni.\n",
      "\n",
      "La regione è servita da due enti sanitari, l'ASP e l'ASM. L'ASP copre tutta la provincia di Potenza con un'area di 6.546 km² e 100 comuni. Qui vivono circa 358.000 persone, di cui 66.393 a Potenza. L'indice di vecchiaia qui è di 207,4, più alto rispetto al resto della regione e alla provincia di Matera, dove l'indice è 189,4.\n",
      "\n",
      "L'ASM gestisce l'area sanitaria di Matera, che si estende su 3.527 km² e comprende 31 comuni con una popolazione totale di circa 195.000 abitanti.\n",
      "-------------\n",
      "Anche in questo caso il linguaggio \"semplificato\" è facilmente fruibile da tutti i cittadini\n",
      "\n",
      "====== 6 ======\n",
      "Se guardiamo alla tendenza demografica dei comuni e alla piramide d'età del nostro territorio ne desumiamo sicuramente un'esigenza fondamentale sul fronte dei servizi: o la Regione Basilicata investe sui servizi di territorio con innovazione, incremento delle numerosità e varietà di servizi e capacità di governo o uscirà sconfitta dalla evoluzione naturale delle cose. \n",
      "-------------\n",
      "La tendenza demografica e la piramide d'età del nostro territorio mostrano chiaramente che abbiamo bisogno di migliorare i servizi. La Regione Basilicata deve investire in servizi innovativi, aumentare il numero e la varietà di questi e migliorare la loro gestione. Se non lo fa, non riuscirà a tenere il passo con i cambiamenti naturali.\n",
      "-------------\n",
      "\"evoluzione naturale delle cose\" (che è nozione generica) non si può propriamente tradurre in \"cambiamenti naturali\" (che è nozione confinata al tema ambientale)\n",
      "\n",
      "====== 8 ======\n",
      "La distribuzione per comune dell'ICC mette in luce la presenza di aree geografiche caratterizzate da una quota elevata di popolazione affetta da patologie croniche.\n",
      "-------------\n",
      "La distribuzione dell'ICC nei vari comuni mostra che ci sono zone geografiche dove molte persone soffrono di malattie croniche.\n",
      "-------------\n",
      "L''espressione \"molte persone\" dà la sensazione di essere meno precisa rispetto a \"quota elevata\" visto che si tratta di dati \n",
      "\n",
      "====== 10 ======\n",
      "Il presente Piano Operativo Territoriale è finalizzato a promuovere, attraverso gli strumenti del governo clinico, la qualità dell'assistenza, vale a dire un'assistenza che sia:\n",
      "- Efficace, fornendo servizi sanitari basati sull'evidenza a coloro che ne hanno bisogno;\n",
      "- Sicura, evitando danni alle persone cui è destinata la cura;\n",
      "- Centrata sulle persone, fornendo cure che rispondano alle preferenze, ai bisogni e ai valori delle singole persone, così come alle culture delle loro comunità;\n",
      "- Tempestiva, riducendo i tempi di attesa e ritardi talvolta dannosi sia per chi riceve che per chi presta assistenza;\n",
      "- Equa, fornendo la stessa qualità di assistenza indipendentemente da età, sesso, razza, etnia, posizione geografica, religione, stato socioeconomico, affiliazione linguistica o politica;\n",
      "- Integrata, fornendo cure coordinate tra livelli ed erogatori e rendendo disponibile l'intera gamma di servizi sanitari durante tutto il corso della vita;\n",
      "- Efficiente, massimizzando il beneficio delle risorse disponibili ed evitando sprechi\n",
      "-------------\n",
      "Il Piano Operativo Territoriale ha l'obiettivo di migliorare la qualità dell'assistenza sanitaria. Questo piano si basa sui principi del governo clinico e mira a garantire che l'assistenza sia:\n",
      "\n",
      "- Efficace: i servizi sanitari devono basarsi su prove concrete e essere forniti a chi ne ha bisogno.\n",
      "- Sicura: bisogna evitare di causare danni alle persone che ricevono le cure.\n",
      "- Centrata sulle persone: le cure devono rispettare le preferenze, i bisogni e i valori degli individui, tenendo conto anche delle culture delle loro comunità.\n",
      "- Tempestiva: è importante ridurre i tempi di attesa e i ritardi, che possono essere dannosi sia per i pazienti che per gli operatori sanitari.\n",
      "- Equa: tutti devono avere accesso alla stessa qualità di assistenza, senza distinzioni di età, sesso, razza, etnia, luogo di residenza, religione, condizione economica, lingua o orientamento politico.\n",
      "- Integrata: le cure devono essere coordinate tra i vari livelli di assistenza e i diversi erogatori, coprendo tutti i servizi sanitari necessari durante la vita di una persona.\n",
      "- Efficiente: è essenziale utilizzare al meglio le risorse disponibili e evitare sprechi.\n",
      "\n",
      "Questo piano si impegna a realizzare un sistema sanitario migliore e più giusto per tutti.\n",
      "-------------\n",
      "L'espressione \"questo piano si impegna a realizzare un sistema sanitario migliore e più giusto per tutti\" è aggiunta senza che vi siano elementi per trarre questa conclusione né si attanaglia bene ad essere inserita in un Piano Operativo\n",
      "\n",
      "====== 12 ======\n",
      "La componente sanitaria deve operare in stretto raccordo con la componente sociale, al fine di garantire in maniera integrata e coordinata le prestazioni sociosanitarie, siano queste a rilevanza sanitaria o sociale, come ribadito anche dal Piano Sociale Nazionale 2021-2023 predisposto in attuazione dell'art. 21 del D.Lgs. 147/2017che rimarca l'importanza che l'integrazione avvenga già dalla fase programmatoria, in quanto è necessario dare risposte \"opportune al cittadino senza che esso venga rinviato a competenze di altri enti e livelli istituzionali\". \n",
      "-------------\n",
      "Il settore della salute deve lavorare insieme a quello sociale per offrire servizi integrati e coordinati, sia che si tratti di assistenza sanitaria o sociale. Questo approccio è sottolineato anche dal Piano Sociale Nazionale 2021-2023, che segue l'articolo 21 del Decreto Legislativo 147/2017. Il Piano evidenzia l'importanza di iniziare questa integrazione già nella fase di pianificazione, per fornire risposte adeguate ai cittadini senza rimandarli ad altri enti o livelli istituzionali.\n",
      "-------------\n",
      "Si tenga comunque conto che il \"sociosanitario\" è un modello diverso dal sanitario e sociale. Sarebbe opportuno lasciare la parola composta \n",
      "\n",
      "====== 13 ======\n",
      "La programmazione locale non può prescindere dalla preliminare identificazione formale delle responsabilità specifiche nella conduzione integrata degli interventi, dei soggetti istituzionali presenti sul territorio (in particolare Azienda sanitaria locale e Comune), nel rispetto delle disposizioni normative che regolamentano la materia. \n",
      "-------------\n",
      "Per pianificare le attività locali, è necessario prima stabilire chiaramente chi è responsabile di gestire gli interventi in modo coordinato. Questo include gli enti locali come l'Azienda sanitaria locale e il Comune. Bisogna anche seguire le leggi che regolano queste attività.\n",
      "-------------\n",
      "i due ultimi periodi del testo semplificato paiono disconnessi rispetto a quello originale || Nel testo originario si potrebbe intendere l'idea di procedere ad un riparto di competenze, mentre in quello semplificato pare essere identificato un modello gerarchico. In questo caso i due testi non collimano\n",
      "\n",
      "====== 15 ======\n",
      "L'integrazione sociosanitaria va attuata e verificata, salvaguardando la specificità di ciascuna professionalità coinvolta, a tre livelli:\n",
      "- istituzionale: Si realizza attraverso la collaborazione tra istituzioni sociali e sanitarie per la definizione di scelte programmatorie volte a realizzare comuni obiettivi di salute;\n",
      "- gestionale: È relativa alle modalità di gestione che possono promuovere e facilitare percorsi di continuità assistenziale, rispondendo in modo esaustivo e in senso multidimensionale al bisogno complesso di salute;\n",
      "- professionale: Si realizza nella collaborazione tra diverse culture professionali nella gestione del sistema dell'offerta, attraverso l'unitarietà di protocolli degli interventi\n",
      "-------------\n",
      "L'integrazione sociosanitaria deve essere realizzata e controllata, rispettando le caratteristiche di ogni professione coinvolta, su tre livelli:\n",
      "\n",
      "- Istituzionale: Questo livello si basa sulla collaborazione tra enti sociali e sanitari per stabilire piani comuni che mirano a raggiungere obiettivi di salute condivisi.\n",
      "- Gestionale: Riguarda le strategie di gestione che aiutano a creare un servizio continuo e completo, rispondendo in modo efficace e completo alle complesse necessità di salute.\n",
      "- Professionale: Si verifica quando diverse professioni lavorano insieme per gestire l'offerta di servizi, unendo i protocolli di intervento.\n",
      "\n",
      "In ogni livello, è fondamentale mantenere una stretta collaborazione tra i diversi settori per garantire un servizio efficace e integrato.\n",
      "-------------\n",
      "Sebbene sia poco chiaro anche il testo originario, nella versione semplificata prestare attenzione al termine \"multidimensionale\" che nella prestazione delle cure indica l'analisi del paziente secondo schede e modelli stabiliti da norme e regolamenti (vedi valutazione multidimensionale)\n",
      "\n",
      "====== 16 ======\n",
      "Gli strumenti per la programmazione integrata e negoziata dei servizi, a livello locale, sono il Piano delle Attività Territoriali previsto dall'art. 3-quater del D.Lgs. 502/92 e smi di cui è titolare il Distretto ed il Piano di Zona, la cui titolarità spetta all'Ente di ambito sociale, con l'apporto sinergico delle molteplici realtà locali. \n",
      "-------------\n",
      "Gli strumenti principali per organizzare e coordinare i servizi a livello locale sono due: il Piano delle Attività Territoriali e il Piano di Zona. Il primo, previsto dall'articolo 3-quater del Decreto Legislativo 502/92 e successive modifiche, è gestito dal Distretto. Il secondo è gestito dall'Ente di ambito sociale e si sviluppa con la collaborazione attiva delle varie realtà locali.\n",
      "-------------\n",
      "la  programmazione integrata e negoziata dei servizi è uno strumento del parternariato ed ila locuzione non può essere modificata in \"strumenti principali per organizzare e coordinare i servizi \"\n",
      "\n",
      "====== 19 ======\n",
      "Il Servizio Sanitario Regionale (SSR) e gli AST in via prioritaria, garantiscono in modo integrato le attività riguardanti l'accesso ai servizi sanitari e sociali e la presa in carico delle persone non autosufficienti e disabili. \n",
      "-------------\n",
      "Il Servizio Sanitario Regionale (SSR) e gli AST si occupano per primi di fornire in modo coordinato i servizi sanitari e sociali. Questo include aiutare le persone che non possono badare a sé stesse e le persone con disabilità.\n",
      "-------------\n",
      "Il concetto di presa in carico in ambito socio-sanitario non è equivalente ad \"aiutare\". La semplificazione, in questo punto, potrebbe essere eccessiva\n",
      "\n",
      "====== 20 ======\n",
      "La Regione Basilicata intende, pertanto, attivare un modello organizzativo che consenta un utilizzo funzionale e coordinato delle risorse, anche professionali, capace di mettere in rete le prestazioni di maggior impatto sulle situazioni di disagio personale e sociale, erogate in tutti gli ambiti previsti dai LEA anche al fine di \"garantire il benessere psicologico individuale e collettivo\" della popolazione, così come previsto anche dal comma 2 dell'art. 29 ter della Legge del 13/10/2020, n. 126. In questo ambito le farmacie convenzionate con il SSN ubicate uniformemente sull'intero territorio nazionale, costituiscono presidi sanitari di prossimità e rappresentano un elemento fondamentale ed integrante del Servizio sanitario nazionale. \n",
      "-------------\n",
      "La Regione Basilicata vuole quindi creare un sistema organizzativo che usi in modo efficace e coordinato le risorse, comprese quelle professionali. Questo sistema mira a collegare i servizi che hanno un grande impatto sulle difficoltà personali e sociali, offerti in tutti i settori previsti dai Livelli Essenziali di Assistenza (LEA). L'obiettivo è assicurare il benessere psicologico sia individuale che collettivo della popolazione, come indicato anche dall'articolo 29 ter, comma 2, della Legge del 13 ottobre 2020, numero 126. In questo contesto, le farmacie che hanno un accordo con il Sistema Sanitario Nazionale (SSN) e che si trovano in tutto il territorio nazionale, sono importanti punti di assistenza sanitaria vicini ai cittadini e sono un elemento essenziale del Servizio sanitario nazionale.\n",
      "-------------\n",
      "\"Integrante\" non è ridondante: inserisce le farmacie nel SSN non solo formalmente, ma anche sostanzialmente\n",
      "\n",
      "====== 24 ======\n",
      "Il Piano Nazionale di Ripresa e Resilienza (PNRR), inviato il 30 aprile alla Commissione europea e approvato il 22 giugno dalla Commissione Europea e il 13 luglio dal Consiglio Economia e Finanza (Ecofin), è la risposta strategica ai problemi strutturali, organizzativi e sociali presenti in Italia ed evidenziati a seguito dalla pandemia da Covid 19. Il Piano si articola in 6 Missioni, ovvero aree tematiche principali su cui intervenire, individuate in piena coerenza con i 6 pilastri del Next Generation EU: digitalizzazione, innovazione, competitività e cultura; transizione ecologica; infrastrutture per una mobilità sostenibile; istruzione e ricerca; Inclusione e coesione e salute. Le Missioni si articolano in Componenti, ovvero aree di intervento che affrontano sfide specifiche, composte a loro volta da Investimenti e Riforme.\n",
      "-------------\n",
      "Il Piano Nazionale di Ripresa e Resilienza (PNRR) è stato inviato alla Commissione europea il 30 aprile e approvato il 22 giugno dalla stessa Commissione e il 13 luglio dal Consiglio Economia e Finanza (Ecofin). Questo Piano rappresenta la strategia dell'Italia per affrontare i problemi causati dalla pandemia di Covid-19, che riguardano la struttura, l'organizzazione e la società del paese.\n",
      "\n",
      "Il PNRR si divide in sei grandi aree di intervento, chiamate Missioni, che rispecchiano i sei pilastri del programma europeo Next Generation EU. Queste aree sono: digitalizzazione, innovazione, competitività e cultura; transizione ecologica; infrastrutture per una mobilità sostenibile; istruzione e ricerca; inclusione e coesione sociale; e salute.\n",
      "\n",
      "Ogni Missione comprende diverse Componenti, che sono sotto-aree focalizzate su sfide specifiche. Queste Componenti includono sia Investimenti che Riforme per raggiungere gli obiettivi del Piano.\n",
      "-------------\n",
      "\"Questo Piano rappresenta la strategia dell'Italia\" sarebbe più corretto precisare che la strategia è stata prospettata dall'UE per l'Italia\n",
      "\n",
      "====== 26 ======\n",
      "La Componente 1, in particolare, ha l'obiettivo di rafforzare le prestazioni erogate sul territorio grazie all'attivazione e al potenziamento di strutture e presidi territoriali (come le Case della Comunità e gli Ospedali di Comunità), migliorare l'assistenza domiciliare, lo sviluppo della telemedicina e una più efficace integrazione con tutti i servizi sociosanitari. Tali strutture vengono puntualmente definite nel PNRR:\n",
      "- la Casa della Comunità come \"lo strumento attraverso cui coordinare tutti i servizi offerti, in particolare ai malati cronici\", una struttura dove \"opererà un team multidisciplinare di medici di medicina generale, pediatri di libera scelta, medici specialistici, infermieri di comunità, altri professionisti della salute\" e che \"potrà ospitare anche assistenti sociali\", \"ha il fine di garantire la promozione, la prevenzione della salute e la presa in carico della comunità di riferimento\";\n",
      "- le Centrali Operative Territoriali (COT) \"una in ogni distretto, con la funzione di coordinare i servizi domiciliari con gli altri servizi sanitari, assicurando l'interfaccia con gli ospedali e la rete di emergenza-urgenza\";\n",
      "- l'Ospedale di Comunità quale \"struttura sanitaria della rete territoriale a ricovero breve e destinata a pazienti che necessitano di interventi sanitari a media/bassa intensità clinica e per degenze di breve durata\", dotata di moduli da indicativamente 20 posti letto (fino ad un massimo di 40 posti letto) e a gestione prevalentemente infermieristica\n",
      "-------------\n",
      "La Componente 1 mira a migliorare i servizi sanitari locali attraverso l'apertura e il rafforzamento di strutture come le Case della Comunità e gli Ospedali di Comunità. Questo obiettivo include anche il potenziamento dell'assistenza a domicilio, lo sviluppo della telemedicina e una migliore integrazione con i servizi sociosanitari.\n",
      "\n",
      "Le Case della Comunità coordinano tutti i servizi per i pazienti, soprattutto quelli con malattie croniche. In queste strutture lavorano team di medici di base, pediatri, specialisti, infermieri di comunità e altri professionisti della salute. Possono anche includere assistenti sociali. Il loro scopo è promuovere la salute, prevenirla e prendersi cura della comunità.\n",
      "\n",
      "Le Centrali Operative Territoriali (COT), una per distretto, coordinano i servizi a domicilio con altri servizi sanitari. Assicurano la connessione con gli ospedali e la rete di emergenza.\n",
      "\n",
      "Gli Ospedali di Comunità sono strutture sanitarie locali per pazienti che necessitano di cure di media o bassa intensità per brevi periodi. Questi ospedali hanno circa 20 posti letto, ma possono arrivare fino a 40, e sono gestiti principalmente da personale infermieristico.\n",
      "-------------\n",
      "Emergenza e urgenza sono non sono due sinonimi, ma termini che indicano giuridicamente e sanitariamente situazioni differenti, tanto che è possibile, in emergenza, garantirne solo una delle due. Nella semplificazione non è possibile elidere \"urgenza\" o renderlo sinonimo di emergenza\n",
      "\n",
      "====== 28 ======\n",
      "In merito la recente legge 30 dicembre 2021, n. 234 (Bilancio di previsione dello Stato per l'anno finanziario 2022 e bilancio pluriennale per il triennio 2022-2024) all'art. 1, comma 269, è intervenuta operando modifiche al testo vigente del decreto-legge 30 aprile 2019, n. 35 (c.d. decreto \"Calabria\") che fissa attualmente i limiti della spesa per il personale. L'intervento operato con la legge n. 234/2021 ha operato la stabilizzazione per ogni anno, dal 2019 in poi, della quota ordinaria di possibile aumento della spesa del personale fissata nel 10 per cento dell'incremento annuale del Fondo sanitario regionale rispetto all'esercizio precedente (fermo rimanendo il limite iniziale fissato nel maggior importo di spesa del personale tra quello registrato nell'anno 2018 e quello determinato dall'applicazione della legge n. 191/2009). \n",
      "-------------\n",
      "La legge del 30 dicembre 2021, numero 234, ha modificato il decreto-legge del 30 aprile 2019, numero 35, noto come decreto \"Calabria\". Questo decreto stabilisce i limiti di spesa per il personale. Con la nuova legge, ogni anno a partire dal 2019, la spesa ordinaria per il personale può aumentare fino al 10% dell'incremento annuale del Fondo sanitario regionale rispetto all'anno precedente. Questo aumento non può superare l'importo maggiore tra la spesa del personale del 2018 e quella calcolata secondo la legge numero 191 del 2009.\n",
      "-------------\n",
      "Eliminato il titolo della norma\n",
      "\n",
      "====== 30 ======\n",
      "Il percorso del possibile incremento ordinario (non collegato alla sola emergenza pandemica da Covid-19) delle risorse del personale degli Enti sanitari è, pertanto, vincolato alla preventiva definizione degli standard organizzativi, tecnologici e quantitativi relativi all'assistenza territoriale e della conseguente metodologia per la determinazione del fabbisogno di personale, a cui dovrà seguire la successiva predisposizione e adozione del piano regionale dei fabbisogni triennali del personale per il Servizio sanitario regionale, da correlare ai nuovi processi lavorativi riorganizzati primariamente secondo le logiche delle Case della Comunità e della presa in carico assistenziale governata dalla Centrali Operative Territoriali.\n",
      "-------------\n",
      "Per aumentare il personale degli Enti sanitari, non solo a causa dell'emergenza Covid-19, è necessario prima definire gli standard organizzativi, tecnologici e quantitativi per l'assistenza sul territorio. Successivamente, si deve stabilire come calcolare il fabbisogno di personale. Dopo, si deve preparare e approvare il piano regionale triennale per il personale del Servizio sanitario regionale. Questo piano deve essere collegato ai nuovi metodi di lavoro, organizzati principalmente secondo le logiche delle Case della Comunità e della gestione assistenziale delle Centrali Operative Territoriali.\n",
      "-------------\n",
      "Si suggerisce comunque di lasciare piano triennale dei fabbisogni perché individua un puntuale adempimento e il relativo documento, da non confondere con eventuali altri adempimenti del servizio sanitario regionale  \n",
      "\n",
      "====== 32 ======\n",
      "la gestione informatizzata della Valutazione Multidimensionale del paziente cronico e/o fragile e la stesura del Piano di Assistenza Individualizzato (PAI) sulla base della Suite InterRAI© e gli strumenti di individuazione precoce del bisogno InterRAI Contact Assessment e NecPal©. Il RAI o Resident Assessment Instrument (VAOR in Italia) è lo strumento di valutazione multidimensionale elaborato da più di 80 esperti degli Stati Uniti d'America (U.S.A.). Più recentemente il gruppo Inter-RAI, che oggi conta tra le sue fila ricercatori provenienti da oltre 30 Nazioni, ha pubblicato l'ulteriore evoluzione degli strumenti InterRAI ossia la cosiddetta Suite. Gli strumenti di VMD di terza generazione contenuti nella Suite sono: l'InterRAI HC (Home Care); l'InterRAI CHA (Communy Health Assessment); l'InterRAI CA (Contact Assessment); l'InterRAI LTCF (Long Term Care Facility); l'InterRAI AL (Assisted Living); l'InterRAI AC (Acute Care); l'InterRAI MH (Mental Health); l'InterRAI CMH (Comunity Mental Health); l'InterRAI ESP (Emergency Screener for Pschyatry); l'InterRAI PC (Palliative Care); l'InterRAI ID (Intellectual Disability). Attualmente, a seguito di un completo ed approfondito lavoro di revisione, ogni strumento contiene un core comune di item (circa il 70%) ed una restante quota di item setting-specifica. Tutti gli item possiedono definizioni identiche, prevedono gli stessi tempi di osservazione ed uno stesso punteggio. \n",
      "-------------\n",
      "La gestione dei pazienti cronici o fragili avviene tramite un sistema informatizzato che valuta in modo completo il paziente e crea un Piano di Assistenza Individualizzato (PAI). Questo sistema si basa sulla Suite InterRAI© e include strumenti per identificare precocemente le necessità del paziente, come l'InterRAI Contact Assessment e il NecPal©.\n",
      "\n",
      "Il RAI, noto in Italia come VAOR, è uno strumento di valutazione sviluppato da oltre 80 esperti dagli Stati Uniti. Recentemente, il gruppo Inter-RAI, che ora include ricercatori da più di 30 paesi, ha aggiornato questi strumenti con la nuova Suite InterRAI. Questa suite include strumenti di terza generazione per la valutazione multidimensionale, tra cui:\n",
      "\n",
      "- InterRAI HC (Home Care)\n",
      "- InterRAI CHA (Community Health Assessment)\n",
      "- InterRAI CA (Contact Assessment)\n",
      "- InterRAI LTCF (Long Term Care Facility)\n",
      "- InterRAI AL (Assisted Living)\n",
      "- InterRAI AC (Acute Care)\n",
      "- InterRAI MH (Mental Health)\n",
      "- InterRAI CMH (Community Mental Health)\n",
      "- InterRAI ESP (Emergency Screener for Psychiatry)\n",
      "- InterRAI PC (Palliative Care)\n",
      "- InterRAI ID (Intellectual Disability)\n",
      "\n",
      "Dopo una revisione completa, ogni strumento ora include un nucleo comune di elementi (circa il 70%) e una parte specifica per ogni contesto. Tutti gli elementi hanno definizioni uguali, richiedono lo stesso tempo di osservazione e hanno lo stesso sistema di punteggio.\n",
      "-------------\n",
      "L'alternativa tra cronico e fragile non è automatica: esistono pazienti fragili e cronici nello stesso tempo (ad esempio i pazienti CCF). Il \"e/o\" andrebbe lasciato\n",
      "\n",
      "====== 34 ======\n",
      "nuovo modello architetturale per la raccolta, condivisione e utilizzo in tempo reale dei dati prodotti presso i diversi servizi sociosanitari di ambito ospedaliero e territoriale. \n",
      "-------------\n",
      "Stiamo introducendo un nuovo sistema per raccogliere, condividere e usare immediatamente i dati creati dai vari servizi sanitari e sociali negli ospedali e nel territorio.\n",
      "-------------\n",
      "\"Stiamo introducendo un nuovo sistema\" dal testo originale non si desume che si sta introducendo un nuovo sistema || problema del testo originale estratto da una tabella\n",
      "\n",
      "====== 39 ======\n",
      "Il Distretto costituisce l'articolazione organizzativo-funzionale dell'Azienda Sanitaria Locale deputata al perseguimento dell'integrazione tra i diversi servizi e le diverse strutture sanitarie e sociosanitarie presenti sul territorio, in modo da assicurare una risposta coordinata e continua ai bisogni della popolazione. \n",
      "-------------\n",
      "Il Distretto è una parte dell'Azienda Sanitaria Locale che si occupa di coordinare i vari servizi e strutture sanitarie e sociosanitarie del territorio. Questo per garantire una risposta organizzata e costante ai bisogni di salute della popolazione.\n",
      "-------------\n",
      "nel testo originale si parla di integrazione, mentre in quello semplificato di coordinamento || \"Una parte dell'Azienda sanitaria\", però, è diverso dal dire che si sta usando il modello organizzativo-funzionale, per indicare che si tratta di entrambi i modelli in cui sono generalmente divisi i dipartimenti. Usare i due termini, quindi, non è indifferente perché vuol dire che esistono delle strutturazioni funzionali ad altre organizzative che, da un punto di vista dei servizi e dei modelli, sono differenti\n",
      "\n",
      "====== 40 ======\n",
      "Il Distretto costituisce il centro di riferimento per l'accesso a tutti i servizi dell'ASL. È inoltre deputato, anche attraverso la Casa di Comunità, al perseguimento dell'integrazione tra le diverse strutture sanitarie, in modo da assicurare una risposta coordinata e continua ai bisogni della popolazione, l'uniformità dei livelli di assistenza e la pluralità dell'offerta. Il Distretto garantisce inoltre una risposta assistenziale integrata sotto il profilo delle risorse, degli strumenti e delle competenze professionali per determinare una efficace presa in carico della popolazione di riferimento.\n",
      "-------------\n",
      "Il Distretto è il punto principale per accedere ai servizi dell'ASL. Serve anche, tramite la Casa di Comunità, a migliorare la collaborazione tra le varie strutture sanitarie. Questo aiuta a fornire un servizio coordinato e continuo, garantendo che l'assistenza sia uniforme e varia. Inoltre, il Distretto offre un supporto completo, utilizzando risorse, strumenti e competenze professionali per prendersi cura efficacemente della popolazione.\n",
      "-------------\n",
      "Integrazione delle prestazioni \n",
      "\n",
      "====== 46 ======\n",
      "Il Progetto di Salute è uno strumento di programmazione, gestione e verifica; associa la stratificazione della popolazione alla classificazione del \"bisogno di salute\" indentificando gli standard essenziali delle risposte cliniche socioassistenziali, diagnostiche, riabilitative e di prevenzione. Si attiva all'accesso della persona al SSN, tracciando, orientando e supportando la persona e i professionisti nelle fasi di transizione tra i diversi setting di cura, rende accessibili i diversi Progetti di assistenza individuale integrata (PAI) e Piani Riabilitativi Individuali (PRI) anche attraverso la Centrale Operativa Territoriale (COT) ed i sistemi di e-health. Organizza le informazioni per il Fascicolo sanitario elettronico (FSE) e permette la riprogrammazione delle attività su base periodica in seguito alle valutazioni di processo ed esito in relazione al progetto individuale di salute erogato. I PAI ed eventuali PRI così come tutta la documentazione sanitaria acquisita nell'ambito dell'assistenza territoriale del paziente contribuiscono alla composizione del Progetto di Salute di ciascun individuo. Tali modalità in Basilicata sono perseguite attraverso il Sistema Atlante che utilizza la gestione informatizzata della Valutazione Multidimensionale del paziente cronico e/o fragile mediante l'utilizzo degli strumenti della Suite InterRAI, del NECPAL e di ICF/ICF-CY (quest'ultimo per la classificazione), per la stesura del PAI, integrato tra le diverse componenti sanitarie e sociosanitarie avente come caratteristica principale quella di utilizzare la Suite InterRAI TM e lo strumento NecPal®.\n",
      "-------------\n",
      "Il Progetto di Salute è uno strumento che serve per programmare, gestire e controllare le attività sanitarie. Questo progetto inizia quando una persona accede al Servizio Sanitario Nazionale (SSN) e aiuta a seguire e supportare sia i pazienti che i professionisti durante il passaggio tra vari tipi di cure. Permette di accedere a diversi programmi di assistenza personalizzata e piani di riabilitazione attraverso la Centrale Operativa Territoriale e i sistemi di e-health.\n",
      "\n",
      "Il progetto organizza anche le informazioni per il Fascicolo sanitario elettronico e consente di aggiornare periodicamente le attività basandosi sui risultati delle valutazioni. Tutti i piani di assistenza individuale e la documentazione sanitaria raccolta contribuiscono a formare il Progetto di Salute di ogni persona.\n",
      "\n",
      "In Basilicata, queste attività sono gestite tramite il Sistema Atlante. Questo sistema usa una gestione informatizzata per valutare i pazienti cronici o fragili, utilizzando strumenti specifici come la Suite InterRAI e il NecPal® per creare piani di assistenza che integrano servizi sanitari e sociosanitari.\n",
      "-------------\n",
      "nel testo tradotto potevano essere conservati gli acronimi. || riferimento ICF/ICF-CY eliminato\n",
      "\n",
      "====== 47 ======\n",
      "La proposta di riorganizzazione, è quella di un Distretto che abbia una \"governance\" forte, tesa a coordinare ed erogare prestazioni sanitarie territoriali rispondenti ai bisogni di salute di una popolazione sempre più anziana e portatrice di pluripatologie. Il Distretto deve realizzare una Committenza condivisa, nella quale, con l'assunzione di responsabilità del Direttore di Distretto, si declina la programmazione dei servizi, l'obiettivo di salute di popolazione, l'integrazione con gli Ambiti sociali, la relazione con il privato accreditato, l'onere di cura con l'area Ospedaliera e le AOR di riferimento, la definizione dei rapporti e delle modalità di partecipazione del volontariato. \n",
      "-------------\n",
      "La proposta riguarda la creazione di un Distretto con una gestione forte, mirata a coordinare e fornire servizi sanitari locali adeguati alle esigenze di una popolazione che sta invecchiando e che presenta molteplici malattie. Il Distretto deve stabilire una gestione condivisa, guidata dal Direttore di Distretto. Questo include la pianificazione dei servizi sanitari, il raggiungimento degli obiettivi di salute per la popolazione, la collaborazione con i servizi sociali, il rapporto con il settore privato accreditato, la gestione delle cure in collaborazione con gli ospedali e le Aziende Ospedaliere Regionali (AOR), e l'organizzazione del lavoro volontario.\n",
      "-------------\n",
      "Governance non è equivalente di gestione;\n",
      "\n",
      "====== 49 ======\n",
      "Organizzazione dei Distretti in base alla popolazione e nel rispetto degli ambiti per garantire omogeneità amministrativa tra ambiti sociali aree programma e Distretto sociosanitario.\n",
      "-------------\n",
      "L'organizzazione dei Distretti viene fatta considerando il numero di abitanti e rispettando i confini per assicurare che ci sia uniformità nella gestione tra le diverse zone sociali, le aree di programma e il Distretto sociosanitario.\n",
      "-------------\n",
      "ambito e confine. Ambito, in questo senso, credo sia più sinonimo di settore e non di confine\n",
      "\n",
      "====== 52 ======\n",
      "Considerato l'aumento della popolazione di riferimento a cui offrire risposte assistenziali eque ed omogenee, considerate le strutture private accreditate esistenti e le strutture ospedaliere da cui acquistare prestazioni, la Direzione Distrettuale si configura con una capacità operativa rilevante, a cui necessita individuare la rete dell'offerta assistenziale ma anche di renderla \"navigabile\", costruendo relazioni stabili tra i nodi della rete stessa, definendo nuove competenze che sappiano prendersi carico della transizione dell'assistenza nei vari setting, fino alla personalizzazione di una risposta assistenziale basata su Piani Assistenziali Individuali, costruendo relazioni e interdisciplinarietà, superando finanche il concetto di standardizzazione delle cure a favore di una personalizzazione delle stesse. \n",
      "-------------\n",
      "A causa dell'aumento delle persone che hanno bisogno di assistenza, e considerando sia le strutture private accreditate sia gli ospedali da cui acquistiamo servizi, la Direzione Distrettuale ha un ruolo importante. Deve organizzare e rendere facilmente accessibile la rete dei servizi assistenziali. Questo include stabilire connessioni solide tra i vari servizi, definire nuove competenze per gestire il passaggio dell'assistenza tra diversi ambienti e personalizzare l'assistenza attraverso Piani Assistenziali Individuali. Inoltre, mira a superare l'idea di standardizzare le cure per concentrarsi sulla personalizzazione delle stesse.\n",
      "-------------\n",
      "\"eque ed  omogenee\" è stato eliminato\n",
      "\n",
      "====== 53 ======\n",
      "In particolare, rientrano nel livello di assistenza distrettuale, le seguenti attività assistenziali:\n",
      "- cure primarie; \n",
      "- farmaceutica; \n",
      "- domiciliare nelle sue varie forme e intensità in risposta al fabbisogno delle persone;\n",
      "- specialistica ambulatoriale e protesica; \n",
      "- riabilitativa; \n",
      "- consultoriale, familiare, pediatrica e psicologica; \n",
      "- sociosanitaria; \n",
      "- dipendenze patologiche; \n",
      "- residenziale e semiresidenziale socio sanitaria territoriale\n",
      "-------------\n",
      "Le attività di assistenza distrettuale includono:\n",
      "- Cure primarie\n",
      "- Servizi farmaceutici\n",
      "- Assistenza domiciliare, in diverse forme e intensità, secondo le necessità delle persone\n",
      "- Assistenza specialistica ambulatoriale e protesica\n",
      "- Assistenza riabilitativa\n",
      "- Consulenza familiare, pediatrica e psicologica\n",
      "- Assistenza sociosanitaria\n",
      "- Trattamento delle dipendenze patologiche\n",
      "- Assistenza residenziale e semiresidenziale socio-sanitaria sul territorio\n",
      "-------------\n",
      "Consultorio e consulenza non sono esattamente la stessa cosa, andrebbe rivisto\n",
      "\n",
      "====== 56 ======\n",
      "L'Ufficio di coordinamento delle attività distrettuali UCAD è in staff al Direttore di distretto, con funzioni consultive e propositive in tema di:\n",
      "- distribuzione delle risorse umane tra le diverse articolazioni organizzative distrettuali coerente ai fabbisogni e compatibile con la dotazione organica complessiva del distretto;\n",
      "- rapporti interprofessionali, comprese le modalità di integrazione/interrelazione di MMG, PLS, MCA e specialisti ambulatoriali convenzionati; \n",
      "- bisogni e percorsi formativi delle diverse professionalità su tematiche di carattere generale; \n",
      "- predisposizione del PASD- PAD;\n",
      "- qualsiasi altra materia il Direttore di Distretto ritenga opportuno sottoporre.\n",
      "-------------\n",
      "L'Ufficio di coordinamento delle attività distrettuali (UCAD) supporta il Direttore di distretto e ha il compito di dare consigli e fare proposte su vari argomenti:\n",
      "- Come distribuire il personale nelle varie strutture del distretto, assicurandosi che ci sia abbastanza personale in base alle necessità e che il numero totale di dipendenti non superi il limite stabilito;\n",
      "- Come migliorare la collaborazione tra diversi tipi di professionisti sanitari, inclusi medici di base, pediatri, medici di continuità assistenziale e specialisti che lavorano in ambulatori;\n",
      "- Quali corsi di formazione sono necessari per i vari professionisti su argomenti generali;\n",
      "- Preparazione del Piano di Assistenza Sanitaria Distrettuale (PASD-PAD);\n",
      "- Qualsiasi altro argomento che il Direttore di Distretto decida di discutere.\n",
      "-------------\n",
      "\"E' in staff al Direttore di distretto\" vuol dire che l'ufficio è strutturalmente posto nell'area staff, quindi non indipendente né gerarchicamente al di sotto. Va lasciato per determinare come viene strutturata l'organizzazione; \"convenzionati\" non può essere eliminato perché indica del personale che è al di fuori dell'azienda sanitaria perché, appunto, in convenzione\n",
      "\n",
      "====== 57 ======\n",
      "Sempre in staff al Direttore di distretto deve essere previsto il Comitato per le Medicine di Gruppo Integrate composto dai Referenti delle Medicine di Gruppo Integrate attivate nel territorio distrettuale. Tale Comitato svolge funzioni consultive e propositive al fine di assicurare un collegamento costante tra gli obiettivi e le attività assegnate alle Medicine di Gruppo Integrate e gli obiettivi ed attività aziendali, oltre che fungere da luogo di confronto nella organizzazione delle attività proprie previste nei contratti di esercizio. Le modalità di funzionamento di detto Comitato verranno disciplinate da apposito regolamento aziendale. \n",
      "-------------\n",
      "Nell'ufficio del Direttore di distretto deve essere presente il Comitato per le Medicine di Gruppo Integrate. Questo Comitato è formato dai rappresentanti delle Medicine di Gruppo Integrate attive nel distretto. Il suo ruolo è dare consigli e fare proposte per mantenere un collegamento costante tra gli obiettivi e le attività delle Medicine di Gruppo Integrate e quelli dell'azienda. Serve anche come spazio di discussione per organizzare le attività previste nei contratti di lavoro. Le regole di funzionamento del Comitato saranno stabilite da un regolamento aziendale specifico.\n",
      "-------------\n",
      "non sono sicurissimo che in via tecnica \"referente\" e \"rappresentante\" siano, in questo contesto, sinonimi || staff, in questo contesto, è inteso più come equipe e non \"ufficio\"; \"funzioni consultive e propositive\" sono i poteri del Comitato ed è più corretto utilizzare questa terminologia e non \"dare consigli e fare proposte\"\n",
      "\n",
      "====== 58 ======\n",
      "Secondo le linee di indirizzo della Direzione Aziendale, costruisce reti e relazioni operative con altre articolazioni di altre Aziende, nonché con l'Ambito territoriale di riferimento con il quale definisce per extenso i percorsi di welfare socio-sanitario, in un'ottica di sostenibilità dei servizi, sovrintende ai bisogni sanitari ma anche ai bisogni interni dei propri dipendenti e collaboratori, rendendo congruo il sistema tra domanda e offerta, ricollocando geograficamente i punti di erogazione o centralizzandoli se del caso per migliorarne volumi e qualità, o rendendoli in teleconsulto ove ciò sia praticabile o necessario. In sostanza esprime una \"Visione\" del percorso di assistenza, traccia le coordinate di riferimento sociale, impone il senso di direzione delle azioni e definisce gli obiettivi di salute della sua popolazione, nel tempo, privilegiando principi di equità, prossimità, tempestività, appropriatezza, innovazione, modulando la complessità degli interventi secondo una nuova flessibilità organizzativa che la crisi Covid ci ha imposto di praticare. \n",
      "-------------\n",
      "La Direzione Aziendale lavora per costruire relazioni con altre strutture e con l'ambito territoriale di riferimento. Insieme, definiscono i percorsi di welfare socio-sanitario, puntando alla sostenibilità dei servizi. La Direzione si occupa sia delle esigenze sanitarie della popolazione che delle necessità interne dei dipendenti e collaboratori. Cerca di bilanciare la domanda e l'offerta di servizi, spostando o centralizzando i punti di erogazione per migliorarne qualità e quantità, o attivando il teleconsulto quando possibile o necessario.\n",
      "\n",
      "La Direzione ha una visione chiara del percorso di assistenza e stabilisce gli obiettivi di salute per la popolazione, considerando il tempo e basandosi su principi di equità, prossimità, tempestività, appropriatezza e innovazione. Adatta la complessità degli interventi a una nuova flessibilità organizzativa, una necessità emersa con la crisi Covid.\n",
      "-------------\n",
      "nel testo originale non si comprende bene chi sia il soggetto che potrebbe non essere la Direzione generale\n",
      "\n"
     ]
    }
   ],
   "source": [
    "for a in final_df.dropna(subset='q5').to_dict(orient='records'):\n",
    "  print(f'====== {a[\"paragraph_index\"]} ======')\n",
    "  print(a['original_text'])\n",
    "  print('-------------')\n",
    "  print(a['simplified_text'])\n",
    "  print('-------------')\n",
    "  print(a['q5'])\n",
    "  print()"
   ]
  }
 ],
 "metadata": {
  "colab": {
   "authorship_tag": "ABX9TyMfHcanBAO0m3PfmUnCkSXB",
   "mount_file_id": "15PYoq7pY-M_IWfkuSHv0WRIs379ZN_eD",
   "provenance": []
  },
  "kernelspec": {
   "display_name": ".venv",
   "language": "python",
   "name": "python3"
  },
  "language_info": {
   "codemirror_mode": {
    "name": "ipython",
    "version": 3
   },
   "file_extension": ".py",
   "mimetype": "text/x-python",
   "name": "python",
   "nbconvert_exporter": "python",
   "pygments_lexer": "ipython3",
   "version": "3.12.2"
  }
 },
 "nbformat": 4,
 "nbformat_minor": 0
}
